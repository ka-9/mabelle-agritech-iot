{
  "nbformat": 4,
  "nbformat_minor": 0,
  "metadata": {
    "colab": {
      "provenance": []
    },
    "kernelspec": {
      "name": "python3",
      "display_name": "Python 3"
    },
    "language_info": {
      "name": "python"
    }
  },
  "cells": [
    {
      "cell_type": "markdown",
      "source": [
        "# Agriculture Artificial Neural Network"
      ],
      "metadata": {
        "id": "0qloHu_GJTet"
      }
    },
    {
      "cell_type": "markdown",
      "source": [
        "## Imports"
      ],
      "metadata": {
        "id": "lGLP9WcJKMjB"
      }
    },
    {
      "cell_type": "code",
      "source": [
        "import pandas as pd\n",
        "import torch\n",
        "import torch.nn as nn\n",
        "import torch.optim as optim\n",
        "from sklearn.preprocessing import MinMaxScaler\n",
        "from sklearn.model_selection import train_test_split\n",
        "import matplotlib.pyplot as plt"
      ],
      "metadata": {
        "id": "qG-gPl5qKgvu"
      },
      "execution_count": null,
      "outputs": []
    },
    {
      "cell_type": "markdown",
      "source": [
        "## Import Data from excel"
      ],
      "metadata": {
        "id": "9mGCaxP2Ky-J"
      }
    },
    {
      "cell_type": "code",
      "source": [
        "file_path = 'balanced_data_2.xlsx'\n",
        "df = pd.read_excel(file_path)"
      ],
      "metadata": {
        "id": "xNGFKSgJK4LR"
      },
      "execution_count": null,
      "outputs": []
    },
    {
      "cell_type": "code",
      "source": [
        "df.head()"
      ],
      "metadata": {
        "colab": {
          "base_uri": "https://localhost:8080/",
          "height": 243
        },
        "id": "7a4rlFzTR93L",
        "outputId": "35ec003f-f3d9-4428-a319-6cdf1af8075e"
      },
      "execution_count": null,
      "outputs": [
        {
          "output_type": "execute_result",
          "data": {
            "text/plain": [
              "   Unnamed: 0  Nitrogen  Phosphorus  Potassium  Temperature  Humidity  \\\n",
              "0           0         4           6          8            3         3   \n",
              "1           1         9           9          2            0         3   \n",
              "2           2         7           6         13            0         0   \n",
              "3           3        13           6         11            1         1   \n",
              "4           4        10           7          4            5         0   \n",
              "\n",
              "   rain_intensity  nitrogen_expectation  nitrogen_added  \\\n",
              "0               2                    12               8   \n",
              "1               0                    12               3   \n",
              "2               1                     9               2   \n",
              "3               1                     9               0   \n",
              "4               3                    14               4   \n",
              "\n",
              "   phosphorus_expectation  phophorus_added  potassium_expectation  \\\n",
              "0                       5                0                      6   \n",
              "1                       4                0                      6   \n",
              "2                       3                0                      5   \n",
              "3                       3                0                      5   \n",
              "4                       6                0                      8   \n",
              "\n",
              "   potassium_added  water_expectation  \n",
              "0                0                  3  \n",
              "1                4                  1  \n",
              "2                0                  1  \n",
              "3                0                  1  \n",
              "4                4                  3  "
            ],
            "text/html": [
              "\n",
              "  <div id=\"df-86c60d78-d95c-4d38-90f1-f65be1ae9ff3\" class=\"colab-df-container\">\n",
              "    <div>\n",
              "<style scoped>\n",
              "    .dataframe tbody tr th:only-of-type {\n",
              "        vertical-align: middle;\n",
              "    }\n",
              "\n",
              "    .dataframe tbody tr th {\n",
              "        vertical-align: top;\n",
              "    }\n",
              "\n",
              "    .dataframe thead th {\n",
              "        text-align: right;\n",
              "    }\n",
              "</style>\n",
              "<table border=\"1\" class=\"dataframe\">\n",
              "  <thead>\n",
              "    <tr style=\"text-align: right;\">\n",
              "      <th></th>\n",
              "      <th>Unnamed: 0</th>\n",
              "      <th>Nitrogen</th>\n",
              "      <th>Phosphorus</th>\n",
              "      <th>Potassium</th>\n",
              "      <th>Temperature</th>\n",
              "      <th>Humidity</th>\n",
              "      <th>rain_intensity</th>\n",
              "      <th>nitrogen_expectation</th>\n",
              "      <th>nitrogen_added</th>\n",
              "      <th>phosphorus_expectation</th>\n",
              "      <th>phophorus_added</th>\n",
              "      <th>potassium_expectation</th>\n",
              "      <th>potassium_added</th>\n",
              "      <th>water_expectation</th>\n",
              "    </tr>\n",
              "  </thead>\n",
              "  <tbody>\n",
              "    <tr>\n",
              "      <th>0</th>\n",
              "      <td>0</td>\n",
              "      <td>4</td>\n",
              "      <td>6</td>\n",
              "      <td>8</td>\n",
              "      <td>3</td>\n",
              "      <td>3</td>\n",
              "      <td>2</td>\n",
              "      <td>12</td>\n",
              "      <td>8</td>\n",
              "      <td>5</td>\n",
              "      <td>0</td>\n",
              "      <td>6</td>\n",
              "      <td>0</td>\n",
              "      <td>3</td>\n",
              "    </tr>\n",
              "    <tr>\n",
              "      <th>1</th>\n",
              "      <td>1</td>\n",
              "      <td>9</td>\n",
              "      <td>9</td>\n",
              "      <td>2</td>\n",
              "      <td>0</td>\n",
              "      <td>3</td>\n",
              "      <td>0</td>\n",
              "      <td>12</td>\n",
              "      <td>3</td>\n",
              "      <td>4</td>\n",
              "      <td>0</td>\n",
              "      <td>6</td>\n",
              "      <td>4</td>\n",
              "      <td>1</td>\n",
              "    </tr>\n",
              "    <tr>\n",
              "      <th>2</th>\n",
              "      <td>2</td>\n",
              "      <td>7</td>\n",
              "      <td>6</td>\n",
              "      <td>13</td>\n",
              "      <td>0</td>\n",
              "      <td>0</td>\n",
              "      <td>1</td>\n",
              "      <td>9</td>\n",
              "      <td>2</td>\n",
              "      <td>3</td>\n",
              "      <td>0</td>\n",
              "      <td>5</td>\n",
              "      <td>0</td>\n",
              "      <td>1</td>\n",
              "    </tr>\n",
              "    <tr>\n",
              "      <th>3</th>\n",
              "      <td>3</td>\n",
              "      <td>13</td>\n",
              "      <td>6</td>\n",
              "      <td>11</td>\n",
              "      <td>1</td>\n",
              "      <td>1</td>\n",
              "      <td>1</td>\n",
              "      <td>9</td>\n",
              "      <td>0</td>\n",
              "      <td>3</td>\n",
              "      <td>0</td>\n",
              "      <td>5</td>\n",
              "      <td>0</td>\n",
              "      <td>1</td>\n",
              "    </tr>\n",
              "    <tr>\n",
              "      <th>4</th>\n",
              "      <td>4</td>\n",
              "      <td>10</td>\n",
              "      <td>7</td>\n",
              "      <td>4</td>\n",
              "      <td>5</td>\n",
              "      <td>0</td>\n",
              "      <td>3</td>\n",
              "      <td>14</td>\n",
              "      <td>4</td>\n",
              "      <td>6</td>\n",
              "      <td>0</td>\n",
              "      <td>8</td>\n",
              "      <td>4</td>\n",
              "      <td>3</td>\n",
              "    </tr>\n",
              "  </tbody>\n",
              "</table>\n",
              "</div>\n",
              "    <div class=\"colab-df-buttons\">\n",
              "\n",
              "  <div class=\"colab-df-container\">\n",
              "    <button class=\"colab-df-convert\" onclick=\"convertToInteractive('df-86c60d78-d95c-4d38-90f1-f65be1ae9ff3')\"\n",
              "            title=\"Convert this dataframe to an interactive table.\"\n",
              "            style=\"display:none;\">\n",
              "\n",
              "  <svg xmlns=\"http://www.w3.org/2000/svg\" height=\"24px\" viewBox=\"0 -960 960 960\">\n",
              "    <path d=\"M120-120v-720h720v720H120Zm60-500h600v-160H180v160Zm220 220h160v-160H400v160Zm0 220h160v-160H400v160ZM180-400h160v-160H180v160Zm440 0h160v-160H620v160ZM180-180h160v-160H180v160Zm440 0h160v-160H620v160Z\"/>\n",
              "  </svg>\n",
              "    </button>\n",
              "\n",
              "  <style>\n",
              "    .colab-df-container {\n",
              "      display:flex;\n",
              "      gap: 12px;\n",
              "    }\n",
              "\n",
              "    .colab-df-convert {\n",
              "      background-color: #E8F0FE;\n",
              "      border: none;\n",
              "      border-radius: 50%;\n",
              "      cursor: pointer;\n",
              "      display: none;\n",
              "      fill: #1967D2;\n",
              "      height: 32px;\n",
              "      padding: 0 0 0 0;\n",
              "      width: 32px;\n",
              "    }\n",
              "\n",
              "    .colab-df-convert:hover {\n",
              "      background-color: #E2EBFA;\n",
              "      box-shadow: 0px 1px 2px rgba(60, 64, 67, 0.3), 0px 1px 3px 1px rgba(60, 64, 67, 0.15);\n",
              "      fill: #174EA6;\n",
              "    }\n",
              "\n",
              "    .colab-df-buttons div {\n",
              "      margin-bottom: 4px;\n",
              "    }\n",
              "\n",
              "    [theme=dark] .colab-df-convert {\n",
              "      background-color: #3B4455;\n",
              "      fill: #D2E3FC;\n",
              "    }\n",
              "\n",
              "    [theme=dark] .colab-df-convert:hover {\n",
              "      background-color: #434B5C;\n",
              "      box-shadow: 0px 1px 3px 1px rgba(0, 0, 0, 0.15);\n",
              "      filter: drop-shadow(0px 1px 2px rgba(0, 0, 0, 0.3));\n",
              "      fill: #FFFFFF;\n",
              "    }\n",
              "  </style>\n",
              "\n",
              "    <script>\n",
              "      const buttonEl =\n",
              "        document.querySelector('#df-86c60d78-d95c-4d38-90f1-f65be1ae9ff3 button.colab-df-convert');\n",
              "      buttonEl.style.display =\n",
              "        google.colab.kernel.accessAllowed ? 'block' : 'none';\n",
              "\n",
              "      async function convertToInteractive(key) {\n",
              "        const element = document.querySelector('#df-86c60d78-d95c-4d38-90f1-f65be1ae9ff3');\n",
              "        const dataTable =\n",
              "          await google.colab.kernel.invokeFunction('convertToInteractive',\n",
              "                                                    [key], {});\n",
              "        if (!dataTable) return;\n",
              "\n",
              "        const docLinkHtml = 'Like what you see? Visit the ' +\n",
              "          '<a target=\"_blank\" href=https://colab.research.google.com/notebooks/data_table.ipynb>data table notebook</a>'\n",
              "          + ' to learn more about interactive tables.';\n",
              "        element.innerHTML = '';\n",
              "        dataTable['output_type'] = 'display_data';\n",
              "        await google.colab.output.renderOutput(dataTable, element);\n",
              "        const docLink = document.createElement('div');\n",
              "        docLink.innerHTML = docLinkHtml;\n",
              "        element.appendChild(docLink);\n",
              "      }\n",
              "    </script>\n",
              "  </div>\n",
              "\n",
              "\n",
              "<div id=\"df-b0e60d18-31c8-4acb-956f-47b6064ee0a7\">\n",
              "  <button class=\"colab-df-quickchart\" onclick=\"quickchart('df-b0e60d18-31c8-4acb-956f-47b6064ee0a7')\"\n",
              "            title=\"Suggest charts\"\n",
              "            style=\"display:none;\">\n",
              "\n",
              "<svg xmlns=\"http://www.w3.org/2000/svg\" height=\"24px\"viewBox=\"0 0 24 24\"\n",
              "     width=\"24px\">\n",
              "    <g>\n",
              "        <path d=\"M19 3H5c-1.1 0-2 .9-2 2v14c0 1.1.9 2 2 2h14c1.1 0 2-.9 2-2V5c0-1.1-.9-2-2-2zM9 17H7v-7h2v7zm4 0h-2V7h2v10zm4 0h-2v-4h2v4z\"/>\n",
              "    </g>\n",
              "</svg>\n",
              "  </button>\n",
              "\n",
              "<style>\n",
              "  .colab-df-quickchart {\n",
              "      --bg-color: #E8F0FE;\n",
              "      --fill-color: #1967D2;\n",
              "      --hover-bg-color: #E2EBFA;\n",
              "      --hover-fill-color: #174EA6;\n",
              "      --disabled-fill-color: #AAA;\n",
              "      --disabled-bg-color: #DDD;\n",
              "  }\n",
              "\n",
              "  [theme=dark] .colab-df-quickchart {\n",
              "      --bg-color: #3B4455;\n",
              "      --fill-color: #D2E3FC;\n",
              "      --hover-bg-color: #434B5C;\n",
              "      --hover-fill-color: #FFFFFF;\n",
              "      --disabled-bg-color: #3B4455;\n",
              "      --disabled-fill-color: #666;\n",
              "  }\n",
              "\n",
              "  .colab-df-quickchart {\n",
              "    background-color: var(--bg-color);\n",
              "    border: none;\n",
              "    border-radius: 50%;\n",
              "    cursor: pointer;\n",
              "    display: none;\n",
              "    fill: var(--fill-color);\n",
              "    height: 32px;\n",
              "    padding: 0;\n",
              "    width: 32px;\n",
              "  }\n",
              "\n",
              "  .colab-df-quickchart:hover {\n",
              "    background-color: var(--hover-bg-color);\n",
              "    box-shadow: 0 1px 2px rgba(60, 64, 67, 0.3), 0 1px 3px 1px rgba(60, 64, 67, 0.15);\n",
              "    fill: var(--button-hover-fill-color);\n",
              "  }\n",
              "\n",
              "  .colab-df-quickchart-complete:disabled,\n",
              "  .colab-df-quickchart-complete:disabled:hover {\n",
              "    background-color: var(--disabled-bg-color);\n",
              "    fill: var(--disabled-fill-color);\n",
              "    box-shadow: none;\n",
              "  }\n",
              "\n",
              "  .colab-df-spinner {\n",
              "    border: 2px solid var(--fill-color);\n",
              "    border-color: transparent;\n",
              "    border-bottom-color: var(--fill-color);\n",
              "    animation:\n",
              "      spin 1s steps(1) infinite;\n",
              "  }\n",
              "\n",
              "  @keyframes spin {\n",
              "    0% {\n",
              "      border-color: transparent;\n",
              "      border-bottom-color: var(--fill-color);\n",
              "      border-left-color: var(--fill-color);\n",
              "    }\n",
              "    20% {\n",
              "      border-color: transparent;\n",
              "      border-left-color: var(--fill-color);\n",
              "      border-top-color: var(--fill-color);\n",
              "    }\n",
              "    30% {\n",
              "      border-color: transparent;\n",
              "      border-left-color: var(--fill-color);\n",
              "      border-top-color: var(--fill-color);\n",
              "      border-right-color: var(--fill-color);\n",
              "    }\n",
              "    40% {\n",
              "      border-color: transparent;\n",
              "      border-right-color: var(--fill-color);\n",
              "      border-top-color: var(--fill-color);\n",
              "    }\n",
              "    60% {\n",
              "      border-color: transparent;\n",
              "      border-right-color: var(--fill-color);\n",
              "    }\n",
              "    80% {\n",
              "      border-color: transparent;\n",
              "      border-right-color: var(--fill-color);\n",
              "      border-bottom-color: var(--fill-color);\n",
              "    }\n",
              "    90% {\n",
              "      border-color: transparent;\n",
              "      border-bottom-color: var(--fill-color);\n",
              "    }\n",
              "  }\n",
              "</style>\n",
              "\n",
              "  <script>\n",
              "    async function quickchart(key) {\n",
              "      const quickchartButtonEl =\n",
              "        document.querySelector('#' + key + ' button');\n",
              "      quickchartButtonEl.disabled = true;  // To prevent multiple clicks.\n",
              "      quickchartButtonEl.classList.add('colab-df-spinner');\n",
              "      try {\n",
              "        const charts = await google.colab.kernel.invokeFunction(\n",
              "            'suggestCharts', [key], {});\n",
              "      } catch (error) {\n",
              "        console.error('Error during call to suggestCharts:', error);\n",
              "      }\n",
              "      quickchartButtonEl.classList.remove('colab-df-spinner');\n",
              "      quickchartButtonEl.classList.add('colab-df-quickchart-complete');\n",
              "    }\n",
              "    (() => {\n",
              "      let quickchartButtonEl =\n",
              "        document.querySelector('#df-b0e60d18-31c8-4acb-956f-47b6064ee0a7 button');\n",
              "      quickchartButtonEl.style.display =\n",
              "        google.colab.kernel.accessAllowed ? 'block' : 'none';\n",
              "    })();\n",
              "  </script>\n",
              "</div>\n",
              "\n",
              "    </div>\n",
              "  </div>\n"
            ],
            "application/vnd.google.colaboratory.intrinsic+json": {
              "type": "dataframe",
              "variable_name": "df",
              "summary": "{\n  \"name\": \"df\",\n  \"rows\": 3450,\n  \"fields\": [\n    {\n      \"column\": \"Unnamed: 0\",\n      \"properties\": {\n        \"dtype\": \"number\",\n        \"std\": 996,\n        \"min\": 0,\n        \"max\": 3449,\n        \"num_unique_values\": 3450,\n        \"samples\": [\n          1451,\n          51,\n          567\n        ],\n        \"semantic_type\": \"\",\n        \"description\": \"\"\n      }\n    },\n    {\n      \"column\": \"Nitrogen\",\n      \"properties\": {\n        \"dtype\": \"number\",\n        \"std\": 4,\n        \"min\": 0,\n        \"max\": 14,\n        \"num_unique_values\": 15,\n        \"samples\": [\n          12,\n          2,\n          4\n        ],\n        \"semantic_type\": \"\",\n        \"description\": \"\"\n      }\n    },\n    {\n      \"column\": \"Phosphorus\",\n      \"properties\": {\n        \"dtype\": \"number\",\n        \"std\": 4,\n        \"min\": 0,\n        \"max\": 14,\n        \"num_unique_values\": 15,\n        \"samples\": [\n          2,\n          3,\n          6\n        ],\n        \"semantic_type\": \"\",\n        \"description\": \"\"\n      }\n    },\n    {\n      \"column\": \"Potassium\",\n      \"properties\": {\n        \"dtype\": \"number\",\n        \"std\": 4,\n        \"min\": 0,\n        \"max\": 14,\n        \"num_unique_values\": 15,\n        \"samples\": [\n          3,\n          6,\n          8\n        ],\n        \"semantic_type\": \"\",\n        \"description\": \"\"\n      }\n    },\n    {\n      \"column\": \"Temperature\",\n      \"properties\": {\n        \"dtype\": \"number\",\n        \"std\": 2,\n        \"min\": 0,\n        \"max\": 6,\n        \"num_unique_values\": 7,\n        \"samples\": [\n          3,\n          0,\n          2\n        ],\n        \"semantic_type\": \"\",\n        \"description\": \"\"\n      }\n    },\n    {\n      \"column\": \"Humidity\",\n      \"properties\": {\n        \"dtype\": \"number\",\n        \"std\": 1,\n        \"min\": 0,\n        \"max\": 5,\n        \"num_unique_values\": 5,\n        \"samples\": [\n          0,\n          2,\n          1\n        ],\n        \"semantic_type\": \"\",\n        \"description\": \"\"\n      }\n    },\n    {\n      \"column\": \"rain_intensity\",\n      \"properties\": {\n        \"dtype\": \"number\",\n        \"std\": 1,\n        \"min\": 0,\n        \"max\": 3,\n        \"num_unique_values\": 4,\n        \"samples\": [\n          0,\n          3,\n          2\n        ],\n        \"semantic_type\": \"\",\n        \"description\": \"\"\n      }\n    },\n    {\n      \"column\": \"nitrogen_expectation\",\n      \"properties\": {\n        \"dtype\": \"number\",\n        \"std\": 1,\n        \"min\": 9,\n        \"max\": 14,\n        \"num_unique_values\": 5,\n        \"samples\": [\n          9,\n          13,\n          14\n        ],\n        \"semantic_type\": \"\",\n        \"description\": \"\"\n      }\n    },\n    {\n      \"column\": \"nitrogen_added\",\n      \"properties\": {\n        \"dtype\": \"number\",\n        \"std\": 4,\n        \"min\": 0,\n        \"max\": 14,\n        \"num_unique_values\": 15,\n        \"samples\": [\n          12,\n          6,\n          8\n        ],\n        \"semantic_type\": \"\",\n        \"description\": \"\"\n      }\n    },\n    {\n      \"column\": \"phosphorus_expectation\",\n      \"properties\": {\n        \"dtype\": \"number\",\n        \"std\": 1,\n        \"min\": 3,\n        \"max\": 6,\n        \"num_unique_values\": 4,\n        \"samples\": [\n          4,\n          6,\n          5\n        ],\n        \"semantic_type\": \"\",\n        \"description\": \"\"\n      }\n    },\n    {\n      \"column\": \"phophorus_added\",\n      \"properties\": {\n        \"dtype\": \"number\",\n        \"std\": 1,\n        \"min\": 0,\n        \"max\": 6,\n        \"num_unique_values\": 7,\n        \"samples\": [\n          0,\n          4,\n          6\n        ],\n        \"semantic_type\": \"\",\n        \"description\": \"\"\n      }\n    },\n    {\n      \"column\": \"potassium_expectation\",\n      \"properties\": {\n        \"dtype\": \"number\",\n        \"std\": 1,\n        \"min\": 5,\n        \"max\": 8,\n        \"num_unique_values\": 4,\n        \"samples\": [\n          5,\n          7,\n          6\n        ],\n        \"semantic_type\": \"\",\n        \"description\": \"\"\n      }\n    },\n    {\n      \"column\": \"potassium_added\",\n      \"properties\": {\n        \"dtype\": \"number\",\n        \"std\": 2,\n        \"min\": 0,\n        \"max\": 8,\n        \"num_unique_values\": 9,\n        \"samples\": [\n          3,\n          4,\n          7\n        ],\n        \"semantic_type\": \"\",\n        \"description\": \"\"\n      }\n    },\n    {\n      \"column\": \"water_expectation\",\n      \"properties\": {\n        \"dtype\": \"number\",\n        \"std\": 1,\n        \"min\": 1,\n        \"max\": 4,\n        \"num_unique_values\": 4,\n        \"samples\": [\n          1,\n          4,\n          3\n        ],\n        \"semantic_type\": \"\",\n        \"description\": \"\"\n      }\n    }\n  ]\n}"
            }
          },
          "metadata": {},
          "execution_count": 3
        }
      ]
    },
    {
      "cell_type": "markdown",
      "source": [
        "## Splitting the Data"
      ],
      "metadata": {
        "id": "MqOjehyRLD3v"
      }
    },
    {
      "cell_type": "code",
      "source": [
        "features = df.columns[1:7]\n",
        "X = torch.tensor(df[features].values, dtype=torch.float32)\n",
        "y = torch.tensor(df[df.columns[7:]].values, dtype=torch.float32)"
      ],
      "metadata": {
        "id": "vT2rbf4CLGc3"
      },
      "execution_count": null,
      "outputs": []
    },
    {
      "cell_type": "code",
      "source": [
        "X"
      ],
      "metadata": {
        "colab": {
          "base_uri": "https://localhost:8080/"
        },
        "id": "whAb4AJ4RvU1",
        "outputId": "0131b1a7-dc8a-4285-8772-32d0e29151f0"
      },
      "execution_count": null,
      "outputs": [
        {
          "output_type": "execute_result",
          "data": {
            "text/plain": [
              "tensor([[ 4.,  6.,  8.,  3.,  3.,  2.],\n",
              "        [ 9.,  9.,  2.,  0.,  3.,  0.],\n",
              "        [ 7.,  6., 13.,  0.,  0.,  1.],\n",
              "        ...,\n",
              "        [ 8.,  4.,  0.,  0.,  1.,  1.],\n",
              "        [ 6., 13., 10.,  3.,  2.,  2.],\n",
              "        [ 7.,  7.,  5.,  4.,  1.,  3.]])"
            ]
          },
          "metadata": {},
          "execution_count": 5
        }
      ]
    },
    {
      "cell_type": "code",
      "source": [
        "y.shape"
      ],
      "metadata": {
        "colab": {
          "base_uri": "https://localhost:8080/"
        },
        "id": "Pn9PPgLAc2M6",
        "outputId": "47080155-90ed-4e7b-aed5-89d194e3f293"
      },
      "execution_count": null,
      "outputs": [
        {
          "output_type": "execute_result",
          "data": {
            "text/plain": [
              "torch.Size([3450, 7])"
            ]
          },
          "metadata": {},
          "execution_count": 16
        }
      ]
    },
    {
      "cell_type": "code",
      "source": [
        "X_train, X_test, y_train, y_test = train_test_split(X, y, test_size=0.2, random_state=42)"
      ],
      "metadata": {
        "id": "767SYAufRu2C"
      },
      "execution_count": null,
      "outputs": []
    },
    {
      "cell_type": "markdown",
      "source": [
        "## Creating the Neural Network"
      ],
      "metadata": {
        "id": "2K-Z583VLtGv"
      }
    },
    {
      "cell_type": "code",
      "source": [
        "class NeuralNetwork(nn.Module):\n",
        "    def __init__(self):\n",
        "        super(NeuralNetwork, self).__init__()\n",
        "        self.layer1 = nn.Linear(len(features), 32)\n",
        "        self.layer2 = nn.Linear(32, 32)\n",
        "        self.output = nn.Linear(32, 7)\n",
        "\n",
        "    def forward(self, x):\n",
        "        x = torch.relu(self.layer1(x))\n",
        "        x = torch.relu(self.layer2(x))\n",
        "        return self.output(x)"
      ],
      "metadata": {
        "id": "ktfw0eaDLsua"
      },
      "execution_count": null,
      "outputs": []
    },
    {
      "cell_type": "markdown",
      "source": [
        "## Compile Network"
      ],
      "metadata": {
        "id": "qEXs9v8qMBLH"
      }
    },
    {
      "cell_type": "code",
      "source": [
        "model = NeuralNetwork()\n",
        "print(model)"
      ],
      "metadata": {
        "id": "3P6B2IgUMA3Q",
        "colab": {
          "base_uri": "https://localhost:8080/"
        },
        "outputId": "5f27f692-d4da-4e4c-a099-3eb4d91046b7"
      },
      "execution_count": null,
      "outputs": [
        {
          "output_type": "stream",
          "name": "stdout",
          "text": [
            "NeuralNetwork(\n",
            "  (layer1): Linear(in_features=6, out_features=32, bias=True)\n",
            "  (layer2): Linear(in_features=32, out_features=32, bias=True)\n",
            "  (output): Linear(in_features=32, out_features=7, bias=True)\n",
            ")\n"
          ]
        }
      ]
    },
    {
      "cell_type": "markdown",
      "source": [
        "# Loading the Data"
      ],
      "metadata": {
        "id": "vxF-ho-eWUmv"
      }
    },
    {
      "cell_type": "code",
      "source": [
        "# Create a TensorDataset\n",
        "train_dataset = torch.utils.data.TensorDataset(X_train, y_train)\n",
        "\n",
        "# Create a DataLoader with the specified batch size\n",
        "train_loader = torch.utils.data.DataLoader(train_dataset, batch_size=20, shuffle=True)"
      ],
      "metadata": {
        "id": "x-oEM2X-WV8S"
      },
      "execution_count": null,
      "outputs": []
    },
    {
      "cell_type": "markdown",
      "source": [
        "## Loss and optimizer\n"
      ],
      "metadata": {
        "id": "8D_HDqpRMFOd"
      }
    },
    {
      "cell_type": "code",
      "source": [
        "criterion = nn.MSELoss()\n",
        "optimizer = optim.Adam(model.parameters(), lr=0.01)"
      ],
      "metadata": {
        "id": "PNZxqpjvMIz7"
      },
      "execution_count": null,
      "outputs": []
    },
    {
      "cell_type": "markdown",
      "source": [
        "## Training loop\n"
      ],
      "metadata": {
        "id": "jav4JaPeMMya"
      }
    },
    {
      "cell_type": "code",
      "source": [
        "epochs = 100\n",
        "losses = []\n",
        "avg_losses = []\n",
        "for epoch in range(epochs):\n",
        "    model.train()\n",
        "    for inputs, targets in train_loader:  # Iterate over batches\n",
        "        optimizer.zero_grad()\n",
        "        outputs = model(inputs)\n",
        "        loss = criterion(outputs, targets)\n",
        "        loss.backward()\n",
        "        optimizer.step()\n",
        "        losses.append(loss.item())\n",
        "    print(f'Epoch {epoch+1}, Average Loss: {sum(losses) / len(losses)}')\n",
        "    avg_losses.append(sum(losses) / len(losses))"
      ],
      "metadata": {
        "id": "cBXTB_xSMO_h",
        "colab": {
          "base_uri": "https://localhost:8080/"
        },
        "outputId": "f2981de4-4377-49c3-b731-259243b25117"
      },
      "execution_count": null,
      "outputs": [
        {
          "output_type": "stream",
          "name": "stdout",
          "text": [
            "Epoch 1, Average Loss: 3.2976239600043367\n",
            "Epoch 2, Average Loss: 1.9984457655877308\n",
            "Epoch 3, Average Loss: 1.485130188041839\n",
            "Epoch 4, Average Loss: 1.2087415948078253\n",
            "Epoch 5, Average Loss: 1.0411158699272336\n",
            "Epoch 6, Average Loss: 0.9287012822134195\n",
            "Epoch 7, Average Loss: 0.846340140231401\n",
            "Epoch 8, Average Loss: 0.7818893792809568\n",
            "Epoch 9, Average Loss: 0.7331978475701981\n",
            "Epoch 10, Average Loss: 0.6924776628181555\n",
            "Epoch 11, Average Loss: 0.6595064575669793\n",
            "Epoch 12, Average Loss: 0.6296607652535113\n",
            "Epoch 13, Average Loss: 0.6067642731552605\n",
            "Epoch 14, Average Loss: 0.5853552461310635\n",
            "Epoch 15, Average Loss: 0.5658366953585171\n",
            "Epoch 16, Average Loss: 0.5481155580010914\n",
            "Epoch 17, Average Loss: 0.5321186805066144\n",
            "Epoch 18, Average Loss: 0.5183496139073765\n",
            "Epoch 19, Average Loss: 0.504046128527137\n",
            "Epoch 20, Average Loss: 0.49082964751329544\n",
            "Epoch 21, Average Loss: 0.4791503076957702\n",
            "Epoch 22, Average Loss: 0.46801155158692825\n",
            "Epoch 23, Average Loss: 0.4565452294261033\n",
            "Epoch 24, Average Loss: 0.445039001185501\n",
            "Epoch 25, Average Loss: 0.4335237803104995\n",
            "Epoch 26, Average Loss: 0.4230334515659473\n",
            "Epoch 27, Average Loss: 0.41341298673915816\n",
            "Epoch 28, Average Loss: 0.4040845163662071\n",
            "Epoch 29, Average Loss: 0.39505869259537457\n",
            "Epoch 30, Average Loss: 0.38533251579886907\n",
            "Epoch 31, Average Loss: 0.3759588044965766\n",
            "Epoch 32, Average Loss: 0.36738876220719563\n",
            "Epoch 33, Average Loss: 0.3595607805764814\n",
            "Epoch 34, Average Loss: 0.35165462013372145\n",
            "Epoch 35, Average Loss: 0.3438686742977573\n",
            "Epoch 36, Average Loss: 0.33617615150835145\n",
            "Epoch 37, Average Loss: 0.32909417822789233\n",
            "Epoch 38, Average Loss: 0.3223873867609266\n",
            "Epoch 39, Average Loss: 0.3161675655814279\n",
            "Epoch 40, Average Loss: 0.3100500257415832\n",
            "Epoch 41, Average Loss: 0.30378092020472197\n",
            "Epoch 42, Average Loss: 0.2983138029742536\n",
            "Epoch 43, Average Loss: 0.29260101625466683\n",
            "Epoch 44, Average Loss: 0.2872200073304369\n",
            "Epoch 45, Average Loss: 0.2819694344650192\n",
            "Epoch 46, Average Loss: 0.2770095151554495\n",
            "Epoch 47, Average Loss: 0.2720724930067788\n",
            "Epoch 48, Average Loss: 0.2674463306495173\n",
            "Epoch 49, Average Loss: 0.2628253162520365\n",
            "Epoch 50, Average Loss: 0.25836656933326435\n",
            "Epoch 51, Average Loss: 0.25419304603522863\n",
            "Epoch 52, Average Loss: 0.25030819812001515\n",
            "Epoch 53, Average Loss: 0.2462925356421859\n",
            "Epoch 54, Average Loss: 0.24241270242439872\n",
            "Epoch 55, Average Loss: 0.23854193849923463\n",
            "Epoch 56, Average Loss: 0.23481769259950613\n",
            "Epoch 57, Average Loss: 0.23121057448071847\n",
            "Epoch 58, Average Loss: 0.22768274362667695\n",
            "Epoch 59, Average Loss: 0.22451858999330238\n",
            "Epoch 60, Average Loss: 0.22128052822671884\n",
            "Epoch 61, Average Loss: 0.21816897585850414\n",
            "Epoch 62, Average Loss: 0.21536704533275822\n",
            "Epoch 63, Average Loss: 0.21243190908849957\n",
            "Epoch 64, Average Loss: 0.20957278951718236\n",
            "Epoch 65, Average Loss: 0.20684334670236063\n",
            "Epoch 66, Average Loss: 0.20411179152464182\n",
            "Epoch 67, Average Loss: 0.2015972710146061\n",
            "Epoch 68, Average Loss: 0.199009616498598\n",
            "Epoch 69, Average Loss: 0.1965074955723042\n",
            "Epoch 70, Average Loss: 0.19408202310426326\n",
            "Epoch 71, Average Loss: 0.19189170334451272\n",
            "Epoch 72, Average Loss: 0.18961784966633433\n",
            "Epoch 73, Average Loss: 0.18735829102519233\n",
            "Epoch 74, Average Loss: 0.18520376982446066\n",
            "Epoch 75, Average Loss: 0.1830781364420222\n",
            "Epoch 76, Average Loss: 0.1810165277444619\n",
            "Epoch 77, Average Loss: 0.17902917357162693\n",
            "Epoch 78, Average Loss: 0.1770471638612434\n",
            "Epoch 79, Average Loss: 0.17503532397560262\n",
            "Epoch 80, Average Loss: 0.1731350182512593\n",
            "Epoch 81, Average Loss: 0.17174409689864292\n",
            "Epoch 82, Average Loss: 0.16988376881064735\n",
            "Epoch 83, Average Loss: 0.16809942886831444\n",
            "Epoch 84, Average Loss: 0.1664070653091789\n",
            "Epoch 85, Average Loss: 0.1646956165543482\n",
            "Epoch 86, Average Loss: 0.16300541804803653\n",
            "Epoch 87, Average Loss: 0.16136477455522696\n",
            "Epoch 88, Average Loss: 0.15982707792161277\n",
            "Epoch 89, Average Loss: 0.15859997552741295\n",
            "Epoch 90, Average Loss: 0.15702245297137613\n",
            "Epoch 91, Average Loss: 0.15552013416324112\n",
            "Epoch 92, Average Loss: 0.1540196415689928\n",
            "Epoch 93, Average Loss: 0.15307537249392644\n",
            "Epoch 94, Average Loss: 0.1516774688004348\n",
            "Epoch 95, Average Loss: 0.15025663105259465\n",
            "Epoch 96, Average Loss: 0.14886130252842492\n",
            "Epoch 97, Average Loss: 0.14753236249398846\n",
            "Epoch 98, Average Loss: 0.1461908657385639\n",
            "Epoch 99, Average Loss: 0.1452298225430929\n",
            "Epoch 100, Average Loss: 0.14424587857818394\n"
          ]
        }
      ]
    },
    {
      "cell_type": "markdown",
      "source": [
        "\n",
        "## Plotting the loss over epochs"
      ],
      "metadata": {
        "id": "L5rOJ4aQMUc6"
      }
    },
    {
      "cell_type": "code",
      "source": [
        "plt.figure(figsize=(10, 5))\n",
        "plt.plot(avg_losses, label='Training Loss')\n",
        "plt.title('Loss During Training')\n",
        "plt.xlabel('Epoch')\n",
        "plt.ylabel('Loss')\n",
        "plt.legend()\n",
        "plt.show()"
      ],
      "metadata": {
        "id": "MuUMWxahMXPx",
        "colab": {
          "base_uri": "https://localhost:8080/",
          "height": 487
        },
        "outputId": "c3d7328a-9ddd-4a33-8736-df08ced3b160"
      },
      "execution_count": null,
      "outputs": [
        {
          "output_type": "display_data",
          "data": {
            "text/plain": [
              "<Figure size 1000x500 with 1 Axes>"
            ],
            "image/png": "[encoded data removed]"
          },
          "metadata": {}
        }
      ]
    },
    {
      "cell_type": "code",
      "source": [
        "model.eval()\n",
        "\n",
        "# Forward pass to obtain predictions\n",
        "with torch.no_grad():\n",
        "    predictions = model(X_test)"
      ],
      "metadata": {
        "id": "M3JLOrkGTTmC"
      },
      "execution_count": null,
      "outputs": []
    },
    {
      "cell_type": "code",
      "source": [
        "predictions"
      ],
      "metadata": {
        "colab": {
          "base_uri": "https://localhost:8080/"
        },
        "id": "8MoXoknsT4Mx",
        "outputId": "251e99e5-14e6-456f-90d5-6fe6d50d5236"
      },
      "execution_count": null,
      "outputs": [
        {
          "output_type": "execute_result",
          "data": {
            "text/plain": [
              "tensor([[ 1.2968e+01,  8.8437e+00,  5.1951e+00,  ...,  6.9675e+00,\n",
              "         -4.6917e-02,  1.9871e+00],\n",
              "        [ 1.2079e+01,  1.2043e+01,  4.0704e+00,  ...,  6.0848e+00,\n",
              "         -5.2910e-03,  2.0186e+00],\n",
              "        [ 9.0667e+00,  5.9583e+00,  2.9683e+00,  ...,  4.9809e+00,\n",
              "          5.1154e+00,  1.0458e+00],\n",
              "        ...,\n",
              "        [ 1.4157e+01,  8.0103e+00,  6.0639e+00,  ...,  7.1300e+00,\n",
              "          3.7704e+00,  3.8926e+00],\n",
              "        [ 9.0882e+00,  2.4005e-02,  2.9731e+00,  ...,  4.9872e+00,\n",
              "         -1.3814e-03,  9.9359e-01],\n",
              "        [ 1.2111e+01,  1.0996e+01,  4.0618e+00,  ...,  6.1054e+00,\n",
              "          5.6419e-02,  1.7316e+00]])"
            ]
          },
          "metadata": {},
          "execution_count": 24
        }
      ]
    },
    {
      "cell_type": "code",
      "source": [
        "y_test"
      ],
      "metadata": {
        "colab": {
          "base_uri": "https://localhost:8080/"
        },
        "id": "8rqCMtmxT6hH",
        "outputId": "83881761-e5c3-482c-88fd-3b3704170051"
      },
      "execution_count": null,
      "outputs": [
        {
          "output_type": "execute_result",
          "data": {
            "text/plain": [
              "tensor([[13.,  9.,  5.,  ...,  7.,  0.,  2.],\n",
              "        [12., 12.,  4.,  ...,  6.,  0.,  2.],\n",
              "        [ 9.,  6.,  3.,  ...,  5.,  5.,  1.],\n",
              "        ...,\n",
              "        [14.,  8.,  6.,  ...,  7.,  4.,  4.],\n",
              "        [ 9.,  0.,  3.,  ...,  5.,  0.,  1.],\n",
              "        [12., 11.,  4.,  ...,  6.,  0.,  2.]])"
            ]
          },
          "metadata": {},
          "execution_count": 25
        }
      ]
    },
    {
      "cell_type": "code",
      "source": [
        "from sklearn.metrics import mean_absolute_error, mean_squared_error, r2_score\n",
        "import numpy as np\n",
        "\n",
        "# Calculate Mean Absolute Error (MAE)\n",
        "mae = mean_absolute_error(y_test, predictions)\n",
        "\n",
        "# Calculate Mean Squared Error (MSE)\n",
        "mse = mean_squared_error(y_test, predictions)\n",
        "\n",
        "# Calculate Root Mean Squared Error (RMSE)\n",
        "rmse = np.sqrt(mse)\n",
        "\n",
        "# Calculate R-squared (R2) Score\n",
        "r2 = r2_score(y_test, predictions)\n"
      ],
      "metadata": {
        "id": "MDi8gu_qUQlM"
      },
      "execution_count": null,
      "outputs": []
    },
    {
      "cell_type": "code",
      "source": [
        "print(\"Mean Absolute Error (MAE):\", mae)\n",
        "print(\"Mean Squared Error (MSE):\", mse)\n",
        "print(\"Root Mean Squared Error (RMSE):\", rmse)\n",
        "print(\"R-squared (R2) Score:\", r2)"
      ],
      "metadata": {
        "colab": {
          "base_uri": "https://localhost:8080/"
        },
        "id": "9fZKnjtHVOCA",
        "outputId": "a3957c0a-11a5-49ce-c4ac-509083e24d68"
      },
      "execution_count": null,
      "outputs": [
        {
          "output_type": "stream",
          "name": "stdout",
          "text": [
            "Mean Absolute Error (MAE): 0.0862661\n",
            "Mean Squared Error (MSE): 0.0157374\n",
            "Root Mean Squared Error (RMSE): 0.1254488\n",
            "R-squared (R2) Score: 0.9934692577574086\n"
          ]
        }
      ]
    },
    {
      "cell_type": "markdown",
      "source": [
        "# Saving the Model"
      ],
      "metadata": {
        "id": "HOf1ST8vYY-y"
      }
    },
    {
      "cell_type": "code",
      "source": [
        "# Save the model\n",
        "torch.save(model.state_dict(), 'model_d2.pth')"
      ],
      "metadata": {
        "id": "t3P392BBYaWU"
      },
      "execution_count": null,
      "outputs": []
    },
    {
      "cell_type": "markdown",
      "source": [
        "# ONNX Export"
      ],
      "metadata": {
        "id": "o5r-l16XZcG9"
      }
    },
    {
      "cell_type": "code",
      "source": [
        "!pip install -q onnx onnxruntime"
      ],
      "metadata": {
        "colab": {
          "base_uri": "https://localhost:8080/"
        },
        "id": "7smhuemVZu_7",
        "outputId": "d923d7e7-5dcf-4775-a233-bfe45042c98f"
      },
      "execution_count": null,
      "outputs": [
        {
          "output_type": "stream",
          "name": "stdout",
          "text": [
            "\u001b[2K     \u001b[90m━━━━━━━━━━━━━━━━━━━━━━━━━━━━━━━━━━━━━━━━\u001b[0m \u001b[32m15.9/15.9 MB\u001b[0m \u001b[31m33.3 MB/s\u001b[0m eta \u001b[36m0:00:00\u001b[0m\n",
            "\u001b[2K     \u001b[90m━━━━━━━━━━━━━━━━━━━━━━━━━━━━━━━━━━━━━━━━\u001b[0m \u001b[32m6.8/6.8 MB\u001b[0m \u001b[31m53.8 MB/s\u001b[0m eta \u001b[36m0:00:00\u001b[0m\n",
            "\u001b[2K     \u001b[90m━━━━━━━━━━━━━━━━━━━━━━━━━━━━━━━━━━━━━━━━\u001b[0m \u001b[32m46.0/46.0 kB\u001b[0m \u001b[31m4.3 MB/s\u001b[0m eta \u001b[36m0:00:00\u001b[0m\n",
            "\u001b[2K     \u001b[90m━━━━━━━━━━━━━━━━━━━━━━━━━━━━━━━━━━━━━━━━\u001b[0m \u001b[32m86.8/86.8 kB\u001b[0m \u001b[31m9.4 MB/s\u001b[0m eta \u001b[36m0:00:00\u001b[0m\n",
            "\u001b[?25h"
          ]
        }
      ]
    },
    {
      "cell_type": "code",
      "source": [
        "import torch.onnx\n",
        "\n",
        "# Input to the model\n",
        "dummy_input = torch.randn(1, 6)\n",
        "\n",
        "# Export the model\n",
        "torch.onnx.export(model, dummy_input, 'model_d2_b1.onnx', input_names = ['input'], output_names = ['output'])\n"
      ],
      "metadata": {
        "id": "OZm3oZoNZd9O"
      },
      "execution_count": null,
      "outputs": []
    },
    {
      "cell_type": "markdown",
      "source": [
        "# ONNX Inference"
      ],
      "metadata": {
        "id": "RDhRC94FhMJS"
      }
    },
    {
      "cell_type": "code",
      "source": [
        "import onnx\n",
        "onnx_model = onnx.load(\"model_d2_b1.onnx\")\n",
        "onnx.checker.check_model(onnx_model)"
      ],
      "metadata": {
        "id": "sPMgWYb8cRB0"
      },
      "execution_count": null,
      "outputs": []
    },
    {
      "cell_type": "code",
      "source": [
        "import onnxruntime as ort\n",
        "\n",
        "# Load the ONNX model\n",
        "onnx_model_path = 'model_d2_b1.onnx'\n",
        "ort_session = ort.InferenceSession(onnx_model_path)\n",
        "\n",
        "test_data = [[\n",
        "    [7, 5, 4, 2, 5, 1],\n",
        "    [1, 5, 6, 3]\n",
        "]]\n",
        "\n",
        "# Extract input data\n",
        "x, y = np.array(test_data[0][0], dtype=np.float32), np.array(test_data[0][1], dtype=np.float32)\n",
        "x = np.expand_dims(x, axis=0)  # Add batch dimension\n",
        "\n",
        "# x, y = test_data[0][0], test_data[0][1]\n",
        "ort_sess = ort.InferenceSession('model_d2_b1.onnx')\n",
        "outputs = ort_sess.run(None, {'input': x})\n",
        "\n",
        "\n",
        "# # Print Result\n",
        "# predicted, actual = classes[outputs[0][0].argmax(0)], classes[y]\n",
        "# print(f'Predicted: \"{predicted}\", Actual: \"{actual}\"')"
      ],
      "metadata": {
        "id": "6cvYQjUnaT35"
      },
      "execution_count": null,
      "outputs": []
    },
    {
      "cell_type": "code",
      "source": [
        "outputs"
      ],
      "metadata": {
        "colab": {
          "base_uri": "https://localhost:8080/"
        },
        "id": "eFXaNiTqeTPW",
        "outputId": "6cb4b44b-452c-4b83-c713-ca35823fb464"
      },
      "execution_count": null,
      "outputs": [
        {
          "output_type": "execute_result",
          "data": {
            "text/plain": [
              "[array([[11.297584  ,  4.322093  ,  3.9987867 , -0.12075841,  5.818963  ,\n",
              "          1.8725854 ,  2.5138252 ]], dtype=float32)]"
            ]
          },
          "metadata": {},
          "execution_count": 35
        }
      ]
    },
    {
      "cell_type": "markdown",
      "source": [
        "# NN Visualization"
      ],
      "metadata": {
        "id": "SgIKJ5UoebD6"
      }
    },
    {
      "cell_type": "code",
      "source": [
        "!pip install -q torchviz"
      ],
      "metadata": {
        "colab": {
          "base_uri": "https://localhost:8080/"
        },
        "id": "D1TxCxVgecuE",
        "outputId": "42012f58-c956-4f2b-84c1-97d8afcf5c8e"
      },
      "execution_count": null,
      "outputs": [
        {
          "output_type": "stream",
          "name": "stdout",
          "text": [
            "  Preparing metadata (setup.py) ... \u001b[?25l\u001b[?25hdone\n",
            "  Building wheel for torchviz (setup.py) ... \u001b[?25l\u001b[?25hdone\n"
          ]
        }
      ]
    },
    {
      "cell_type": "code",
      "source": [
        "from torchviz import make_dot\n",
        "\n",
        "model = NeuralNetwork()\n",
        "X = torch.tensor([7, 5, 4, 2, 5, 1], dtype=torch.float32)\n",
        "y = model(X)"
      ],
      "metadata": {
        "id": "rOKgmC89emql"
      },
      "execution_count": null,
      "outputs": []
    },
    {
      "cell_type": "code",
      "source": [
        "make_dot(y.mean(), params=dict(model.named_parameters()), show_attrs=True, show_saved=True)\n"
      ],
      "metadata": {
        "colab": {
          "base_uri": "https://localhost:8080/",
          "height": 1000
        },
        "id": "_wPYhHmegmuA",
        "outputId": "c205cbfa-56be-4342-d89c-4224322831e0"
      },
      "execution_count": null,
      "outputs": [
        {
          "output_type": "execute_result",
          "data": {
            "image/svg+xml": "<?xml version=\"1.0\" encoding=\"UTF-8\" standalone=\"no\"?>\n<!DOCTYPE svg PUBLIC \"-//W3C//DTD SVG 1.1//EN\"\n \"http://www.w3.org/Graphics/SVG/1.1/DTD/svg11.dtd\">\n<!-- Generated by graphviz version 2.43.0 (0)\n -->\n<!-- Title: %3 Pages: 1 -->\n<svg width=\"383pt\" height=\"864pt\"\n viewBox=\"0.00 0.00 383.05 864.00\" xmlns=\"http://www.w3.org/2000/svg\" xmlns:xlink=\"http://www.w3.org/1999/xlink\">\n<g id=\"graph0\" class=\"graph\" transform=\"scale(1.52 1.52) rotate(0) translate(4 1311)\">\n<title>%3</title>\n<polygon fill=\"white\" stroke=\"transparent\" points=\"-4,4 -4,-1311 579,-1311 579,4 -4,4\"/>\n<!-- 133617042207136 -->\n<g id=\"node1\" class=\"node\">\n<title>133617042207136</title>\n<polygon fill=\"#caff70\" stroke=\"black\" points=\"101.5,-31 47.5,-31 47.5,0 101.5,0 101.5,-31\"/>\n<text text-anchor=\"middle\" x=\"74.5\" y=\"-7\" font-family=\"monospace\" font-size=\"10.00\"> ()</text>\n</g>\n<!-- 133617043740112 -->\n<g id=\"node2\" class=\"node\">\n<title>133617043740112</title>\n<polygon fill=\"lightgrey\" stroke=\"black\" points=\"143,-119 6,-119 6,-67 143,-67 143,-119\"/>\n<text text-anchor=\"middle\" x=\"74.5\" y=\"-107\" font-family=\"monospace\" font-size=\"10.00\">MeanBackward0</text>\n<text text-anchor=\"middle\" x=\"74.5\" y=\"-96\" font-family=\"monospace\" font-size=\"10.00\">&#45;&#45;&#45;&#45;&#45;&#45;&#45;&#45;&#45;&#45;&#45;&#45;&#45;&#45;&#45;&#45;&#45;&#45;&#45;&#45;</text>\n<text text-anchor=\"middle\" x=\"74.5\" y=\"-85\" font-family=\"monospace\" font-size=\"10.00\">self_sym_numel: &#160;&#160;&#160;7</text>\n<text text-anchor=\"middle\" x=\"74.5\" y=\"-74\" font-family=\"monospace\" font-size=\"10.00\">self_sym_sizes: (7,)</text>\n</g>\n<!-- 133617043740112&#45;&gt;133617042207136 -->\n<g id=\"edge33\" class=\"edge\">\n<title>133617043740112&#45;&gt;133617042207136</title>\n<path fill=\"none\" stroke=\"black\" d=\"M74.5,-66.86C74.5,-58.63 74.5,-49.49 74.5,-41.29\"/>\n<polygon fill=\"black\" stroke=\"black\" points=\"78,-41.19 74.5,-31.19 71,-41.19 78,-41.19\"/>\n</g>\n<!-- 133617043749856 -->\n<g id=\"node3\" class=\"node\">\n<title>133617043749856</title>\n<polygon fill=\"lightgrey\" stroke=\"black\" points=\"149,-196 0,-196 0,-155 149,-155 149,-196\"/>\n<text text-anchor=\"middle\" x=\"74.5\" y=\"-184\" font-family=\"monospace\" font-size=\"10.00\">ViewBackward0</text>\n<text text-anchor=\"middle\" x=\"74.5\" y=\"-173\" font-family=\"monospace\" font-size=\"10.00\">&#45;&#45;&#45;&#45;&#45;&#45;&#45;&#45;&#45;&#45;&#45;&#45;&#45;&#45;&#45;&#45;&#45;&#45;&#45;&#45;&#45;&#45;</text>\n<text text-anchor=\"middle\" x=\"74.5\" y=\"-162\" font-family=\"monospace\" font-size=\"10.00\">self_sym_sizes: (1, 7)</text>\n</g>\n<!-- 133617043749856&#45;&gt;133617043740112 -->\n<g id=\"edge1\" class=\"edge\">\n<title>133617043749856&#45;&gt;133617043740112</title>\n<path fill=\"none\" stroke=\"black\" d=\"M74.5,-154.6C74.5,-146.99 74.5,-138.06 74.5,-129.43\"/>\n<polygon fill=\"black\" stroke=\"black\" points=\"78,-129.16 74.5,-119.16 71,-129.16 78,-129.16\"/>\n</g>\n<!-- 133617043741792 -->\n<g id=\"node4\" class=\"node\">\n<title>133617043741792</title>\n<polygon fill=\"lightgrey\" stroke=\"black\" points=\"304,-350 95,-350 95,-232 304,-232 304,-350\"/>\n<text text-anchor=\"middle\" x=\"199.5\" y=\"-338\" font-family=\"monospace\" font-size=\"10.00\">AddmmBackward0</text>\n<text text-anchor=\"middle\" x=\"199.5\" y=\"-327\" font-family=\"monospace\" font-size=\"10.00\">&#45;&#45;&#45;&#45;&#45;&#45;&#45;&#45;&#45;&#45;&#45;&#45;&#45;&#45;&#45;&#45;&#45;&#45;&#45;&#45;&#45;&#45;&#45;&#45;&#45;&#45;&#45;&#45;&#45;&#45;&#45;&#45;</text>\n<text text-anchor=\"middle\" x=\"199.5\" y=\"-316\" font-family=\"monospace\" font-size=\"10.00\">alpha &#160;&#160;&#160;&#160;&#160;&#160;&#160;&#160;&#160;&#160;: &#160;&#160;&#160;&#160;&#160;&#160;&#160;&#160;&#160;&#160;&#160;&#160;&#160;1</text>\n<text text-anchor=\"middle\" x=\"199.5\" y=\"-305\" font-family=\"monospace\" font-size=\"10.00\">beta &#160;&#160;&#160;&#160;&#160;&#160;&#160;&#160;&#160;&#160;&#160;: &#160;&#160;&#160;&#160;&#160;&#160;&#160;&#160;&#160;&#160;&#160;&#160;&#160;1</text>\n<text text-anchor=\"middle\" x=\"199.5\" y=\"-294\" font-family=\"monospace\" font-size=\"10.00\">mat1 &#160;&#160;&#160;&#160;&#160;&#160;&#160;&#160;&#160;&#160;&#160;: [saved tensor]</text>\n<text text-anchor=\"middle\" x=\"199.5\" y=\"-283\" font-family=\"monospace\" font-size=\"10.00\">mat1_sym_sizes &#160;: &#160;&#160;&#160;&#160;&#160;&#160;&#160;(1, 32)</text>\n<text text-anchor=\"middle\" x=\"199.5\" y=\"-272\" font-family=\"monospace\" font-size=\"10.00\">mat1_sym_strides: &#160;&#160;&#160;&#160;&#160;&#160;&#160;(32, 1)</text>\n<text text-anchor=\"middle\" x=\"199.5\" y=\"-261\" font-family=\"monospace\" font-size=\"10.00\">mat2 &#160;&#160;&#160;&#160;&#160;&#160;&#160;&#160;&#160;&#160;&#160;: [saved tensor]</text>\n<text text-anchor=\"middle\" x=\"199.5\" y=\"-250\" font-family=\"monospace\" font-size=\"10.00\">mat2_sym_sizes &#160;: &#160;&#160;&#160;&#160;&#160;&#160;&#160;(32, 7)</text>\n<text text-anchor=\"middle\" x=\"199.5\" y=\"-239\" font-family=\"monospace\" font-size=\"10.00\">mat2_sym_strides: &#160;&#160;&#160;&#160;&#160;&#160;&#160;(1, 32)</text>\n</g>\n<!-- 133617043741792&#45;&gt;133617043749856 -->\n<g id=\"edge2\" class=\"edge\">\n<title>133617043741792&#45;&gt;133617043749856</title>\n<path fill=\"none\" stroke=\"black\" d=\"M135.54,-231.92C124.46,-221.86 113.45,-211.86 103.89,-203.18\"/>\n<polygon fill=\"black\" stroke=\"black\" points=\"105.98,-200.36 96.23,-196.23 101.28,-205.54 105.98,-200.36\"/>\n</g>\n<!-- 133618132859008 -->\n<g id=\"node5\" class=\"node\">\n<title>133618132859008</title>\n<polygon fill=\"orange\" stroke=\"black\" points=\"232,-190.5 167,-190.5 167,-160.5 232,-160.5 232,-190.5\"/>\n<text text-anchor=\"middle\" x=\"199.5\" y=\"-178.5\" font-family=\"monospace\" font-size=\"10.00\">mat1</text>\n<text text-anchor=\"middle\" x=\"199.5\" y=\"-167.5\" font-family=\"monospace\" font-size=\"10.00\"> (1, 32)</text>\n</g>\n<!-- 133617043741792&#45;&gt;133618132859008 -->\n<g id=\"edge3\" class=\"edge\">\n<title>133617043741792&#45;&gt;133618132859008</title>\n<path fill=\"none\" stroke=\"black\" d=\"M199.5,-231.92C199.5,-216.65 199.5,-201.51 199.5,-190.92\"/>\n</g>\n<!-- 133617042197216 -->\n<g id=\"node6\" class=\"node\">\n<title>133617042197216</title>\n<polygon fill=\"orange\" stroke=\"black\" points=\"315,-190.5 250,-190.5 250,-160.5 315,-160.5 315,-190.5\"/>\n<text text-anchor=\"middle\" x=\"282.5\" y=\"-178.5\" font-family=\"monospace\" font-size=\"10.00\">mat2</text>\n<text text-anchor=\"middle\" x=\"282.5\" y=\"-167.5\" font-family=\"monospace\" font-size=\"10.00\"> (32, 7)</text>\n</g>\n<!-- 133617043741792&#45;&gt;133617042197216 -->\n<g id=\"edge4\" class=\"edge\">\n<title>133617043741792&#45;&gt;133617042197216</title>\n<path fill=\"none\" stroke=\"black\" d=\"M241.97,-231.92C253.14,-216.65 264.21,-201.51 271.96,-190.92\"/>\n</g>\n<!-- 133617043735840 -->\n<g id=\"node7\" class=\"node\">\n<title>133617043735840</title>\n<polygon fill=\"lightgrey\" stroke=\"black\" points=\"110,-416 9,-416 9,-397 110,-397 110,-416\"/>\n<text text-anchor=\"middle\" x=\"59.5\" y=\"-404\" font-family=\"monospace\" font-size=\"10.00\">AccumulateGrad</text>\n</g>\n<!-- 133617043735840&#45;&gt;133617043741792 -->\n<g id=\"edge5\" class=\"edge\">\n<title>133617043735840&#45;&gt;133617043741792</title>\n<path fill=\"none\" stroke=\"black\" d=\"M70.02,-396.97C81.19,-387.91 99.94,-372.71 119.75,-356.65\"/>\n<polygon fill=\"black\" stroke=\"black\" points=\"122.12,-359.24 127.68,-350.22 117.71,-353.8 122.12,-359.24\"/>\n</g>\n<!-- 133617042208176 -->\n<g id=\"node8\" class=\"node\">\n<title>133617042208176</title>\n<polygon fill=\"lightblue\" stroke=\"black\" points=\"101,-498.5 18,-498.5 18,-468.5 101,-468.5 101,-498.5\"/>\n<text text-anchor=\"middle\" x=\"59.5\" y=\"-486.5\" font-family=\"monospace\" font-size=\"10.00\">output.bias</text>\n<text text-anchor=\"middle\" x=\"59.5\" y=\"-475.5\" font-family=\"monospace\" font-size=\"10.00\"> (7)</text>\n</g>\n<!-- 133617042208176&#45;&gt;133617043735840 -->\n<g id=\"edge6\" class=\"edge\">\n<title>133617042208176&#45;&gt;133617043735840</title>\n<path fill=\"none\" stroke=\"black\" d=\"M59.5,-468.39C59.5,-456.58 59.5,-439.6 59.5,-426.58\"/>\n<polygon fill=\"black\" stroke=\"black\" points=\"63,-426.37 59.5,-416.37 56,-426.37 63,-426.37\"/>\n</g>\n<!-- 133617043745344 -->\n<g id=\"node9\" class=\"node\">\n<title>133617043745344</title>\n<polygon fill=\"lightgrey\" stroke=\"black\" points=\"271,-427 128,-427 128,-386 271,-386 271,-427\"/>\n<text text-anchor=\"middle\" x=\"199.5\" y=\"-415\" font-family=\"monospace\" font-size=\"10.00\">ViewBackward0</text>\n<text text-anchor=\"middle\" x=\"199.5\" y=\"-404\" font-family=\"monospace\" font-size=\"10.00\">&#45;&#45;&#45;&#45;&#45;&#45;&#45;&#45;&#45;&#45;&#45;&#45;&#45;&#45;&#45;&#45;&#45;&#45;&#45;&#45;&#45;</text>\n<text text-anchor=\"middle\" x=\"199.5\" y=\"-393\" font-family=\"monospace\" font-size=\"10.00\">self_sym_sizes: (32,)</text>\n</g>\n<!-- 133617043745344&#45;&gt;133617043741792 -->\n<g id=\"edge7\" class=\"edge\">\n<title>133617043745344&#45;&gt;133617043741792</title>\n<path fill=\"none\" stroke=\"black\" d=\"M199.5,-385.99C199.5,-378.63 199.5,-369.79 199.5,-360.5\"/>\n<polygon fill=\"black\" stroke=\"black\" points=\"203,-360.3 199.5,-350.3 196,-360.3 203,-360.3\"/>\n</g>\n<!-- 133617043737712 -->\n<g id=\"node10\" class=\"node\">\n<title>133617043737712</title>\n<polygon fill=\"lightgrey\" stroke=\"black\" points=\"274,-504 125,-504 125,-463 274,-463 274,-504\"/>\n<text text-anchor=\"middle\" x=\"199.5\" y=\"-492\" font-family=\"monospace\" font-size=\"10.00\">ReluBackward0</text>\n<text text-anchor=\"middle\" x=\"199.5\" y=\"-481\" font-family=\"monospace\" font-size=\"10.00\">&#45;&#45;&#45;&#45;&#45;&#45;&#45;&#45;&#45;&#45;&#45;&#45;&#45;&#45;&#45;&#45;&#45;&#45;&#45;&#45;&#45;&#45;</text>\n<text text-anchor=\"middle\" x=\"199.5\" y=\"-470\" font-family=\"monospace\" font-size=\"10.00\">result: [saved tensor]</text>\n</g>\n<!-- 133617043737712&#45;&gt;133617043745344 -->\n<g id=\"edge8\" class=\"edge\">\n<title>133617043737712&#45;&gt;133617043745344</title>\n<path fill=\"none\" stroke=\"black\" d=\"M199.5,-462.79C199.5,-454.96 199.5,-445.77 199.5,-437.16\"/>\n<polygon fill=\"black\" stroke=\"black\" points=\"203,-437.07 199.5,-427.07 196,-437.07 203,-437.07\"/>\n</g>\n<!-- 133617042209216 -->\n<g id=\"node11\" class=\"node\">\n<title>133617042209216</title>\n<polygon fill=\"orange\" stroke=\"black\" points=\"343.5,-421.5 289.5,-421.5 289.5,-391.5 343.5,-391.5 343.5,-421.5\"/>\n<text text-anchor=\"middle\" x=\"316.5\" y=\"-409.5\" font-family=\"monospace\" font-size=\"10.00\">result</text>\n<text text-anchor=\"middle\" x=\"316.5\" y=\"-398.5\" font-family=\"monospace\" font-size=\"10.00\"> (32)</text>\n</g>\n<!-- 133617043737712&#45;&gt;133617042209216 -->\n<g id=\"edge9\" class=\"edge\">\n<title>133617043737712&#45;&gt;133617042209216</title>\n<path fill=\"none\" stroke=\"black\" d=\"M229.93,-462.99C250.11,-450.06 276.13,-433.38 294.35,-421.7\"/>\n</g>\n<!-- 133617043735312 -->\n<g id=\"node12\" class=\"node\">\n<title>133617043735312</title>\n<polygon fill=\"lightgrey\" stroke=\"black\" points=\"262,-581 107,-581 107,-540 262,-540 262,-581\"/>\n<text text-anchor=\"middle\" x=\"184.5\" y=\"-569\" font-family=\"monospace\" font-size=\"10.00\">ViewBackward0</text>\n<text text-anchor=\"middle\" x=\"184.5\" y=\"-558\" font-family=\"monospace\" font-size=\"10.00\">&#45;&#45;&#45;&#45;&#45;&#45;&#45;&#45;&#45;&#45;&#45;&#45;&#45;&#45;&#45;&#45;&#45;&#45;&#45;&#45;&#45;&#45;&#45;</text>\n<text text-anchor=\"middle\" x=\"184.5\" y=\"-547\" font-family=\"monospace\" font-size=\"10.00\">self_sym_sizes: (1, 32)</text>\n</g>\n<!-- 133617043735312&#45;&gt;133617043737712 -->\n<g id=\"edge10\" class=\"edge\">\n<title>133617043735312&#45;&gt;133617043737712</title>\n<path fill=\"none\" stroke=\"black\" d=\"M188.44,-539.79C190.01,-531.96 191.85,-522.77 193.57,-514.16\"/>\n<polygon fill=\"black\" stroke=\"black\" points=\"197.06,-514.57 195.59,-504.07 190.19,-513.19 197.06,-514.57\"/>\n</g>\n<!-- 133617043745440 -->\n<g id=\"node13\" class=\"node\">\n<title>133617043745440</title>\n<polygon fill=\"lightgrey\" stroke=\"black\" points=\"417,-735 208,-735 208,-617 417,-617 417,-735\"/>\n<text text-anchor=\"middle\" x=\"312.5\" y=\"-723\" font-family=\"monospace\" font-size=\"10.00\">AddmmBackward0</text>\n<text text-anchor=\"middle\" x=\"312.5\" y=\"-712\" font-family=\"monospace\" font-size=\"10.00\">&#45;&#45;&#45;&#45;&#45;&#45;&#45;&#45;&#45;&#45;&#45;&#45;&#45;&#45;&#45;&#45;&#45;&#45;&#45;&#45;&#45;&#45;&#45;&#45;&#45;&#45;&#45;&#45;&#45;&#45;&#45;&#45;</text>\n<text text-anchor=\"middle\" x=\"312.5\" y=\"-701\" font-family=\"monospace\" font-size=\"10.00\">alpha &#160;&#160;&#160;&#160;&#160;&#160;&#160;&#160;&#160;&#160;: &#160;&#160;&#160;&#160;&#160;&#160;&#160;&#160;&#160;&#160;&#160;&#160;&#160;1</text>\n<text text-anchor=\"middle\" x=\"312.5\" y=\"-690\" font-family=\"monospace\" font-size=\"10.00\">beta &#160;&#160;&#160;&#160;&#160;&#160;&#160;&#160;&#160;&#160;&#160;: &#160;&#160;&#160;&#160;&#160;&#160;&#160;&#160;&#160;&#160;&#160;&#160;&#160;1</text>\n<text text-anchor=\"middle\" x=\"312.5\" y=\"-679\" font-family=\"monospace\" font-size=\"10.00\">mat1 &#160;&#160;&#160;&#160;&#160;&#160;&#160;&#160;&#160;&#160;&#160;: [saved tensor]</text>\n<text text-anchor=\"middle\" x=\"312.5\" y=\"-668\" font-family=\"monospace\" font-size=\"10.00\">mat1_sym_sizes &#160;: &#160;&#160;&#160;&#160;&#160;&#160;&#160;(1, 32)</text>\n<text text-anchor=\"middle\" x=\"312.5\" y=\"-657\" font-family=\"monospace\" font-size=\"10.00\">mat1_sym_strides: &#160;&#160;&#160;&#160;&#160;&#160;&#160;(32, 1)</text>\n<text text-anchor=\"middle\" x=\"312.5\" y=\"-646\" font-family=\"monospace\" font-size=\"10.00\">mat2 &#160;&#160;&#160;&#160;&#160;&#160;&#160;&#160;&#160;&#160;&#160;: [saved tensor]</text>\n<text text-anchor=\"middle\" x=\"312.5\" y=\"-635\" font-family=\"monospace\" font-size=\"10.00\">mat2_sym_sizes &#160;: &#160;&#160;&#160;&#160;&#160;&#160;(32, 32)</text>\n<text text-anchor=\"middle\" x=\"312.5\" y=\"-624\" font-family=\"monospace\" font-size=\"10.00\">mat2_sym_strides: &#160;&#160;&#160;&#160;&#160;&#160;&#160;(1, 32)</text>\n</g>\n<!-- 133617043745440&#45;&gt;133617043735312 -->\n<g id=\"edge11\" class=\"edge\">\n<title>133617043745440&#45;&gt;133617043735312</title>\n<path fill=\"none\" stroke=\"black\" d=\"M247,-616.92C235.55,-606.76 224.16,-596.66 214.3,-587.92\"/>\n<polygon fill=\"black\" stroke=\"black\" points=\"216.55,-585.25 206.75,-581.23 211.91,-590.48 216.55,-585.25\"/>\n</g>\n<!-- 133617042209776 -->\n<g id=\"node14\" class=\"node\">\n<title>133617042209776</title>\n<polygon fill=\"orange\" stroke=\"black\" points=\"345,-575.5 280,-575.5 280,-545.5 345,-545.5 345,-575.5\"/>\n<text text-anchor=\"middle\" x=\"312.5\" y=\"-563.5\" font-family=\"monospace\" font-size=\"10.00\">mat1</text>\n<text text-anchor=\"middle\" x=\"312.5\" y=\"-552.5\" font-family=\"monospace\" font-size=\"10.00\"> (1, 32)</text>\n</g>\n<!-- 133617043745440&#45;&gt;133617042209776 -->\n<g id=\"edge12\" class=\"edge\">\n<title>133617043745440&#45;&gt;133617042209776</title>\n<path fill=\"none\" stroke=\"black\" d=\"M312.5,-616.92C312.5,-601.65 312.5,-586.51 312.5,-575.92\"/>\n</g>\n<!-- 133617042198336 -->\n<g id=\"node15\" class=\"node\">\n<title>133617042198336</title>\n<polygon fill=\"orange\" stroke=\"black\" points=\"434,-575.5 363,-575.5 363,-545.5 434,-545.5 434,-575.5\"/>\n<text text-anchor=\"middle\" x=\"398.5\" y=\"-563.5\" font-family=\"monospace\" font-size=\"10.00\">mat2</text>\n<text text-anchor=\"middle\" x=\"398.5\" y=\"-552.5\" font-family=\"monospace\" font-size=\"10.00\"> (32, 32)</text>\n</g>\n<!-- 133617043745440&#45;&gt;133617042198336 -->\n<g id=\"edge13\" class=\"edge\">\n<title>133617043745440&#45;&gt;133617042198336</title>\n<path fill=\"none\" stroke=\"black\" d=\"M356.51,-616.92C368.08,-601.65 379.55,-586.51 387.58,-575.92\"/>\n</g>\n<!-- 133617043749088 -->\n<g id=\"node16\" class=\"node\">\n<title>133617043749088</title>\n<polygon fill=\"lightgrey\" stroke=\"black\" points=\"223,-801 122,-801 122,-782 223,-782 223,-801\"/>\n<text text-anchor=\"middle\" x=\"172.5\" y=\"-789\" font-family=\"monospace\" font-size=\"10.00\">AccumulateGrad</text>\n</g>\n<!-- 133617043749088&#45;&gt;133617043745440 -->\n<g id=\"edge14\" class=\"edge\">\n<title>133617043749088&#45;&gt;133617043745440</title>\n<path fill=\"none\" stroke=\"black\" d=\"M183.02,-781.97C194.19,-772.91 212.94,-757.71 232.75,-741.65\"/>\n<polygon fill=\"black\" stroke=\"black\" points=\"235.12,-744.24 240.68,-735.22 230.71,-738.8 235.12,-744.24\"/>\n</g>\n<!-- 133617042194656 -->\n<g id=\"node17\" class=\"node\">\n<title>133617042194656</title>\n<polygon fill=\"lightblue\" stroke=\"black\" points=\"214,-883.5 131,-883.5 131,-853.5 214,-853.5 214,-883.5\"/>\n<text text-anchor=\"middle\" x=\"172.5\" y=\"-871.5\" font-family=\"monospace\" font-size=\"10.00\">layer2.bias</text>\n<text text-anchor=\"middle\" x=\"172.5\" y=\"-860.5\" font-family=\"monospace\" font-size=\"10.00\"> (32)</text>\n</g>\n<!-- 133617042194656&#45;&gt;133617043749088 -->\n<g id=\"edge15\" class=\"edge\">\n<title>133617042194656&#45;&gt;133617043749088</title>\n<path fill=\"none\" stroke=\"black\" d=\"M172.5,-853.39C172.5,-841.58 172.5,-824.6 172.5,-811.58\"/>\n<polygon fill=\"black\" stroke=\"black\" points=\"176,-811.37 172.5,-801.37 169,-811.37 176,-811.37\"/>\n</g>\n<!-- 133617043742128 -->\n<g id=\"node18\" class=\"node\">\n<title>133617043742128</title>\n<polygon fill=\"lightgrey\" stroke=\"black\" points=\"384,-812 241,-812 241,-771 384,-771 384,-812\"/>\n<text text-anchor=\"middle\" x=\"312.5\" y=\"-800\" font-family=\"monospace\" font-size=\"10.00\">ViewBackward0</text>\n<text text-anchor=\"middle\" x=\"312.5\" y=\"-789\" font-family=\"monospace\" font-size=\"10.00\">&#45;&#45;&#45;&#45;&#45;&#45;&#45;&#45;&#45;&#45;&#45;&#45;&#45;&#45;&#45;&#45;&#45;&#45;&#45;&#45;&#45;</text>\n<text text-anchor=\"middle\" x=\"312.5\" y=\"-778\" font-family=\"monospace\" font-size=\"10.00\">self_sym_sizes: (32,)</text>\n</g>\n<!-- 133617043742128&#45;&gt;133617043745440 -->\n<g id=\"edge16\" class=\"edge\">\n<title>133617043742128&#45;&gt;133617043745440</title>\n<path fill=\"none\" stroke=\"black\" d=\"M312.5,-770.99C312.5,-763.63 312.5,-754.79 312.5,-745.5\"/>\n<polygon fill=\"black\" stroke=\"black\" points=\"316,-745.3 312.5,-735.3 309,-745.3 316,-745.3\"/>\n</g>\n<!-- 133617043742560 -->\n<g id=\"node19\" class=\"node\">\n<title>133617043742560</title>\n<polygon fill=\"lightgrey\" stroke=\"black\" points=\"387,-889 238,-889 238,-848 387,-848 387,-889\"/>\n<text text-anchor=\"middle\" x=\"312.5\" y=\"-877\" font-family=\"monospace\" font-size=\"10.00\">ReluBackward0</text>\n<text text-anchor=\"middle\" x=\"312.5\" y=\"-866\" font-family=\"monospace\" font-size=\"10.00\">&#45;&#45;&#45;&#45;&#45;&#45;&#45;&#45;&#45;&#45;&#45;&#45;&#45;&#45;&#45;&#45;&#45;&#45;&#45;&#45;&#45;&#45;</text>\n<text text-anchor=\"middle\" x=\"312.5\" y=\"-855\" font-family=\"monospace\" font-size=\"10.00\">result: [saved tensor]</text>\n</g>\n<!-- 133617043742560&#45;&gt;133617043742128 -->\n<g id=\"edge17\" class=\"edge\">\n<title>133617043742560&#45;&gt;133617043742128</title>\n<path fill=\"none\" stroke=\"black\" d=\"M312.5,-847.79C312.5,-839.96 312.5,-830.77 312.5,-822.16\"/>\n<polygon fill=\"black\" stroke=\"black\" points=\"316,-822.07 312.5,-812.07 309,-822.07 316,-822.07\"/>\n</g>\n<!-- 133617042206016 -->\n<g id=\"node20\" class=\"node\">\n<title>133617042206016</title>\n<polygon fill=\"orange\" stroke=\"black\" points=\"456.5,-806.5 402.5,-806.5 402.5,-776.5 456.5,-776.5 456.5,-806.5\"/>\n<text text-anchor=\"middle\" x=\"429.5\" y=\"-794.5\" font-family=\"monospace\" font-size=\"10.00\">result</text>\n<text text-anchor=\"middle\" x=\"429.5\" y=\"-783.5\" font-family=\"monospace\" font-size=\"10.00\"> (32)</text>\n</g>\n<!-- 133617043742560&#45;&gt;133617042206016 -->\n<g id=\"edge18\" class=\"edge\">\n<title>133617043742560&#45;&gt;133617042206016</title>\n<path fill=\"none\" stroke=\"black\" d=\"M342.93,-847.99C363.11,-835.06 389.13,-818.38 407.35,-806.7\"/>\n</g>\n<!-- 133617043743808 -->\n<g id=\"node21\" class=\"node\">\n<title>133617043743808</title>\n<polygon fill=\"lightgrey\" stroke=\"black\" points=\"385,-966 230,-966 230,-925 385,-925 385,-966\"/>\n<text text-anchor=\"middle\" x=\"307.5\" y=\"-954\" font-family=\"monospace\" font-size=\"10.00\">ViewBackward0</text>\n<text text-anchor=\"middle\" x=\"307.5\" y=\"-943\" font-family=\"monospace\" font-size=\"10.00\">&#45;&#45;&#45;&#45;&#45;&#45;&#45;&#45;&#45;&#45;&#45;&#45;&#45;&#45;&#45;&#45;&#45;&#45;&#45;&#45;&#45;&#45;&#45;</text>\n<text text-anchor=\"middle\" x=\"307.5\" y=\"-932\" font-family=\"monospace\" font-size=\"10.00\">self_sym_sizes: (1, 32)</text>\n</g>\n<!-- 133617043743808&#45;&gt;133617043742560 -->\n<g id=\"edge19\" class=\"edge\">\n<title>133617043743808&#45;&gt;133617043742560</title>\n<path fill=\"none\" stroke=\"black\" d=\"M308.81,-924.79C309.34,-916.96 309.95,-907.77 310.52,-899.16\"/>\n<polygon fill=\"black\" stroke=\"black\" points=\"314.02,-899.28 311.2,-889.07 307.04,-898.82 314.02,-899.28\"/>\n</g>\n<!-- 133617043748272 -->\n<g id=\"node22\" class=\"node\">\n<title>133617043748272</title>\n<polygon fill=\"lightgrey\" stroke=\"black\" points=\"474,-1120 265,-1120 265,-1002 474,-1002 474,-1120\"/>\n<text text-anchor=\"middle\" x=\"369.5\" y=\"-1108\" font-family=\"monospace\" font-size=\"10.00\">AddmmBackward0</text>\n<text text-anchor=\"middle\" x=\"369.5\" y=\"-1097\" font-family=\"monospace\" font-size=\"10.00\">&#45;&#45;&#45;&#45;&#45;&#45;&#45;&#45;&#45;&#45;&#45;&#45;&#45;&#45;&#45;&#45;&#45;&#45;&#45;&#45;&#45;&#45;&#45;&#45;&#45;&#45;&#45;&#45;&#45;&#45;&#45;&#45;</text>\n<text text-anchor=\"middle\" x=\"369.5\" y=\"-1086\" font-family=\"monospace\" font-size=\"10.00\">alpha &#160;&#160;&#160;&#160;&#160;&#160;&#160;&#160;&#160;&#160;: &#160;&#160;&#160;&#160;&#160;&#160;&#160;&#160;&#160;&#160;&#160;&#160;&#160;1</text>\n<text text-anchor=\"middle\" x=\"369.5\" y=\"-1075\" font-family=\"monospace\" font-size=\"10.00\">beta &#160;&#160;&#160;&#160;&#160;&#160;&#160;&#160;&#160;&#160;&#160;: &#160;&#160;&#160;&#160;&#160;&#160;&#160;&#160;&#160;&#160;&#160;&#160;&#160;1</text>\n<text text-anchor=\"middle\" x=\"369.5\" y=\"-1064\" font-family=\"monospace\" font-size=\"10.00\">mat1 &#160;&#160;&#160;&#160;&#160;&#160;&#160;&#160;&#160;&#160;&#160;: [saved tensor]</text>\n<text text-anchor=\"middle\" x=\"369.5\" y=\"-1053\" font-family=\"monospace\" font-size=\"10.00\">mat1_sym_sizes &#160;: &#160;&#160;&#160;&#160;&#160;&#160;&#160;&#160;(1, 6)</text>\n<text text-anchor=\"middle\" x=\"369.5\" y=\"-1042\" font-family=\"monospace\" font-size=\"10.00\">mat1_sym_strides: &#160;&#160;&#160;&#160;&#160;&#160;&#160;&#160;&#160;&#160;&#160;&#160;()</text>\n<text text-anchor=\"middle\" x=\"369.5\" y=\"-1031\" font-family=\"monospace\" font-size=\"10.00\">mat2 &#160;&#160;&#160;&#160;&#160;&#160;&#160;&#160;&#160;&#160;&#160;: &#160;&#160;&#160;&#160;&#160;&#160;&#160;&#160;&#160;&#160;None</text>\n<text text-anchor=\"middle\" x=\"369.5\" y=\"-1020\" font-family=\"monospace\" font-size=\"10.00\">mat2_sym_sizes &#160;: &#160;&#160;&#160;&#160;&#160;&#160;&#160;(6, 32)</text>\n<text text-anchor=\"middle\" x=\"369.5\" y=\"-1009\" font-family=\"monospace\" font-size=\"10.00\">mat2_sym_strides: &#160;&#160;&#160;&#160;&#160;&#160;&#160;&#160;(1, 6)</text>\n</g>\n<!-- 133617043748272&#45;&gt;133617043743808 -->\n<g id=\"edge20\" class=\"edge\">\n<title>133617043748272&#45;&gt;133617043743808</title>\n<path fill=\"none\" stroke=\"black\" d=\"M337.77,-1001.92C332.66,-992.57 327.58,-983.26 323.08,-975.03\"/>\n<polygon fill=\"black\" stroke=\"black\" points=\"326.14,-973.33 318.28,-966.23 320,-976.68 326.14,-973.33\"/>\n</g>\n<!-- 133617042208496 -->\n<g id=\"node23\" class=\"node\">\n<title>133617042208496</title>\n<polygon fill=\"orange\" stroke=\"black\" points=\"462,-960.5 403,-960.5 403,-930.5 462,-930.5 462,-960.5\"/>\n<text text-anchor=\"middle\" x=\"432.5\" y=\"-948.5\" font-family=\"monospace\" font-size=\"10.00\">mat1</text>\n<text text-anchor=\"middle\" x=\"432.5\" y=\"-937.5\" font-family=\"monospace\" font-size=\"10.00\"> (1, 6)</text>\n</g>\n<!-- 133617043748272&#45;&gt;133617042208496 -->\n<g id=\"edge21\" class=\"edge\">\n<title>133617043748272&#45;&gt;133617042208496</title>\n<path fill=\"none\" stroke=\"black\" d=\"M401.74,-1001.92C410.21,-986.65 418.62,-971.51 424.5,-960.92\"/>\n</g>\n<!-- 133617043737616 -->\n<g id=\"node24\" class=\"node\">\n<title>133617043737616</title>\n<polygon fill=\"lightgrey\" stroke=\"black\" points=\"367,-1175 266,-1175 266,-1156 367,-1156 367,-1175\"/>\n<text text-anchor=\"middle\" x=\"316.5\" y=\"-1163\" font-family=\"monospace\" font-size=\"10.00\">AccumulateGrad</text>\n</g>\n<!-- 133617043737616&#45;&gt;133617043748272 -->\n<g id=\"edge22\" class=\"edge\">\n<title>133617043737616&#45;&gt;133617043748272</title>\n<path fill=\"none\" stroke=\"black\" d=\"M321.02,-1155.76C324.38,-1149.26 329.32,-1139.71 334.77,-1129.16\"/>\n<polygon fill=\"black\" stroke=\"black\" points=\"337.97,-1130.6 339.45,-1120.11 331.75,-1127.39 337.97,-1130.6\"/>\n</g>\n<!-- 133617044736256 -->\n<g id=\"node25\" class=\"node\">\n<title>133617044736256</title>\n<polygon fill=\"lightblue\" stroke=\"black\" points=\"357,-1241 274,-1241 274,-1211 357,-1211 357,-1241\"/>\n<text text-anchor=\"middle\" x=\"315.5\" y=\"-1229\" font-family=\"monospace\" font-size=\"10.00\">layer1.bias</text>\n<text text-anchor=\"middle\" x=\"315.5\" y=\"-1218\" font-family=\"monospace\" font-size=\"10.00\"> (32)</text>\n</g>\n<!-- 133617044736256&#45;&gt;133617043737616 -->\n<g id=\"edge23\" class=\"edge\">\n<title>133617044736256&#45;&gt;133617043737616</title>\n<path fill=\"none\" stroke=\"black\" d=\"M315.74,-1210.84C315.87,-1203.21 316.03,-1193.7 316.18,-1185.45\"/>\n<polygon fill=\"black\" stroke=\"black\" points=\"319.68,-1185.32 316.35,-1175.27 312.68,-1185.2 319.68,-1185.32\"/>\n</g>\n<!-- 133617043738960 -->\n<g id=\"node26\" class=\"node\">\n<title>133617043738960</title>\n<polygon fill=\"lightgrey\" stroke=\"black\" points=\"463,-1175 386,-1175 386,-1156 463,-1156 463,-1175\"/>\n<text text-anchor=\"middle\" x=\"424.5\" y=\"-1163\" font-family=\"monospace\" font-size=\"10.00\">TBackward0</text>\n</g>\n<!-- 133617043738960&#45;&gt;133617043748272 -->\n<g id=\"edge24\" class=\"edge\">\n<title>133617043738960&#45;&gt;133617043748272</title>\n<path fill=\"none\" stroke=\"black\" d=\"M419.81,-1155.76C416.32,-1149.26 411.2,-1139.71 405.54,-1129.16\"/>\n<polygon fill=\"black\" stroke=\"black\" points=\"408.49,-1127.27 400.68,-1120.11 402.33,-1130.58 408.49,-1127.27\"/>\n</g>\n<!-- 133617043740736 -->\n<g id=\"node27\" class=\"node\">\n<title>133617043740736</title>\n<polygon fill=\"lightgrey\" stroke=\"black\" points=\"476,-1235.5 375,-1235.5 375,-1216.5 476,-1216.5 476,-1235.5\"/>\n<text text-anchor=\"middle\" x=\"425.5\" y=\"-1223.5\" font-family=\"monospace\" font-size=\"10.00\">AccumulateGrad</text>\n</g>\n<!-- 133617043740736&#45;&gt;133617043738960 -->\n<g id=\"edge25\" class=\"edge\">\n<title>133617043740736&#45;&gt;133617043738960</title>\n<path fill=\"none\" stroke=\"black\" d=\"M425.35,-1216.37C425.21,-1208.25 425,-1195.81 424.82,-1185.39\"/>\n<polygon fill=\"black\" stroke=\"black\" points=\"428.32,-1185.11 424.65,-1175.17 421.32,-1185.23 428.32,-1185.11\"/>\n</g>\n<!-- 133618132857088 -->\n<g id=\"node28\" class=\"node\">\n<title>133618132857088</title>\n<polygon fill=\"lightblue\" stroke=\"black\" points=\"473,-1307 378,-1307 378,-1277 473,-1277 473,-1307\"/>\n<text text-anchor=\"middle\" x=\"425.5\" y=\"-1295\" font-family=\"monospace\" font-size=\"10.00\">layer1.weight</text>\n<text text-anchor=\"middle\" x=\"425.5\" y=\"-1284\" font-family=\"monospace\" font-size=\"10.00\"> (32, 6)</text>\n</g>\n<!-- 133618132857088&#45;&gt;133617043740736 -->\n<g id=\"edge26\" class=\"edge\">\n<title>133618132857088&#45;&gt;133617043740736</title>\n<path fill=\"none\" stroke=\"black\" d=\"M425.5,-1276.8C425.5,-1267.7 425.5,-1255.79 425.5,-1245.9\"/>\n<polygon fill=\"black\" stroke=\"black\" points=\"429,-1245.84 425.5,-1235.84 422,-1245.84 429,-1245.84\"/>\n</g>\n<!-- 133617043750096 -->\n<g id=\"node29\" class=\"node\">\n<title>133617043750096</title>\n<polygon fill=\"lightgrey\" stroke=\"black\" points=\"561,-801 484,-801 484,-782 561,-782 561,-801\"/>\n<text text-anchor=\"middle\" x=\"522.5\" y=\"-789\" font-family=\"monospace\" font-size=\"10.00\">TBackward0</text>\n</g>\n<!-- 133617043750096&#45;&gt;133617043745440 -->\n<g id=\"edge27\" class=\"edge\">\n<title>133617043750096&#45;&gt;133617043745440</title>\n<path fill=\"none\" stroke=\"black\" d=\"M506.72,-781.97C488.84,-772.31 458.04,-755.66 426.16,-738.43\"/>\n<polygon fill=\"black\" stroke=\"black\" points=\"427.61,-735.24 417.15,-733.56 424.28,-741.4 427.61,-735.24\"/>\n</g>\n<!-- 133617043748560 -->\n<g id=\"node30\" class=\"node\">\n<title>133617043748560</title>\n<polygon fill=\"lightgrey\" stroke=\"black\" points=\"575,-878 474,-878 474,-859 575,-859 575,-878\"/>\n<text text-anchor=\"middle\" x=\"524.5\" y=\"-866\" font-family=\"monospace\" font-size=\"10.00\">AccumulateGrad</text>\n</g>\n<!-- 133617043748560&#45;&gt;133617043750096 -->\n<g id=\"edge28\" class=\"edge\">\n<title>133617043748560&#45;&gt;133617043750096</title>\n<path fill=\"none\" stroke=\"black\" d=\"M524.27,-858.9C523.96,-847.37 523.41,-826.59 523,-811.34\"/>\n<polygon fill=\"black\" stroke=\"black\" points=\"526.49,-810.91 522.73,-801 519.49,-811.09 526.49,-810.91\"/>\n</g>\n<!-- 133617042202816 -->\n<g id=\"node31\" class=\"node\">\n<title>133617042202816</title>\n<polygon fill=\"lightblue\" stroke=\"black\" points=\"575,-960.5 480,-960.5 480,-930.5 575,-930.5 575,-960.5\"/>\n<text text-anchor=\"middle\" x=\"527.5\" y=\"-948.5\" font-family=\"monospace\" font-size=\"10.00\">layer2.weight</text>\n<text text-anchor=\"middle\" x=\"527.5\" y=\"-937.5\" font-family=\"monospace\" font-size=\"10.00\"> (32, 32)</text>\n</g>\n<!-- 133617042202816&#45;&gt;133617043748560 -->\n<g id=\"edge29\" class=\"edge\">\n<title>133617042202816&#45;&gt;133617043748560</title>\n<path fill=\"none\" stroke=\"black\" d=\"M526.94,-930.39C526.46,-918.58 525.78,-901.6 525.26,-888.58\"/>\n<polygon fill=\"black\" stroke=\"black\" points=\"528.75,-888.23 524.85,-878.37 521.76,-888.51 528.75,-888.23\"/>\n</g>\n<!-- 133617043748752 -->\n<g id=\"node32\" class=\"node\">\n<title>133617043748752</title>\n<polygon fill=\"lightgrey\" stroke=\"black\" points=\"496,-416 419,-416 419,-397 496,-397 496,-416\"/>\n<text text-anchor=\"middle\" x=\"457.5\" y=\"-404\" font-family=\"monospace\" font-size=\"10.00\">TBackward0</text>\n</g>\n<!-- 133617043748752&#45;&gt;133617043741792 -->\n<g id=\"edge30\" class=\"edge\">\n<title>133617043748752&#45;&gt;133617043741792</title>\n<path fill=\"none\" stroke=\"black\" d=\"M438.11,-396.97C411.36,-385.2 361.02,-363.06 313.46,-342.13\"/>\n<polygon fill=\"black\" stroke=\"black\" points=\"314.86,-338.93 304.3,-338.1 312.05,-345.34 314.86,-338.93\"/>\n</g>\n<!-- 133617043738336 -->\n<g id=\"node33\" class=\"node\">\n<title>133617043738336</title>\n<polygon fill=\"lightgrey\" stroke=\"black\" points=\"522,-493 421,-493 421,-474 522,-474 522,-493\"/>\n<text text-anchor=\"middle\" x=\"471.5\" y=\"-481\" font-family=\"monospace\" font-size=\"10.00\">AccumulateGrad</text>\n</g>\n<!-- 133617043738336&#45;&gt;133617043748752 -->\n<g id=\"edge31\" class=\"edge\">\n<title>133617043738336&#45;&gt;133617043748752</title>\n<path fill=\"none\" stroke=\"black\" d=\"M469.89,-473.9C467.72,-462.25 463.79,-441.19 460.93,-425.9\"/>\n<polygon fill=\"black\" stroke=\"black\" points=\"464.36,-425.19 459.09,-416 457.48,-426.48 464.36,-425.19\"/>\n</g>\n<!-- 133617042202256 -->\n<g id=\"node34\" class=\"node\">\n<title>133617042202256</title>\n<polygon fill=\"lightblue\" stroke=\"black\" points=\"547,-575.5 452,-575.5 452,-545.5 547,-545.5 547,-575.5\"/>\n<text text-anchor=\"middle\" x=\"499.5\" y=\"-563.5\" font-family=\"monospace\" font-size=\"10.00\">output.weight</text>\n<text text-anchor=\"middle\" x=\"499.5\" y=\"-552.5\" font-family=\"monospace\" font-size=\"10.00\"> (7, 32)</text>\n</g>\n<!-- 133617042202256&#45;&gt;133617043738336 -->\n<g id=\"edge32\" class=\"edge\">\n<title>133617042202256&#45;&gt;133617043738336</title>\n<path fill=\"none\" stroke=\"black\" d=\"M494.23,-545.39C489.73,-533.34 483.23,-515.92 478.33,-502.79\"/>\n<polygon fill=\"black\" stroke=\"black\" points=\"481.59,-501.52 474.81,-493.37 475.03,-503.97 481.59,-501.52\"/>\n</g>\n</g>\n</svg>\n",
            "text/plain": [
              "<graphviz.graphs.Digraph at 0x7986246d8fd0>"
            ]
          },
          "metadata": {},
          "execution_count": 55
        }
      ]
    },
    {
      "cell_type": "code",
      "source": [
        "# Using tensorboard\n",
        "from torch.utils.tensorboard import SummaryWriter\n",
        "\n",
        "writer = SummaryWriter(\"torchlogs/\")\n",
        "model = NeuralNetwork()\n",
        "writer.add_graph(model, X)\n",
        "writer.close()\n",
        "\n",
        "# cd <path-to-logs-dir>\n",
        "# tensorboard --logdir=./"
      ],
      "metadata": {
        "id": "I6LrNuPTjTRA"
      },
      "execution_count": 57,
      "outputs": []
    }
  ]
}