{
  "cells": [
    {
      "cell_type": "markdown",
      "metadata": {
        "id": "0qloHu_GJTet"
      },
      "source": [
        "# Agriculture Artificial Neural Network"
      ]
    },
    {
      "cell_type": "markdown",
      "metadata": {
        "id": "lGLP9WcJKMjB"
      },
      "source": [
        "## Imports"
      ]
    },
    {
      "cell_type": "code",
      "execution_count": null,
      "metadata": {
        "id": "qG-gPl5qKgvu"
      },
      "outputs": [],
      "source": [
        "import pandas as pd\n",
        "import torch\n",
        "import torch.nn as nn\n",
        "import torch.optim as optim\n",
        "from sklearn.preprocessing import MinMaxScaler\n",
        "from sklearn.model_selection import train_test_split\n",
        "import matplotlib.pyplot as plt"
      ]
    },
    {
      "cell_type": "markdown",
      "metadata": {
        "id": "9mGCaxP2Ky-J"
      },
      "source": [
        "## Import Data from excel"
      ]
    },
    {
      "cell_type": "code",
      "execution_count": null,
      "metadata": {
        "id": "xNGFKSgJK4LR"
      },
      "outputs": [],
      "source": [
        "file_path = 'balanced_data_2.xlsx'\n",
        "df = pd.read_excel(file_path)"
      ]
    },
    {
      "cell_type": "code",
      "execution_count": null,
      "metadata": {
        "colab": {
          "base_uri": "https://localhost:8080/",
          "height": 243
        },
        "id": "7a4rlFzTR93L",
        "outputId": "35ec003f-f3d9-4428-a319-6cdf1af8075e"
      },
      "outputs": [
        {
          "data": {
            "application/vnd.google.colaboratory.intrinsic+json": {
              "summary": "{\n  \"name\": \"df\",\n  \"rows\": 3450,\n  \"fields\": [\n    {\n      \"column\": \"Unnamed: 0\",\n      \"properties\": {\n        \"dtype\": \"number\",\n        \"std\": 996,\n        \"min\": 0,\n        \"max\": 3449,\n        \"num_unique_values\": 3450,\n        \"samples\": [\n          1451,\n          51,\n          567\n        ],\n        \"semantic_type\": \"\",\n        \"description\": \"\"\n      }\n    },\n    {\n      \"column\": \"Nitrogen\",\n      \"properties\": {\n        \"dtype\": \"number\",\n        \"std\": 4,\n        \"min\": 0,\n        \"max\": 14,\n        \"num_unique_values\": 15,\n        \"samples\": [\n          12,\n          2,\n          4\n        ],\n        \"semantic_type\": \"\",\n        \"description\": \"\"\n      }\n    },\n    {\n      \"column\": \"Phosphorus\",\n      \"properties\": {\n        \"dtype\": \"number\",\n        \"std\": 4,\n        \"min\": 0,\n        \"max\": 14,\n        \"num_unique_values\": 15,\n        \"samples\": [\n          2,\n          3,\n          6\n        ],\n        \"semantic_type\": \"\",\n        \"description\": \"\"\n      }\n    },\n    {\n      \"column\": \"Potassium\",\n      \"properties\": {\n        \"dtype\": \"number\",\n        \"std\": 4,\n        \"min\": 0,\n        \"max\": 14,\n        \"num_unique_values\": 15,\n        \"samples\": [\n          3,\n          6,\n          8\n        ],\n        \"semantic_type\": \"\",\n        \"description\": \"\"\n      }\n    },\n    {\n      \"column\": \"Temperature\",\n      \"properties\": {\n        \"dtype\": \"number\",\n        \"std\": 2,\n        \"min\": 0,\n        \"max\": 6,\n        \"num_unique_values\": 7,\n        \"samples\": [\n          3,\n          0,\n          2\n        ],\n        \"semantic_type\": \"\",\n        \"description\": \"\"\n      }\n    },\n    {\n      \"column\": \"Humidity\",\n      \"properties\": {\n        \"dtype\": \"number\",\n        \"std\": 1,\n        \"min\": 0,\n        \"max\": 5,\n        \"num_unique_values\": 5,\n        \"samples\": [\n          0,\n          2,\n          1\n        ],\n        \"semantic_type\": \"\",\n        \"description\": \"\"\n      }\n    },\n    {\n      \"column\": \"rain_intensity\",\n      \"properties\": {\n        \"dtype\": \"number\",\n        \"std\": 1,\n        \"min\": 0,\n        \"max\": 3,\n        \"num_unique_values\": 4,\n        \"samples\": [\n          0,\n          3,\n          2\n        ],\n        \"semantic_type\": \"\",\n        \"description\": \"\"\n      }\n    },\n    {\n      \"column\": \"nitrogen_expectation\",\n      \"properties\": {\n        \"dtype\": \"number\",\n        \"std\": 1,\n        \"min\": 9,\n        \"max\": 14,\n        \"num_unique_values\": 5,\n        \"samples\": [\n          9,\n          13,\n          14\n        ],\n        \"semantic_type\": \"\",\n        \"description\": \"\"\n      }\n    },\n    {\n      \"column\": \"nitrogen_added\",\n      \"properties\": {\n        \"dtype\": \"number\",\n        \"std\": 4,\n        \"min\": 0,\n        \"max\": 14,\n        \"num_unique_values\": 15,\n        \"samples\": [\n          12,\n          6,\n          8\n        ],\n        \"semantic_type\": \"\",\n        \"description\": \"\"\n      }\n    },\n    {\n      \"column\": \"phosphorus_expectation\",\n      \"properties\": {\n        \"dtype\": \"number\",\n        \"std\": 1,\n        \"min\": 3,\n        \"max\": 6,\n        \"num_unique_values\": 4,\n        \"samples\": [\n          4,\n          6,\n          5\n        ],\n        \"semantic_type\": \"\",\n        \"description\": \"\"\n      }\n    },\n    {\n      \"column\": \"phophorus_added\",\n      \"properties\": {\n        \"dtype\": \"number\",\n        \"std\": 1,\n        \"min\": 0,\n        \"max\": 6,\n        \"num_unique_values\": 7,\n        \"samples\": [\n          0,\n          4,\n          6\n        ],\n        \"semantic_type\": \"\",\n        \"description\": \"\"\n      }\n    },\n    {\n      \"column\": \"potassium_expectation\",\n      \"properties\": {\n        \"dtype\": \"number\",\n        \"std\": 1,\n        \"min\": 5,\n        \"max\": 8,\n        \"num_unique_values\": 4,\n        \"samples\": [\n          5,\n          7,\n          6\n        ],\n        \"semantic_type\": \"\",\n        \"description\": \"\"\n      }\n    },\n    {\n      \"column\": \"potassium_added\",\n      \"properties\": {\n        \"dtype\": \"number\",\n        \"std\": 2,\n        \"min\": 0,\n        \"max\": 8,\n        \"num_unique_values\": 9,\n        \"samples\": [\n          3,\n          4,\n          7\n        ],\n        \"semantic_type\": \"\",\n        \"description\": \"\"\n      }\n    },\n    {\n      \"column\": \"water_expectation\",\n      \"properties\": {\n        \"dtype\": \"number\",\n        \"std\": 1,\n        \"min\": 1,\n        \"max\": 4,\n        \"num_unique_values\": 4,\n        \"samples\": [\n          1,\n          4,\n          3\n        ],\n        \"semantic_type\": \"\",\n        \"description\": \"\"\n      }\n    }\n  ]\n}",
              "type": "dataframe",
              "variable_name": "df"
            },
            "text/html": [
              "\n",
              "  <div id=\"df-86c60d78-d95c-4d38-90f1-f65be1ae9ff3\" class=\"colab-df-container\">\n",
              "    <div>\n",
              "<style scoped>\n",
              "    .dataframe tbody tr th:only-of-type {\n",
              "        vertical-align: middle;\n",
              "    }\n",
              "\n",
              "    .dataframe tbody tr th {\n",
              "        vertical-align: top;\n",
              "    }\n",
              "\n",
              "    .dataframe thead th {\n",
              "        text-align: right;\n",
              "    }\n",
              "</style>\n",
              "<table border=\"1\" class=\"dataframe\">\n",
              "  <thead>\n",
              "    <tr style=\"text-align: right;\">\n",
              "      <th></th>\n",
              "      <th>Unnamed: 0</th>\n",
              "      <th>Nitrogen</th>\n",
              "      <th>Phosphorus</th>\n",
              "      <th>Potassium</th>\n",
              "      <th>Temperature</th>\n",
              "      <th>Humidity</th>\n",
              "      <th>rain_intensity</th>\n",
              "      <th>nitrogen_expectation</th>\n",
              "      <th>nitrogen_added</th>\n",
              "      <th>phosphorus_expectation</th>\n",
              "      <th>phophorus_added</th>\n",
              "      <th>potassium_expectation</th>\n",
              "      <th>potassium_added</th>\n",
              "      <th>water_expectation</th>\n",
              "    </tr>\n",
              "  </thead>\n",
              "  <tbody>\n",
              "    <tr>\n",
              "      <th>0</th>\n",
              "      <td>0</td>\n",
              "      <td>4</td>\n",
              "      <td>6</td>\n",
              "      <td>8</td>\n",
              "      <td>3</td>\n",
              "      <td>3</td>\n",
              "      <td>2</td>\n",
              "      <td>12</td>\n",
              "      <td>8</td>\n",
              "      <td>5</td>\n",
              "      <td>0</td>\n",
              "      <td>6</td>\n",
              "      <td>0</td>\n",
              "      <td>3</td>\n",
              "    </tr>\n",
              "    <tr>\n",
              "      <th>1</th>\n",
              "      <td>1</td>\n",
              "      <td>9</td>\n",
              "      <td>9</td>\n",
              "      <td>2</td>\n",
              "      <td>0</td>\n",
              "      <td>3</td>\n",
              "      <td>0</td>\n",
              "      <td>12</td>\n",
              "      <td>3</td>\n",
              "      <td>4</td>\n",
              "      <td>0</td>\n",
              "      <td>6</td>\n",
              "      <td>4</td>\n",
              "      <td>1</td>\n",
              "    </tr>\n",
              "    <tr>\n",
              "      <th>2</th>\n",
              "      <td>2</td>\n",
              "      <td>7</td>\n",
              "      <td>6</td>\n",
              "      <td>13</td>\n",
              "      <td>0</td>\n",
              "      <td>0</td>\n",
              "      <td>1</td>\n",
              "      <td>9</td>\n",
              "      <td>2</td>\n",
              "      <td>3</td>\n",
              "      <td>0</td>\n",
              "      <td>5</td>\n",
              "      <td>0</td>\n",
              "      <td>1</td>\n",
              "    </tr>\n",
              "    <tr>\n",
              "      <th>3</th>\n",
              "      <td>3</td>\n",
              "      <td>13</td>\n",
              "      <td>6</td>\n",
              "      <td>11</td>\n",
              "      <td>1</td>\n",
              "      <td>1</td>\n",
              "      <td>1</td>\n",
              "      <td>9</td>\n",
              "      <td>0</td>\n",
              "      <td>3</td>\n",
              "      <td>0</td>\n",
              "      <td>5</td>\n",
              "      <td>0</td>\n",
              "      <td>1</td>\n",
              "    </tr>\n",
              "    <tr>\n",
              "      <th>4</th>\n",
              "      <td>4</td>\n",
              "      <td>10</td>\n",
              "      <td>7</td>\n",
              "      <td>4</td>\n",
              "      <td>5</td>\n",
              "      <td>0</td>\n",
              "      <td>3</td>\n",
              "      <td>14</td>\n",
              "      <td>4</td>\n",
              "      <td>6</td>\n",
              "      <td>0</td>\n",
              "      <td>8</td>\n",
              "      <td>4</td>\n",
              "      <td>3</td>\n",
              "    </tr>\n",
              "  </tbody>\n",
              "</table>\n",
              "</div>\n",
              "    <div class=\"colab-df-buttons\">\n",
              "\n",
              "  <div class=\"colab-df-container\">\n",
              "    <button class=\"colab-df-convert\" onclick=\"convertToInteractive('df-86c60d78-d95c-4d38-90f1-f65be1ae9ff3')\"\n",
              "            title=\"Convert this dataframe to an interactive table.\"\n",
              "            style=\"display:none;\">\n",
              "\n",
              "  <svg xmlns=\"http://www.w3.org/2000/svg\" height=\"24px\" viewBox=\"0 -960 960 960\">\n",
              "    <path d=\"M120-120v-720h720v720H120Zm60-500h600v-160H180v160Zm220 220h160v-160H400v160Zm0 220h160v-160H400v160ZM180-400h160v-160H180v160Zm440 0h160v-160H620v160ZM180-180h160v-160H180v160Zm440 0h160v-160H620v160Z\"/>\n",
              "  </svg>\n",
              "    </button>\n",
              "\n",
              "  <style>\n",
              "    .colab-df-container {\n",
              "      display:flex;\n",
              "      gap: 12px;\n",
              "    }\n",
              "\n",
              "    .colab-df-convert {\n",
              "      background-color: #E8F0FE;\n",
              "      border: none;\n",
              "      border-radius: 50%;\n",
              "      cursor: pointer;\n",
              "      display: none;\n",
              "      fill: #1967D2;\n",
              "      height: 32px;\n",
              "      padding: 0 0 0 0;\n",
              "      width: 32px;\n",
              "    }\n",
              "\n",
              "    .colab-df-convert:hover {\n",
              "      background-color: #E2EBFA;\n",
              "      box-shadow: 0px 1px 2px rgba(60, 64, 67, 0.3), 0px 1px 3px 1px rgba(60, 64, 67, 0.15);\n",
              "      fill: #174EA6;\n",
              "    }\n",
              "\n",
              "    .colab-df-buttons div {\n",
              "      margin-bottom: 4px;\n",
              "    }\n",
              "\n",
              "    [theme=dark] .colab-df-convert {\n",
              "      background-color: #3B4455;\n",
              "      fill: #D2E3FC;\n",
              "    }\n",
              "\n",
              "    [theme=dark] .colab-df-convert:hover {\n",
              "      background-color: #434B5C;\n",
              "      box-shadow: 0px 1px 3px 1px rgba(0, 0, 0, 0.15);\n",
              "      filter: drop-shadow(0px 1px 2px rgba(0, 0, 0, 0.3));\n",
              "      fill: #FFFFFF;\n",
              "    }\n",
              "  </style>\n",
              "\n",
              "    <script>\n",
              "      const buttonEl =\n",
              "        document.querySelector('#df-86c60d78-d95c-4d38-90f1-f65be1ae9ff3 button.colab-df-convert');\n",
              "      buttonEl.style.display =\n",
              "        google.colab.kernel.accessAllowed ? 'block' : 'none';\n",
              "\n",
              "      async function convertToInteractive(key) {\n",
              "        const element = document.querySelector('#df-86c60d78-d95c-4d38-90f1-f65be1ae9ff3');\n",
              "        const dataTable =\n",
              "          await google.colab.kernel.invokeFunction('convertToInteractive',\n",
              "                                                    [key], {});\n",
              "        if (!dataTable) return;\n",
              "\n",
              "        const docLinkHtml = 'Like what you see? Visit the ' +\n",
              "          '<a target=\"_blank\" href=https://colab.research.google.com/notebooks/data_table.ipynb>data table notebook</a>'\n",
              "          + ' to learn more about interactive tables.';\n",
              "        element.innerHTML = '';\n",
              "        dataTable['output_type'] = 'display_data';\n",
              "        await google.colab.output.renderOutput(dataTable, element);\n",
              "        const docLink = document.createElement('div');\n",
              "        docLink.innerHTML = docLinkHtml;\n",
              "        element.appendChild(docLink);\n",
              "      }\n",
              "    </script>\n",
              "  </div>\n",
              "\n",
              "\n",
              "<div id=\"df-b0e60d18-31c8-4acb-956f-47b6064ee0a7\">\n",
              "  <button class=\"colab-df-quickchart\" onclick=\"quickchart('df-b0e60d18-31c8-4acb-956f-47b6064ee0a7')\"\n",
              "            title=\"Suggest charts\"\n",
              "            style=\"display:none;\">\n",
              "\n",
              "<svg xmlns=\"http://www.w3.org/2000/svg\" height=\"24px\"viewBox=\"0 0 24 24\"\n",
              "     width=\"24px\">\n",
              "    <g>\n",
              "        <path d=\"M19 3H5c-1.1 0-2 .9-2 2v14c0 1.1.9 2 2 2h14c1.1 0 2-.9 2-2V5c0-1.1-.9-2-2-2zM9 17H7v-7h2v7zm4 0h-2V7h2v10zm4 0h-2v-4h2v4z\"/>\n",
              "    </g>\n",
              "</svg>\n",
              "  </button>\n",
              "\n",
              "<style>\n",
              "  .colab-df-quickchart {\n",
              "      --bg-color: #E8F0FE;\n",
              "      --fill-color: #1967D2;\n",
              "      --hover-bg-color: #E2EBFA;\n",
              "      --hover-fill-color: #174EA6;\n",
              "      --disabled-fill-color: #AAA;\n",
              "      --disabled-bg-color: #DDD;\n",
              "  }\n",
              "\n",
              "  [theme=dark] .colab-df-quickchart {\n",
              "      --bg-color: #3B4455;\n",
              "      --fill-color: #D2E3FC;\n",
              "      --hover-bg-color: #434B5C;\n",
              "      --hover-fill-color: #FFFFFF;\n",
              "      --disabled-bg-color: #3B4455;\n",
              "      --disabled-fill-color: #666;\n",
              "  }\n",
              "\n",
              "  .colab-df-quickchart {\n",
              "    background-color: var(--bg-color);\n",
              "    border: none;\n",
              "    border-radius: 50%;\n",
              "    cursor: pointer;\n",
              "    display: none;\n",
              "    fill: var(--fill-color);\n",
              "    height: 32px;\n",
              "    padding: 0;\n",
              "    width: 32px;\n",
              "  }\n",
              "\n",
              "  .colab-df-quickchart:hover {\n",
              "    background-color: var(--hover-bg-color);\n",
              "    box-shadow: 0 1px 2px rgba(60, 64, 67, 0.3), 0 1px 3px 1px rgba(60, 64, 67, 0.15);\n",
              "    fill: var(--button-hover-fill-color);\n",
              "  }\n",
              "\n",
              "  .colab-df-quickchart-complete:disabled,\n",
              "  .colab-df-quickchart-complete:disabled:hover {\n",
              "    background-color: var(--disabled-bg-color);\n",
              "    fill: var(--disabled-fill-color);\n",
              "    box-shadow: none;\n",
              "  }\n",
              "\n",
              "  .colab-df-spinner {\n",
              "    border: 2px solid var(--fill-color);\n",
              "    border-color: transparent;\n",
              "    border-bottom-color: var(--fill-color);\n",
              "    animation:\n",
              "      spin 1s steps(1) infinite;\n",
              "  }\n",
              "\n",
              "  @keyframes spin {\n",
              "    0% {\n",
              "      border-color: transparent;\n",
              "      border-bottom-color: var(--fill-color);\n",
              "      border-left-color: var(--fill-color);\n",
              "    }\n",
              "    20% {\n",
              "      border-color: transparent;\n",
              "      border-left-color: var(--fill-color);\n",
              "      border-top-color: var(--fill-color);\n",
              "    }\n",
              "    30% {\n",
              "      border-color: transparent;\n",
              "      border-left-color: var(--fill-color);\n",
              "      border-top-color: var(--fill-color);\n",
              "      border-right-color: var(--fill-color);\n",
              "    }\n",
              "    40% {\n",
              "      border-color: transparent;\n",
              "      border-right-color: var(--fill-color);\n",
              "      border-top-color: var(--fill-color);\n",
              "    }\n",
              "    60% {\n",
              "      border-color: transparent;\n",
              "      border-right-color: var(--fill-color);\n",
              "    }\n",
              "    80% {\n",
              "      border-color: transparent;\n",
              "      border-right-color: var(--fill-color);\n",
              "      border-bottom-color: var(--fill-color);\n",
              "    }\n",
              "    90% {\n",
              "      border-color: transparent;\n",
              "      border-bottom-color: var(--fill-color);\n",
              "    }\n",
              "  }\n",
              "</style>\n",
              "\n",
              "  <script>\n",
              "    async function quickchart(key) {\n",
              "      const quickchartButtonEl =\n",
              "        document.querySelector('#' + key + ' button');\n",
              "      quickchartButtonEl.disabled = true;  // To prevent multiple clicks.\n",
              "      quickchartButtonEl.classList.add('colab-df-spinner');\n",
              "      try {\n",
              "        const charts = await google.colab.kernel.invokeFunction(\n",
              "            'suggestCharts', [key], {});\n",
              "      } catch (error) {\n",
              "        console.error('Error during call to suggestCharts:', error);\n",
              "      }\n",
              "      quickchartButtonEl.classList.remove('colab-df-spinner');\n",
              "      quickchartButtonEl.classList.add('colab-df-quickchart-complete');\n",
              "    }\n",
              "    (() => {\n",
              "      let quickchartButtonEl =\n",
              "        document.querySelector('#df-b0e60d18-31c8-4acb-956f-47b6064ee0a7 button');\n",
              "      quickchartButtonEl.style.display =\n",
              "        google.colab.kernel.accessAllowed ? 'block' : 'none';\n",
              "    })();\n",
              "  </script>\n",
              "</div>\n",
              "\n",
              "    </div>\n",
              "  </div>\n"
            ],
            "text/plain": [
              "   Unnamed: 0  Nitrogen  Phosphorus  Potassium  Temperature  Humidity  \\\n",
              "0           0         4           6          8            3         3   \n",
              "1           1         9           9          2            0         3   \n",
              "2           2         7           6         13            0         0   \n",
              "3           3        13           6         11            1         1   \n",
              "4           4        10           7          4            5         0   \n",
              "\n",
              "   rain_intensity  nitrogen_expectation  nitrogen_added  \\\n",
              "0               2                    12               8   \n",
              "1               0                    12               3   \n",
              "2               1                     9               2   \n",
              "3               1                     9               0   \n",
              "4               3                    14               4   \n",
              "\n",
              "   phosphorus_expectation  phophorus_added  potassium_expectation  \\\n",
              "0                       5                0                      6   \n",
              "1                       4                0                      6   \n",
              "2                       3                0                      5   \n",
              "3                       3                0                      5   \n",
              "4                       6                0                      8   \n",
              "\n",
              "   potassium_added  water_expectation  \n",
              "0                0                  3  \n",
              "1                4                  1  \n",
              "2                0                  1  \n",
              "3                0                  1  \n",
              "4                4                  3  "
            ]
          },
          "execution_count": 3,
          "metadata": {},
          "output_type": "execute_result"
        }
      ],
      "source": [
        "df.head()"
      ]
    },
    {
      "cell_type": "markdown",
      "metadata": {
        "id": "MqOjehyRLD3v"
      },
      "source": [
        "## Splitting the Data"
      ]
    },
    {
      "cell_type": "code",
      "execution_count": null,
      "metadata": {
        "id": "vT2rbf4CLGc3"
      },
      "outputs": [],
      "source": [
        "features = df.columns[1:7]\n",
        "X = torch.tensor(df[features].values, dtype=torch.float32)\n",
        "y = torch.tensor(df[df.columns[7:]].values, dtype=torch.float32)"
      ]
    },
    {
      "cell_type": "code",
      "execution_count": null,
      "metadata": {
        "colab": {
          "base_uri": "https://localhost:8080/"
        },
        "id": "whAb4AJ4RvU1",
        "outputId": "0131b1a7-dc8a-4285-8772-32d0e29151f0"
      },
      "outputs": [
        {
          "data": {
            "text/plain": [
              "tensor([[ 4.,  6.,  8.,  3.,  3.,  2.],\n",
              "        [ 9.,  9.,  2.,  0.,  3.,  0.],\n",
              "        [ 7.,  6., 13.,  0.,  0.,  1.],\n",
              "        ...,\n",
              "        [ 8.,  4.,  0.,  0.,  1.,  1.],\n",
              "        [ 6., 13., 10.,  3.,  2.,  2.],\n",
              "        [ 7.,  7.,  5.,  4.,  1.,  3.]])"
            ]
          },
          "execution_count": 5,
          "metadata": {},
          "output_type": "execute_result"
        }
      ],
      "source": [
        "X"
      ]
    },
    {
      "cell_type": "code",
      "execution_count": null,
      "metadata": {
        "colab": {
          "base_uri": "https://localhost:8080/"
        },
        "id": "Pn9PPgLAc2M6",
        "outputId": "47080155-90ed-4e7b-aed5-89d194e3f293"
      },
      "outputs": [
        {
          "data": {
            "text/plain": [
              "torch.Size([3450, 7])"
            ]
          },
          "execution_count": 16,
          "metadata": {},
          "output_type": "execute_result"
        }
      ],
      "source": [
        "y.shape"
      ]
    },
    {
      "cell_type": "code",
      "execution_count": null,
      "metadata": {
        "id": "767SYAufRu2C"
      },
      "outputs": [],
      "source": [
        "X_train, X_test, y_train, y_test = train_test_split(X, y, test_size=0.2, random_state=42)"
      ]
    },
    {
      "cell_type": "markdown",
      "metadata": {
        "id": "2K-Z583VLtGv"
      },
      "source": [
        "## Creating the Neural Network"
      ]
    },
    {
      "cell_type": "code",
      "execution_count": null,
      "metadata": {
        "id": "ktfw0eaDLsua"
      },
      "outputs": [],
      "source": [
        "class NeuralNetwork(nn.Module):\n",
        "    def __init__(self):\n",
        "        super(NeuralNetwork, self).__init__()\n",
        "        self.layer1 = nn.Linear(len(features), 32)\n",
        "        self.layer2 = nn.Linear(32, 32)\n",
        "        self.output = nn.Linear(32, 7)\n",
        "\n",
        "    def forward(self, x):\n",
        "        x = torch.relu(self.layer1(x))\n",
        "        x = torch.relu(self.layer2(x))\n",
        "        return self.output(x)"
      ]
    },
    {
      "cell_type": "markdown",
      "metadata": {
        "id": "qEXs9v8qMBLH"
      },
      "source": [
        "## Compile Network"
      ]
    },
    {
      "cell_type": "code",
      "execution_count": null,
      "metadata": {
        "colab": {
          "base_uri": "https://localhost:8080/"
        },
        "id": "3P6B2IgUMA3Q",
        "outputId": "5f27f692-d4da-4e4c-a099-3eb4d91046b7"
      },
      "outputs": [
        {
          "name": "stdout",
          "output_type": "stream",
          "text": [
            "NeuralNetwork(\n",
            "  (layer1): Linear(in_features=6, out_features=32, bias=True)\n",
            "  (layer2): Linear(in_features=32, out_features=32, bias=True)\n",
            "  (output): Linear(in_features=32, out_features=7, bias=True)\n",
            ")\n"
          ]
        }
      ],
      "source": [
        "model = NeuralNetwork()\n",
        "print(model)"
      ]
    },
    {
      "cell_type": "markdown",
      "metadata": {
        "id": "vxF-ho-eWUmv"
      },
      "source": [
        "# Loading the Data"
      ]
    },
    {
      "cell_type": "code",
      "execution_count": null,
      "metadata": {
        "id": "x-oEM2X-WV8S"
      },
      "outputs": [],
      "source": [
        "# Create a TensorDataset\n",
        "train_dataset = torch.utils.data.TensorDataset(X_train, y_train)\n",
        "\n",
        "# Create a DataLoader with the specified batch size\n",
        "train_loader = torch.utils.data.DataLoader(train_dataset, batch_size=20, shuffle=True)"
      ]
    },
    {
      "cell_type": "markdown",
      "metadata": {
        "id": "8D_HDqpRMFOd"
      },
      "source": [
        "## Loss and optimizer\n"
      ]
    },
    {
      "cell_type": "code",
      "execution_count": null,
      "metadata": {
        "id": "PNZxqpjvMIz7"
      },
      "outputs": [],
      "source": [
        "criterion = nn.MSELoss()\n",
        "optimizer = optim.Adam(model.parameters(), lr=0.01)"
      ]
    },
    {
      "cell_type": "markdown",
      "metadata": {
        "id": "jav4JaPeMMya"
      },
      "source": [
        "## Training loop\n"
      ]
    },
    {
      "cell_type": "code",
      "execution_count": null,
      "metadata": {
        "colab": {
          "base_uri": "https://localhost:8080/"
        },
        "id": "cBXTB_xSMO_h",
        "outputId": "f2981de4-4377-49c3-b731-259243b25117"
      },
      "outputs": [
        {
          "name": "stdout",
          "output_type": "stream",
          "text": [
            "Epoch 1, Average Loss: 3.2976239600043367\n",
            "Epoch 2, Average Loss: 1.9984457655877308\n",
            "Epoch 3, Average Loss: 1.485130188041839\n",
            "Epoch 4, Average Loss: 1.2087415948078253\n",
            "Epoch 5, Average Loss: 1.0411158699272336\n",
            "Epoch 6, Average Loss: 0.9287012822134195\n",
            "Epoch 7, Average Loss: 0.846340140231401\n",
            "Epoch 8, Average Loss: 0.7818893792809568\n",
            "Epoch 9, Average Loss: 0.7331978475701981\n",
            "Epoch 10, Average Loss: 0.6924776628181555\n",
            "Epoch 11, Average Loss: 0.6595064575669793\n",
            "Epoch 12, Average Loss: 0.6296607652535113\n",
            "Epoch 13, Average Loss: 0.6067642731552605\n",
            "Epoch 14, Average Loss: 0.5853552461310635\n",
            "Epoch 15, Average Loss: 0.5658366953585171\n",
            "Epoch 16, Average Loss: 0.5481155580010914\n",
            "Epoch 17, Average Loss: 0.5321186805066144\n",
            "Epoch 18, Average Loss: 0.5183496139073765\n",
            "Epoch 19, Average Loss: 0.504046128527137\n",
            "Epoch 20, Average Loss: 0.49082964751329544\n",
            "Epoch 21, Average Loss: 0.4791503076957702\n",
            "Epoch 22, Average Loss: 0.46801155158692825\n",
            "Epoch 23, Average Loss: 0.4565452294261033\n",
            "Epoch 24, Average Loss: 0.445039001185501\n",
            "Epoch 25, Average Loss: 0.4335237803104995\n",
            "Epoch 26, Average Loss: 0.4230334515659473\n",
            "Epoch 27, Average Loss: 0.41341298673915816\n",
            "Epoch 28, Average Loss: 0.4040845163662071\n",
            "Epoch 29, Average Loss: 0.39505869259537457\n",
            "Epoch 30, Average Loss: 0.38533251579886907\n",
            "Epoch 31, Average Loss: 0.3759588044965766\n",
            "Epoch 32, Average Loss: 0.36738876220719563\n",
            "Epoch 33, Average Loss: 0.3595607805764814\n",
            "Epoch 34, Average Loss: 0.35165462013372145\n",
            "Epoch 35, Average Loss: 0.3438686742977573\n",
            "Epoch 36, Average Loss: 0.33617615150835145\n",
            "Epoch 37, Average Loss: 0.32909417822789233\n",
            "Epoch 38, Average Loss: 0.3223873867609266\n",
            "Epoch 39, Average Loss: 0.3161675655814279\n",
            "Epoch 40, Average Loss: 0.3100500257415832\n",
            "Epoch 41, Average Loss: 0.30378092020472197\n",
            "Epoch 42, Average Loss: 0.2983138029742536\n",
            "Epoch 43, Average Loss: 0.29260101625466683\n",
            "Epoch 44, Average Loss: 0.2872200073304369\n",
            "Epoch 45, Average Loss: 0.2819694344650192\n",
            "Epoch 46, Average Loss: 0.2770095151554495\n",
            "Epoch 47, Average Loss: 0.2720724930067788\n",
            "Epoch 48, Average Loss: 0.2674463306495173\n",
            "Epoch 49, Average Loss: 0.2628253162520365\n",
            "Epoch 50, Average Loss: 0.25836656933326435\n",
            "Epoch 51, Average Loss: 0.25419304603522863\n",
            "Epoch 52, Average Loss: 0.25030819812001515\n",
            "Epoch 53, Average Loss: 0.2462925356421859\n",
            "Epoch 54, Average Loss: 0.24241270242439872\n",
            "Epoch 55, Average Loss: 0.23854193849923463\n",
            "Epoch 56, Average Loss: 0.23481769259950613\n",
            "Epoch 57, Average Loss: 0.23121057448071847\n",
            "Epoch 58, Average Loss: 0.22768274362667695\n",
            "Epoch 59, Average Loss: 0.22451858999330238\n",
            "Epoch 60, Average Loss: 0.22128052822671884\n",
            "Epoch 61, Average Loss: 0.21816897585850414\n",
            "Epoch 62, Average Loss: 0.21536704533275822\n",
            "Epoch 63, Average Loss: 0.21243190908849957\n",
            "Epoch 64, Average Loss: 0.20957278951718236\n",
            "Epoch 65, Average Loss: 0.20684334670236063\n",
            "Epoch 66, Average Loss: 0.20411179152464182\n",
            "Epoch 67, Average Loss: 0.2015972710146061\n",
            "Epoch 68, Average Loss: 0.199009616498598\n",
            "Epoch 69, Average Loss: 0.1965074955723042\n",
            "Epoch 70, Average Loss: 0.19408202310426326\n",
            "Epoch 71, Average Loss: 0.19189170334451272\n",
            "Epoch 72, Average Loss: 0.18961784966633433\n",
            "Epoch 73, Average Loss: 0.18735829102519233\n",
            "Epoch 74, Average Loss: 0.18520376982446066\n",
            "Epoch 75, Average Loss: 0.1830781364420222\n",
            "Epoch 76, Average Loss: 0.1810165277444619\n",
            "Epoch 77, Average Loss: 0.17902917357162693\n",
            "Epoch 78, Average Loss: 0.1770471638612434\n",
            "Epoch 79, Average Loss: 0.17503532397560262\n",
            "Epoch 80, Average Loss: 0.1731350182512593\n",
            "Epoch 81, Average Loss: 0.17174409689864292\n",
            "Epoch 82, Average Loss: 0.16988376881064735\n",
            "Epoch 83, Average Loss: 0.16809942886831444\n",
            "Epoch 84, Average Loss: 0.1664070653091789\n",
            "Epoch 85, Average Loss: 0.1646956165543482\n",
            "Epoch 86, Average Loss: 0.16300541804803653\n",
            "Epoch 87, Average Loss: 0.16136477455522696\n",
            "Epoch 88, Average Loss: 0.15982707792161277\n",
            "Epoch 89, Average Loss: 0.15859997552741295\n",
            "Epoch 90, Average Loss: 0.15702245297137613\n",
            "Epoch 91, Average Loss: 0.15552013416324112\n",
            "Epoch 92, Average Loss: 0.1540196415689928\n",
            "Epoch 93, Average Loss: 0.15307537249392644\n",
            "Epoch 94, Average Loss: 0.1516774688004348\n",
            "Epoch 95, Average Loss: 0.15025663105259465\n",
            "Epoch 96, Average Loss: 0.14886130252842492\n",
            "Epoch 97, Average Loss: 0.14753236249398846\n",
            "Epoch 98, Average Loss: 0.1461908657385639\n",
            "Epoch 99, Average Loss: 0.1452298225430929\n",
            "Epoch 100, Average Loss: 0.14424587857818394\n"
          ]
        }
      ],
      "source": [
        "epochs = 100\n",
        "losses = []\n",
        "avg_losses = []\n",
        "for epoch in range(epochs):\n",
        "    model.train()\n",
        "    for inputs, targets in train_loader:  # Iterate over batches\n",
        "        optimizer.zero_grad()\n",
        "        outputs = model(inputs)\n",
        "        loss = criterion(outputs, targets)\n",
        "        loss.backward()\n",
        "        optimizer.step()\n",
        "        losses.append(loss.item())\n",
        "    print(f'Epoch {epoch+1}, Average Loss: {sum(losses) / len(losses)}')\n",
        "    avg_losses.append(sum(losses) / len(losses))"
      ]
    },
    {
      "cell_type": "markdown",
      "metadata": {
        "id": "L5rOJ4aQMUc6"
      },
      "source": [
        "\n",
        "## Plotting the loss over epochs"
      ]
    },
    {
      "cell_type": "code",
      "execution_count": null,
      "metadata": {
        "colab": {
          "base_uri": "https://localhost:8080/",
          "height": 487
        },
        "id": "MuUMWxahMXPx",
        "outputId": "c3d7328a-9ddd-4a33-8736-df08ced3b160"
      },
      "outputs": [
        {
          "data": {
            "image/png": "[encoded data removed]",
            "text/plain": [
              "<Figure size 1000x500 with 1 Axes>"
            ]
          },
          "metadata": {},
          "output_type": "display_data"
        }
      ],
      "source": [
        "plt.figure(figsize=(10, 5))\n",
        "plt.plot(avg_losses, label='Training Loss')\n",
        "plt.title('Loss During Training')\n",
        "plt.xlabel('Epoch')\n",
        "plt.ylabel('Loss')\n",
        "plt.legend()\n",
        "plt.show()"
      ]
    },
    {
      "cell_type": "code",
      "execution_count": null,
      "metadata": {
        "id": "M3JLOrkGTTmC"
      },
      "outputs": [],
      "source": [
        "model.eval()\n",
        "\n",
        "# Forward pass to obtain predictions\n",
        "with torch.no_grad():\n",
        "    predictions = model(X_test)"
      ]
    },
    {
      "cell_type": "code",
      "execution_count": null,
      "metadata": {
        "colab": {
          "base_uri": "https://localhost:8080/"
        },
        "id": "8MoXoknsT4Mx",
        "outputId": "251e99e5-14e6-456f-90d5-6fe6d50d5236"
      },
      "outputs": [
        {
          "data": {
            "text/plain": [
              "tensor([[ 1.2968e+01,  8.8437e+00,  5.1951e+00,  ...,  6.9675e+00,\n",
              "         -4.6917e-02,  1.9871e+00],\n",
              "        [ 1.2079e+01,  1.2043e+01,  4.0704e+00,  ...,  6.0848e+00,\n",
              "         -5.2910e-03,  2.0186e+00],\n",
              "        [ 9.0667e+00,  5.9583e+00,  2.9683e+00,  ...,  4.9809e+00,\n",
              "          5.1154e+00,  1.0458e+00],\n",
              "        ...,\n",
              "        [ 1.4157e+01,  8.0103e+00,  6.0639e+00,  ...,  7.1300e+00,\n",
              "          3.7704e+00,  3.8926e+00],\n",
              "        [ 9.0882e+00,  2.4005e-02,  2.9731e+00,  ...,  4.9872e+00,\n",
              "         -1.3814e-03,  9.9359e-01],\n",
              "        [ 1.2111e+01,  1.0996e+01,  4.0618e+00,  ...,  6.1054e+00,\n",
              "          5.6419e-02,  1.7316e+00]])"
            ]
          },
          "execution_count": 24,
          "metadata": {},
          "output_type": "execute_result"
        }
      ],
      "source": [
        "predictions"
      ]
    },
    {
      "cell_type": "code",
      "execution_count": null,
      "metadata": {
        "colab": {
          "base_uri": "https://localhost:8080/"
        },
        "id": "8rqCMtmxT6hH",
        "outputId": "83881761-e5c3-482c-88fd-3b3704170051"
      },
      "outputs": [
        {
          "data": {
            "text/plain": [
              "tensor([[13.,  9.,  5.,  ...,  7.,  0.,  2.],\n",
              "        [12., 12.,  4.,  ...,  6.,  0.,  2.],\n",
              "        [ 9.,  6.,  3.,  ...,  5.,  5.,  1.],\n",
              "        ...,\n",
              "        [14.,  8.,  6.,  ...,  7.,  4.,  4.],\n",
              "        [ 9.,  0.,  3.,  ...,  5.,  0.,  1.],\n",
              "        [12., 11.,  4.,  ...,  6.,  0.,  2.]])"
            ]
          },
          "execution_count": 25,
          "metadata": {},
          "output_type": "execute_result"
        }
      ],
      "source": [
        "y_test"
      ]
    },
    {
      "cell_type": "code",
      "execution_count": null,
      "metadata": {
        "id": "MDi8gu_qUQlM"
      },
      "outputs": [],
      "source": [
        "from sklearn.metrics import mean_absolute_error, mean_squared_error, r2_score\n",
        "import numpy as np\n",
        "\n",
        "# Calculate Mean Absolute Error (MAE)\n",
        "mae = mean_absolute_error(y_test, predictions)\n",
        "\n",
        "# Calculate Mean Squared Error (MSE)\n",
        "mse = mean_squared_error(y_test, predictions)\n",
        "\n",
        "# Calculate Root Mean Squared Error (RMSE)\n",
        "rmse = np.sqrt(mse)\n",
        "\n",
        "# Calculate R-squared (R2) Score\n",
        "r2 = r2_score(y_test, predictions)\n"
      ]
    },
    {
      "cell_type": "code",
      "execution_count": null,
      "metadata": {
        "colab": {
          "base_uri": "https://localhost:8080/"
        },
        "id": "9fZKnjtHVOCA",
        "outputId": "a3957c0a-11a5-49ce-c4ac-509083e24d68"
      },
      "outputs": [
        {
          "name": "stdout",
          "output_type": "stream",
          "text": [
            "Mean Absolute Error (MAE): 0.0862661\n",
            "Mean Squared Error (MSE): 0.0157374\n",
            "Root Mean Squared Error (RMSE): 0.1254488\n",
            "R-squared (R2) Score: 0.9934692577574086\n"
          ]
        }
      ],
      "source": [
        "print(\"Mean Absolute Error (MAE):\", mae)\n",
        "print(\"Mean Squared Error (MSE):\", mse)\n",
        "print(\"Root Mean Squared Error (RMSE):\", rmse)\n",
        "print(\"R-squared (R2) Score:\", r2)"
      ]
    },
    {
      "cell_type": "markdown",
      "metadata": {
        "id": "HOf1ST8vYY-y"
      },
      "source": [
        "# Saving the Model"
      ]
    },
    {
      "cell_type": "code",
      "execution_count": null,
      "metadata": {
        "id": "t3P392BBYaWU"
      },
      "outputs": [],
      "source": [
        "# Save the model\n",
        "torch.save(model.state_dict(), 'model_d2.pth')"
      ]
    },
    {
      "cell_type": "markdown",
      "metadata": {
        "id": "o5r-l16XZcG9"
      },
      "source": [
        "# ONNX Export"
      ]
    },
    {
      "cell_type": "code",
      "execution_count": null,
      "metadata": {
        "colab": {
          "base_uri": "https://localhost:8080/"
        },
        "id": "7smhuemVZu_7",
        "outputId": "d923d7e7-5dcf-4775-a233-bfe45042c98f"
      },
      "outputs": [
        {
          "name": "stdout",
          "output_type": "stream",
          "text": [
            "\u001b[2K     \u001b[90m━━━━━━━━━━━━━━━━━━━━━━━━━━━━━━━━━━━━━━━━\u001b[0m \u001b[32m15.9/15.9 MB\u001b[0m \u001b[31m33.3 MB/s\u001b[0m eta \u001b[36m0:00:00\u001b[0m\n",
            "\u001b[2K     \u001b[90m━━━━━━━━━━━━━━━━━━━━━━━━━━━━━━━━━━━━━━━━\u001b[0m \u001b[32m6.8/6.8 MB\u001b[0m \u001b[31m53.8 MB/s\u001b[0m eta \u001b[36m0:00:00\u001b[0m\n",
            "\u001b[2K     \u001b[90m━━━━━━━━━━━━━━━━━━━━━━━━━━━━━━━━━━━━━━━━\u001b[0m \u001b[32m46.0/46.0 kB\u001b[0m \u001b[31m4.3 MB/s\u001b[0m eta \u001b[36m0:00:00\u001b[0m\n",
            "\u001b[2K     \u001b[90m━━━━━━━━━━━━━━━━━━━━━━━━━━━━━━━━━━━━━━━━\u001b[0m \u001b[32m86.8/86.8 kB\u001b[0m \u001b[31m9.4 MB/s\u001b[0m eta \u001b[36m0:00:00\u001b[0m\n",
            "\u001b[?25h"
          ]
        }
      ],
      "source": [
        "!pip install -q onnx onnxruntime"
      ]
    },
    {
      "cell_type": "code",
      "execution_count": null,
      "metadata": {
        "id": "OZm3oZoNZd9O"
      },
      "outputs": [],
      "source": [
        "import torch.onnx\n",
        "\n",
        "# Input to the model\n",
        "dummy_input = torch.randn(1, 6)\n",
        "\n",
        "# Export the model\n",
        "torch.onnx.export(model, dummy_input, 'model_d2_b1.onnx', input_names = ['input'], output_names = ['output'])\n"
      ]
    },
    {
      "cell_type": "markdown",
      "metadata": {
        "id": "RDhRC94FhMJS"
      },
      "source": [
        "# ONNX Inference"
      ]
    },
    {
      "cell_type": "code",
      "execution_count": null,
      "metadata": {
        "id": "sPMgWYb8cRB0"
      },
      "outputs": [],
      "source": [
        "import onnx\n",
        "onnx_model = onnx.load(\"model_d2_b1.onnx\")\n",
        "onnx.checker.check_model(onnx_model)"
      ]
    },
    {
      "cell_type": "code",
      "execution_count": null,
      "metadata": {
        "id": "6cvYQjUnaT35"
      },
      "outputs": [],
      "source": [
        "import onnxruntime as ort\n",
        "\n",
        "# Load the ONNX model\n",
        "onnx_model_path = 'model_d2_b1.onnx'\n",
        "ort_session = ort.InferenceSession(onnx_model_path)\n",
        "\n",
        "test_data = [[\n",
        "    [7, 5, 4, 2, 5, 1],\n",
        "    [1, 5, 6, 3]\n",
        "]]\n",
        "\n",
        "# Extract input data\n",
        "x, y = np.array(test_data[0][0], dtype=np.float32), np.array(test_data[0][1], dtype=np.float32)\n",
        "x = np.expand_dims(x, axis=0)  # Add batch dimension\n",
        "\n",
        "# x, y = test_data[0][0], test_data[0][1]\n",
        "ort_sess = ort.InferenceSession('model_d2_b1.onnx')\n",
        "outputs = ort_sess.run(None, {'input': x})\n",
        "\n",
        "\n",
        "# # Print Result\n",
        "# predicted, actual = classes[outputs[0][0].argmax(0)], classes[y]\n",
        "# print(f'Predicted: \"{predicted}\", Actual: \"{actual}\"')"
      ]
    },
    {
      "cell_type": "code",
      "execution_count": null,
      "metadata": {
        "colab": {
          "base_uri": "https://localhost:8080/"
        },
        "id": "eFXaNiTqeTPW",
        "outputId": "6cb4b44b-452c-4b83-c713-ca35823fb464"
      },
      "outputs": [
        {
          "data": {
            "text/plain": [
              "[array([[11.297584  ,  4.322093  ,  3.9987867 , -0.12075841,  5.818963  ,\n",
              "          1.8725854 ,  2.5138252 ]], dtype=float32)]"
            ]
          },
          "execution_count": 35,
          "metadata": {},
          "output_type": "execute_result"
        }
      ],
      "source": [
        "outputs"
      ]
    },
    {
      "cell_type": "markdown",
      "metadata": {
        "id": "SgIKJ5UoebD6"
      },
      "source": [
        "# NN Visualization"
      ]
    },
    {
      "cell_type": "code",
      "execution_count": null,
      "metadata": {
        "colab": {
          "base_uri": "https://localhost:8080/"
        },
        "id": "D1TxCxVgecuE",
        "outputId": "42012f58-c956-4f2b-84c1-97d8afcf5c8e"
      },
      "outputs": [
        {
          "name": "stdout",
          "output_type": "stream",
          "text": [
            "  Preparing metadata (setup.py) ... \u001b[?25l\u001b[?25hdone\n",
            "  Building wheel for torchviz (setup.py) ... \u001b[?25l\u001b[?25hdone\n"
          ]
        }
      ],
      "source": [
        "!pip install -q torchviz"
      ]
    },
    {
      "cell_type": "code",
      "execution_count": 61,
      "metadata": {
        "id": "rOKgmC89emql"
      },
      "outputs": [],
      "source": [
        "from torchviz import make_dot\n",
        "\n",
        "model = NeuralNetwork()\n",
        "X = torch.tensor([7, 5, 4, 2, 5, 1], dtype=torch.float32)\n",
        "y = model(X)"
      ]
    },
    {
      "cell_type": "code",
      "execution_count": 68,
      "metadata": {
        "colab": {
          "base_uri": "https://localhost:8080/",
          "height": 1000
        },
        "id": "_wPYhHmegmuA",
        "outputId": "898638a5-6a6d-4f2e-a7a9-8fb5dc738ef7"
      },
      "outputs": [
        {
          "data": {
            "image/svg+xml": [
              "<?xml version=\"1.0\" encoding=\"UTF-8\" standalone=\"no\"?>\n",
              "<!DOCTYPE svg PUBLIC \"-//W3C//DTD SVG 1.1//EN\"\n",
              " \"http://www.w3.org/Graphics/SVG/1.1/DTD/svg11.dtd\">\n",
              "<!-- Generated by graphviz version 2.43.0 (0)\n",
              " -->\n",
              "<!-- Title: %3 Pages: 1 -->\n",
              "<svg width=\"337pt\" height=\"864pt\"\n",
              " viewBox=\"0.00 0.00 336.71 864.00\" xmlns=\"http://www.w3.org/2000/svg\" xmlns:xlink=\"http://www.w3.org/1999/xlink\">\n",
              "<g id=\"graph0\" class=\"graph\" transform=\"scale(1.01 1.01) rotate(0) translate(4 871)\">\n",
              "<title>%3</title>\n",
              "<polygon fill=\"white\" stroke=\"transparent\" points=\"-4,4 -4,-871 337,-871 337,4 -4,4\"/>\n",
              "<!-- 133617044863504 -->\n",
              "<g id=\"node1\" class=\"node\">\n",
              "<title>133617044863504</title>\n",
              "<polygon fill=\"#caff70\" stroke=\"black\" points=\"198.5,-31 144.5,-31 144.5,0 198.5,0 198.5,-31\"/>\n",
              "<text text-anchor=\"middle\" x=\"171.5\" y=\"-7\" font-family=\"monospace\" font-size=\"10.00\"> ()</text>\n",
              "</g>\n",
              "<!-- 133617043701920 -->\n",
              "<g id=\"node2\" class=\"node\">\n",
              "<title>133617043701920</title>\n",
              "<polygon fill=\"lightgrey\" stroke=\"black\" points=\"219,-86 124,-86 124,-67 219,-67 219,-86\"/>\n",
              "<text text-anchor=\"middle\" x=\"171.5\" y=\"-74\" font-family=\"monospace\" font-size=\"10.00\">MeanBackward0</text>\n",
              "</g>\n",
              "<!-- 133617043701920&#45;&gt;133617044863504 -->\n",
              "<g id=\"edge26\" class=\"edge\">\n",
              "<title>133617043701920&#45;&gt;133617044863504</title>\n",
              "<path fill=\"none\" stroke=\"black\" d=\"M171.5,-66.79C171.5,-60.07 171.5,-50.4 171.5,-41.34\"/>\n",
              "<polygon fill=\"black\" stroke=\"black\" points=\"175,-41.19 171.5,-31.19 168,-41.19 175,-41.19\"/>\n",
              "</g>\n",
              "<!-- 133617043717808 -->\n",
              "<g id=\"node3\" class=\"node\">\n",
              "<title>133617043717808</title>\n",
              "<polygon fill=\"lightgrey\" stroke=\"black\" points=\"219,-141 124,-141 124,-122 219,-122 219,-141\"/>\n",
              "<text text-anchor=\"middle\" x=\"171.5\" y=\"-129\" font-family=\"monospace\" font-size=\"10.00\">ViewBackward0</text>\n",
              "</g>\n",
              "<!-- 133617043717808&#45;&gt;133617043701920 -->\n",
              "<g id=\"edge1\" class=\"edge\">\n",
              "<title>133617043717808&#45;&gt;133617043701920</title>\n",
              "<path fill=\"none\" stroke=\"black\" d=\"M171.5,-121.75C171.5,-114.8 171.5,-104.85 171.5,-96.13\"/>\n",
              "<polygon fill=\"black\" stroke=\"black\" points=\"175,-96.09 171.5,-86.09 168,-96.09 175,-96.09\"/>\n",
              "</g>\n",
              "<!-- 133617043715456 -->\n",
              "<g id=\"node4\" class=\"node\">\n",
              "<title>133617043715456</title>\n",
              "<polygon fill=\"lightgrey\" stroke=\"black\" points=\"222,-196 121,-196 121,-177 222,-177 222,-196\"/>\n",
              "<text text-anchor=\"middle\" x=\"171.5\" y=\"-184\" font-family=\"monospace\" font-size=\"10.00\">AddmmBackward0</text>\n",
              "</g>\n",
              "<!-- 133617043715456&#45;&gt;133617043717808 -->\n",
              "<g id=\"edge2\" class=\"edge\">\n",
              "<title>133617043715456&#45;&gt;133617043717808</title>\n",
              "<path fill=\"none\" stroke=\"black\" d=\"M171.5,-176.75C171.5,-169.8 171.5,-159.85 171.5,-151.13\"/>\n",
              "<polygon fill=\"black\" stroke=\"black\" points=\"175,-151.09 171.5,-141.09 168,-151.09 175,-151.09\"/>\n",
              "</g>\n",
              "<!-- 133617043714880 -->\n",
              "<g id=\"node5\" class=\"node\">\n",
              "<title>133617043714880</title>\n",
              "<polygon fill=\"lightgrey\" stroke=\"black\" points=\"106,-251 5,-251 5,-232 106,-232 106,-251\"/>\n",
              "<text text-anchor=\"middle\" x=\"55.5\" y=\"-239\" font-family=\"monospace\" font-size=\"10.00\">AccumulateGrad</text>\n",
              "</g>\n",
              "<!-- 133617043714880&#45;&gt;133617043715456 -->\n",
              "<g id=\"edge3\" class=\"edge\">\n",
              "<title>133617043714880&#45;&gt;133617043715456</title>\n",
              "<path fill=\"none\" stroke=\"black\" d=\"M74.14,-231.98C92.8,-223.46 121.75,-210.23 143.24,-200.41\"/>\n",
              "<polygon fill=\"black\" stroke=\"black\" points=\"144.88,-203.51 152.52,-196.17 141.97,-197.14 144.88,-203.51\"/>\n",
              "</g>\n",
              "<!-- 133617043411792 -->\n",
              "<g id=\"node6\" class=\"node\">\n",
              "<title>133617043411792</title>\n",
              "<polygon fill=\"lightblue\" stroke=\"black\" points=\"97,-317 14,-317 14,-287 97,-287 97,-317\"/>\n",
              "<text text-anchor=\"middle\" x=\"55.5\" y=\"-305\" font-family=\"monospace\" font-size=\"10.00\">output.bias</text>\n",
              "<text text-anchor=\"middle\" x=\"55.5\" y=\"-294\" font-family=\"monospace\" font-size=\"10.00\"> (7)</text>\n",
              "</g>\n",
              "<!-- 133617043411792&#45;&gt;133617043714880 -->\n",
              "<g id=\"edge4\" class=\"edge\">\n",
              "<title>133617043411792&#45;&gt;133617043714880</title>\n",
              "<path fill=\"none\" stroke=\"black\" d=\"M55.5,-286.84C55.5,-279.21 55.5,-269.7 55.5,-261.45\"/>\n",
              "<polygon fill=\"black\" stroke=\"black\" points=\"59,-261.27 55.5,-251.27 52,-261.27 59,-261.27\"/>\n",
              "</g>\n",
              "<!-- 133617043702304 -->\n",
              "<g id=\"node7\" class=\"node\">\n",
              "<title>133617043702304</title>\n",
              "<polygon fill=\"lightgrey\" stroke=\"black\" points=\"219,-251 124,-251 124,-232 219,-232 219,-251\"/>\n",
              "<text text-anchor=\"middle\" x=\"171.5\" y=\"-239\" font-family=\"monospace\" font-size=\"10.00\">ViewBackward0</text>\n",
              "</g>\n",
              "<!-- 133617043702304&#45;&gt;133617043715456 -->\n",
              "<g id=\"edge5\" class=\"edge\">\n",
              "<title>133617043702304&#45;&gt;133617043715456</title>\n",
              "<path fill=\"none\" stroke=\"black\" d=\"M171.5,-231.75C171.5,-224.8 171.5,-214.85 171.5,-206.13\"/>\n",
              "<polygon fill=\"black\" stroke=\"black\" points=\"175,-206.09 171.5,-196.09 168,-206.09 175,-206.09\"/>\n",
              "</g>\n",
              "<!-- 133617043717424 -->\n",
              "<g id=\"node8\" class=\"node\">\n",
              "<title>133617043717424</title>\n",
              "<polygon fill=\"lightgrey\" stroke=\"black\" points=\"214,-311.5 119,-311.5 119,-292.5 214,-292.5 214,-311.5\"/>\n",
              "<text text-anchor=\"middle\" x=\"166.5\" y=\"-299.5\" font-family=\"monospace\" font-size=\"10.00\">ReluBackward0</text>\n",
              "</g>\n",
              "<!-- 133617043717424&#45;&gt;133617043702304 -->\n",
              "<g id=\"edge6\" class=\"edge\">\n",
              "<title>133617043717424&#45;&gt;133617043702304</title>\n",
              "<path fill=\"none\" stroke=\"black\" d=\"M167.24,-292.37C167.93,-284.25 169,-271.81 169.89,-261.39\"/>\n",
              "<polygon fill=\"black\" stroke=\"black\" points=\"173.39,-261.43 170.76,-251.17 166.42,-260.83 173.39,-261.43\"/>\n",
              "</g>\n",
              "<!-- 133617043703744 -->\n",
              "<g id=\"node9\" class=\"node\">\n",
              "<title>133617043703744</title>\n",
              "<polygon fill=\"lightgrey\" stroke=\"black\" points=\"214,-377.5 119,-377.5 119,-358.5 214,-358.5 214,-377.5\"/>\n",
              "<text text-anchor=\"middle\" x=\"166.5\" y=\"-365.5\" font-family=\"monospace\" font-size=\"10.00\">ViewBackward0</text>\n",
              "</g>\n",
              "<!-- 133617043703744&#45;&gt;133617043717424 -->\n",
              "<g id=\"edge7\" class=\"edge\">\n",
              "<title>133617043703744&#45;&gt;133617043717424</title>\n",
              "<path fill=\"none\" stroke=\"black\" d=\"M166.5,-358.37C166.5,-349.16 166.5,-334.29 166.5,-322.27\"/>\n",
              "<polygon fill=\"black\" stroke=\"black\" points=\"170,-321.91 166.5,-311.91 163,-321.91 170,-321.91\"/>\n",
              "</g>\n",
              "<!-- 133617043703600 -->\n",
              "<g id=\"node10\" class=\"node\">\n",
              "<title>133617043703600</title>\n",
              "<polygon fill=\"lightgrey\" stroke=\"black\" points=\"217,-438 116,-438 116,-419 217,-419 217,-438\"/>\n",
              "<text text-anchor=\"middle\" x=\"166.5\" y=\"-426\" font-family=\"monospace\" font-size=\"10.00\">AddmmBackward0</text>\n",
              "</g>\n",
              "<!-- 133617043703600&#45;&gt;133617043703744 -->\n",
              "<g id=\"edge8\" class=\"edge\">\n",
              "<title>133617043703600&#45;&gt;133617043703744</title>\n",
              "<path fill=\"none\" stroke=\"black\" d=\"M166.5,-418.87C166.5,-410.75 166.5,-398.31 166.5,-387.89\"/>\n",
              "<polygon fill=\"black\" stroke=\"black\" points=\"170,-387.67 166.5,-377.67 163,-387.67 170,-387.67\"/>\n",
              "</g>\n",
              "<!-- 133617043705040 -->\n",
              "<g id=\"node11\" class=\"node\">\n",
              "<title>133617043705040</title>\n",
              "<polygon fill=\"lightgrey\" stroke=\"black\" points=\"101,-493 0,-493 0,-474 101,-474 101,-493\"/>\n",
              "<text text-anchor=\"middle\" x=\"50.5\" y=\"-481\" font-family=\"monospace\" font-size=\"10.00\">AccumulateGrad</text>\n",
              "</g>\n",
              "<!-- 133617043705040&#45;&gt;133617043703600 -->\n",
              "<g id=\"edge9\" class=\"edge\">\n",
              "<title>133617043705040&#45;&gt;133617043703600</title>\n",
              "<path fill=\"none\" stroke=\"black\" d=\"M69.14,-473.98C87.8,-465.46 116.75,-452.23 138.24,-442.41\"/>\n",
              "<polygon fill=\"black\" stroke=\"black\" points=\"139.88,-445.51 147.52,-438.17 136.97,-439.14 139.88,-445.51\"/>\n",
              "</g>\n",
              "<!-- 133617043411712 -->\n",
              "<g id=\"node12\" class=\"node\">\n",
              "<title>133617043411712</title>\n",
              "<polygon fill=\"lightblue\" stroke=\"black\" points=\"92,-559 9,-559 9,-529 92,-529 92,-559\"/>\n",
              "<text text-anchor=\"middle\" x=\"50.5\" y=\"-547\" font-family=\"monospace\" font-size=\"10.00\">layer2.bias</text>\n",
              "<text text-anchor=\"middle\" x=\"50.5\" y=\"-536\" font-family=\"monospace\" font-size=\"10.00\"> (32)</text>\n",
              "</g>\n",
              "<!-- 133617043411712&#45;&gt;133617043705040 -->\n",
              "<g id=\"edge10\" class=\"edge\">\n",
              "<title>133617043411712&#45;&gt;133617043705040</title>\n",
              "<path fill=\"none\" stroke=\"black\" d=\"M50.5,-528.84C50.5,-521.21 50.5,-511.7 50.5,-503.45\"/>\n",
              "<polygon fill=\"black\" stroke=\"black\" points=\"54,-503.27 50.5,-493.27 47,-503.27 54,-503.27\"/>\n",
              "</g>\n",
              "<!-- 133617043703456 -->\n",
              "<g id=\"node13\" class=\"node\">\n",
              "<title>133617043703456</title>\n",
              "<polygon fill=\"lightgrey\" stroke=\"black\" points=\"214,-493 119,-493 119,-474 214,-474 214,-493\"/>\n",
              "<text text-anchor=\"middle\" x=\"166.5\" y=\"-481\" font-family=\"monospace\" font-size=\"10.00\">ViewBackward0</text>\n",
              "</g>\n",
              "<!-- 133617043703456&#45;&gt;133617043703600 -->\n",
              "<g id=\"edge11\" class=\"edge\">\n",
              "<title>133617043703456&#45;&gt;133617043703600</title>\n",
              "<path fill=\"none\" stroke=\"black\" d=\"M166.5,-473.75C166.5,-466.8 166.5,-456.85 166.5,-448.13\"/>\n",
              "<polygon fill=\"black\" stroke=\"black\" points=\"170,-448.09 166.5,-438.09 163,-448.09 170,-448.09\"/>\n",
              "</g>\n",
              "<!-- 133617043713440 -->\n",
              "<g id=\"node14\" class=\"node\">\n",
              "<title>133617043713440</title>\n",
              "<polygon fill=\"lightgrey\" stroke=\"black\" points=\"209,-553.5 114,-553.5 114,-534.5 209,-534.5 209,-553.5\"/>\n",
              "<text text-anchor=\"middle\" x=\"161.5\" y=\"-541.5\" font-family=\"monospace\" font-size=\"10.00\">ReluBackward0</text>\n",
              "</g>\n",
              "<!-- 133617043713440&#45;&gt;133617043703456 -->\n",
              "<g id=\"edge12\" class=\"edge\">\n",
              "<title>133617043713440&#45;&gt;133617043703456</title>\n",
              "<path fill=\"none\" stroke=\"black\" d=\"M162.24,-534.37C162.93,-526.25 164,-513.81 164.89,-503.39\"/>\n",
              "<polygon fill=\"black\" stroke=\"black\" points=\"168.39,-503.43 165.76,-493.17 161.42,-502.83 168.39,-503.43\"/>\n",
              "</g>\n",
              "<!-- 133617043712768 -->\n",
              "<g id=\"node15\" class=\"node\">\n",
              "<title>133617043712768</title>\n",
              "<polygon fill=\"lightgrey\" stroke=\"black\" points=\"209,-619.5 114,-619.5 114,-600.5 209,-600.5 209,-619.5\"/>\n",
              "<text text-anchor=\"middle\" x=\"161.5\" y=\"-607.5\" font-family=\"monospace\" font-size=\"10.00\">ViewBackward0</text>\n",
              "</g>\n",
              "<!-- 133617043712768&#45;&gt;133617043713440 -->\n",
              "<g id=\"edge13\" class=\"edge\">\n",
              "<title>133617043712768&#45;&gt;133617043713440</title>\n",
              "<path fill=\"none\" stroke=\"black\" d=\"M161.5,-600.37C161.5,-591.16 161.5,-576.29 161.5,-564.27\"/>\n",
              "<polygon fill=\"black\" stroke=\"black\" points=\"165,-563.91 161.5,-553.91 158,-563.91 165,-563.91\"/>\n",
              "</g>\n",
              "<!-- 133617043716416 -->\n",
              "<g id=\"node16\" class=\"node\">\n",
              "<title>133617043716416</title>\n",
              "<polygon fill=\"lightgrey\" stroke=\"black\" points=\"212,-680 111,-680 111,-661 212,-661 212,-680\"/>\n",
              "<text text-anchor=\"middle\" x=\"161.5\" y=\"-668\" font-family=\"monospace\" font-size=\"10.00\">AddmmBackward0</text>\n",
              "</g>\n",
              "<!-- 133617043716416&#45;&gt;133617043712768 -->\n",
              "<g id=\"edge14\" class=\"edge\">\n",
              "<title>133617043716416&#45;&gt;133617043712768</title>\n",
              "<path fill=\"none\" stroke=\"black\" d=\"M161.5,-660.87C161.5,-652.75 161.5,-640.31 161.5,-629.89\"/>\n",
              "<polygon fill=\"black\" stroke=\"black\" points=\"165,-629.67 161.5,-619.67 158,-629.67 165,-629.67\"/>\n",
              "</g>\n",
              "<!-- 133617043708976 -->\n",
              "<g id=\"node17\" class=\"node\">\n",
              "<title>133617043708976</title>\n",
              "<polygon fill=\"lightgrey\" stroke=\"black\" points=\"159,-735 58,-735 58,-716 159,-716 159,-735\"/>\n",
              "<text text-anchor=\"middle\" x=\"108.5\" y=\"-723\" font-family=\"monospace\" font-size=\"10.00\">AccumulateGrad</text>\n",
              "</g>\n",
              "<!-- 133617043708976&#45;&gt;133617043716416 -->\n",
              "<g id=\"edge15\" class=\"edge\">\n",
              "<title>133617043708976&#45;&gt;133617043716416</title>\n",
              "<path fill=\"none\" stroke=\"black\" d=\"M117.25,-715.75C124.97,-708.03 136.4,-696.6 145.72,-687.28\"/>\n",
              "<polygon fill=\"black\" stroke=\"black\" points=\"148.31,-689.64 152.91,-680.09 143.36,-684.69 148.31,-689.64\"/>\n",
              "</g>\n",
              "<!-- 133617043107536 -->\n",
              "<g id=\"node18\" class=\"node\">\n",
              "<title>133617043107536</title>\n",
              "<polygon fill=\"lightblue\" stroke=\"black\" points=\"149,-801 66,-801 66,-771 149,-771 149,-801\"/>\n",
              "<text text-anchor=\"middle\" x=\"107.5\" y=\"-789\" font-family=\"monospace\" font-size=\"10.00\">layer1.bias</text>\n",
              "<text text-anchor=\"middle\" x=\"107.5\" y=\"-778\" font-family=\"monospace\" font-size=\"10.00\"> (32)</text>\n",
              "</g>\n",
              "<!-- 133617043107536&#45;&gt;133617043708976 -->\n",
              "<g id=\"edge16\" class=\"edge\">\n",
              "<title>133617043107536&#45;&gt;133617043708976</title>\n",
              "<path fill=\"none\" stroke=\"black\" d=\"M107.74,-770.84C107.87,-763.21 108.03,-753.7 108.18,-745.45\"/>\n",
              "<polygon fill=\"black\" stroke=\"black\" points=\"111.68,-745.32 108.35,-735.27 104.68,-745.2 111.68,-745.32\"/>\n",
              "</g>\n",
              "<!-- 133617043706192 -->\n",
              "<g id=\"node19\" class=\"node\">\n",
              "<title>133617043706192</title>\n",
              "<polygon fill=\"lightgrey\" stroke=\"black\" points=\"255,-735 178,-735 178,-716 255,-716 255,-735\"/>\n",
              "<text text-anchor=\"middle\" x=\"216.5\" y=\"-723\" font-family=\"monospace\" font-size=\"10.00\">TBackward0</text>\n",
              "</g>\n",
              "<!-- 133617043706192&#45;&gt;133617043716416 -->\n",
              "<g id=\"edge17\" class=\"edge\">\n",
              "<title>133617043706192&#45;&gt;133617043716416</title>\n",
              "<path fill=\"none\" stroke=\"black\" d=\"M207.42,-715.75C199.41,-708.03 187.54,-696.6 177.88,-687.28\"/>\n",
              "<polygon fill=\"black\" stroke=\"black\" points=\"180.04,-684.51 170.41,-680.09 175.19,-689.55 180.04,-684.51\"/>\n",
              "</g>\n",
              "<!-- 133617043707344 -->\n",
              "<g id=\"node20\" class=\"node\">\n",
              "<title>133617043707344</title>\n",
              "<polygon fill=\"lightgrey\" stroke=\"black\" points=\"268,-795.5 167,-795.5 167,-776.5 268,-776.5 268,-795.5\"/>\n",
              "<text text-anchor=\"middle\" x=\"217.5\" y=\"-783.5\" font-family=\"monospace\" font-size=\"10.00\">AccumulateGrad</text>\n",
              "</g>\n",
              "<!-- 133617043707344&#45;&gt;133617043706192 -->\n",
              "<g id=\"edge18\" class=\"edge\">\n",
              "<title>133617043707344&#45;&gt;133617043706192</title>\n",
              "<path fill=\"none\" stroke=\"black\" d=\"M217.35,-776.37C217.21,-768.25 217,-755.81 216.82,-745.39\"/>\n",
              "<polygon fill=\"black\" stroke=\"black\" points=\"220.32,-745.11 216.65,-735.17 213.32,-745.23 220.32,-745.11\"/>\n",
              "</g>\n",
              "<!-- 133617043108576 -->\n",
              "<g id=\"node21\" class=\"node\">\n",
              "<title>133617043108576</title>\n",
              "<polygon fill=\"lightblue\" stroke=\"black\" points=\"265,-867 170,-867 170,-837 265,-837 265,-867\"/>\n",
              "<text text-anchor=\"middle\" x=\"217.5\" y=\"-855\" font-family=\"monospace\" font-size=\"10.00\">layer1.weight</text>\n",
              "<text text-anchor=\"middle\" x=\"217.5\" y=\"-844\" font-family=\"monospace\" font-size=\"10.00\"> (32, 6)</text>\n",
              "</g>\n",
              "<!-- 133617043108576&#45;&gt;133617043707344 -->\n",
              "<g id=\"edge19\" class=\"edge\">\n",
              "<title>133617043108576&#45;&gt;133617043707344</title>\n",
              "<path fill=\"none\" stroke=\"black\" d=\"M217.5,-836.8C217.5,-827.7 217.5,-815.79 217.5,-805.9\"/>\n",
              "<polygon fill=\"black\" stroke=\"black\" points=\"221,-805.84 217.5,-795.84 214,-805.84 221,-805.84\"/>\n",
              "</g>\n",
              "<!-- 133617043704128 -->\n",
              "<g id=\"node22\" class=\"node\">\n",
              "<title>133617043704128</title>\n",
              "<polygon fill=\"lightgrey\" stroke=\"black\" points=\"312,-493 235,-493 235,-474 312,-474 312,-493\"/>\n",
              "<text text-anchor=\"middle\" x=\"273.5\" y=\"-481\" font-family=\"monospace\" font-size=\"10.00\">TBackward0</text>\n",
              "</g>\n",
              "<!-- 133617043704128&#45;&gt;133617043703600 -->\n",
              "<g id=\"edge20\" class=\"edge\">\n",
              "<title>133617043704128&#45;&gt;133617043703600</title>\n",
              "<path fill=\"none\" stroke=\"black\" d=\"M256.31,-473.98C239.25,-465.54 212.87,-452.47 193.1,-442.68\"/>\n",
              "<polygon fill=\"black\" stroke=\"black\" points=\"194.52,-439.47 184,-438.17 191.41,-445.75 194.52,-439.47\"/>\n",
              "</g>\n",
              "<!-- 133617043713200 -->\n",
              "<g id=\"node23\" class=\"node\">\n",
              "<title>133617043713200</title>\n",
              "<polygon fill=\"lightgrey\" stroke=\"black\" points=\"328,-553.5 227,-553.5 227,-534.5 328,-534.5 328,-553.5\"/>\n",
              "<text text-anchor=\"middle\" x=\"277.5\" y=\"-541.5\" font-family=\"monospace\" font-size=\"10.00\">AccumulateGrad</text>\n",
              "</g>\n",
              "<!-- 133617043713200&#45;&gt;133617043704128 -->\n",
              "<g id=\"edge21\" class=\"edge\">\n",
              "<title>133617043713200&#45;&gt;133617043704128</title>\n",
              "<path fill=\"none\" stroke=\"black\" d=\"M276.91,-534.37C276.35,-526.25 275.5,-513.81 274.79,-503.39\"/>\n",
              "<polygon fill=\"black\" stroke=\"black\" points=\"278.27,-502.91 274.09,-493.17 271.28,-503.38 278.27,-502.91\"/>\n",
              "</g>\n",
              "<!-- 133618133049536 -->\n",
              "<g id=\"node24\" class=\"node\">\n",
              "<title>133618133049536</title>\n",
              "<polygon fill=\"lightblue\" stroke=\"black\" points=\"325,-625 230,-625 230,-595 325,-595 325,-625\"/>\n",
              "<text text-anchor=\"middle\" x=\"277.5\" y=\"-613\" font-family=\"monospace\" font-size=\"10.00\">layer2.weight</text>\n",
              "<text text-anchor=\"middle\" x=\"277.5\" y=\"-602\" font-family=\"monospace\" font-size=\"10.00\"> (32, 32)</text>\n",
              "</g>\n",
              "<!-- 133618133049536&#45;&gt;133617043713200 -->\n",
              "<g id=\"edge22\" class=\"edge\">\n",
              "<title>133618133049536&#45;&gt;133617043713200</title>\n",
              "<path fill=\"none\" stroke=\"black\" d=\"M277.5,-594.8C277.5,-585.7 277.5,-573.79 277.5,-563.9\"/>\n",
              "<polygon fill=\"black\" stroke=\"black\" points=\"281,-563.84 277.5,-553.84 274,-563.84 281,-563.84\"/>\n",
              "</g>\n",
              "<!-- 133617043701872 -->\n",
              "<g id=\"node25\" class=\"node\">\n",
              "<title>133617043701872</title>\n",
              "<polygon fill=\"lightgrey\" stroke=\"black\" points=\"315,-251 238,-251 238,-232 315,-232 315,-251\"/>\n",
              "<text text-anchor=\"middle\" x=\"276.5\" y=\"-239\" font-family=\"monospace\" font-size=\"10.00\">TBackward0</text>\n",
              "</g>\n",
              "<!-- 133617043701872&#45;&gt;133617043715456 -->\n",
              "<g id=\"edge23\" class=\"edge\">\n",
              "<title>133617043701872&#45;&gt;133617043715456</title>\n",
              "<path fill=\"none\" stroke=\"black\" d=\"M259.63,-231.98C242.89,-223.54 217,-210.47 197.61,-200.68\"/>\n",
              "<polygon fill=\"black\" stroke=\"black\" points=\"199.18,-197.55 188.68,-196.17 196.03,-203.8 199.18,-197.55\"/>\n",
              "</g>\n",
              "<!-- 133617043703696 -->\n",
              "<g id=\"node26\" class=\"node\">\n",
              "<title>133617043703696</title>\n",
              "<polygon fill=\"lightgrey\" stroke=\"black\" points=\"333,-311.5 232,-311.5 232,-292.5 333,-292.5 333,-311.5\"/>\n",
              "<text text-anchor=\"middle\" x=\"282.5\" y=\"-299.5\" font-family=\"monospace\" font-size=\"10.00\">AccumulateGrad</text>\n",
              "</g>\n",
              "<!-- 133617043703696&#45;&gt;133617043701872 -->\n",
              "<g id=\"edge24\" class=\"edge\">\n",
              "<title>133617043703696&#45;&gt;133617043701872</title>\n",
              "<path fill=\"none\" stroke=\"black\" d=\"M281.61,-292.37C280.78,-284.25 279.51,-271.81 278.44,-261.39\"/>\n",
              "<polygon fill=\"black\" stroke=\"black\" points=\"281.89,-260.76 277.39,-251.17 274.93,-261.47 281.89,-260.76\"/>\n",
              "</g>\n",
              "<!-- 133617043411552 -->\n",
              "<g id=\"node27\" class=\"node\">\n",
              "<title>133617043411552</title>\n",
              "<polygon fill=\"lightblue\" stroke=\"black\" points=\"330,-383 235,-383 235,-353 330,-353 330,-383\"/>\n",
              "<text text-anchor=\"middle\" x=\"282.5\" y=\"-371\" font-family=\"monospace\" font-size=\"10.00\">output.weight</text>\n",
              "<text text-anchor=\"middle\" x=\"282.5\" y=\"-360\" font-family=\"monospace\" font-size=\"10.00\"> (7, 32)</text>\n",
              "</g>\n",
              "<!-- 133617043411552&#45;&gt;133617043703696 -->\n",
              "<g id=\"edge25\" class=\"edge\">\n",
              "<title>133617043411552&#45;&gt;133617043703696</title>\n",
              "<path fill=\"none\" stroke=\"black\" d=\"M282.5,-352.8C282.5,-343.7 282.5,-331.79 282.5,-321.9\"/>\n",
              "<polygon fill=\"black\" stroke=\"black\" points=\"286,-321.84 282.5,-311.84 279,-321.84 286,-321.84\"/>\n",
              "</g>\n",
              "</g>\n",
              "</svg>\n"
            ],
            "text/plain": [
              "<graphviz.graphs.Digraph at 0x7986246d1600>"
            ]
          },
          "execution_count": 68,
          "metadata": {},
          "output_type": "execute_result"
        }
      ],
      "source": [
        "make_dot(y.mean(), params=dict(model.named_parameters()))"
      ]
    },
    {
      "cell_type": "code",
      "execution_count": 57,
      "metadata": {
        "id": "I6LrNuPTjTRA"
      },
      "outputs": [],
      "source": [
        "# Using tensorboard\n",
        "from torch.utils.tensorboard import SummaryWriter\n",
        "\n",
        "writer = SummaryWriter(\"torchlogs/\")\n",
        "model = NeuralNetwork()\n",
        "writer.add_graph(model, X)\n",
        "writer.close()\n",
        "\n",
        "# cd <path-to-logs-dir>\n",
        "# tensorboard --logdir=./"
      ]
    }
  ],
  "metadata": {
    "colab": {
      "provenance": []
    },
    "kernelspec": {
      "display_name": "Python 3",
      "name": "python3"
    },
    "language_info": {
      "name": "python"
    }
  },
  "nbformat": 4,
  "nbformat_minor": 0
}
