{
  "nbformat": 4,
  "nbformat_minor": 0,
  "metadata": {
    "colab": {
      "provenance": []
    },
    "kernelspec": {
      "name": "python3",
      "display_name": "Python 3"
    },
    "language_info": {
      "name": "python"
    }
  },
  "cells": [
    {
      "cell_type": "markdown",
      "source": [
        "# Agriculture Artificial Neural Network"
      ],
      "metadata": {
        "id": "0qloHu_GJTet"
      }
    },
    {
      "cell_type": "markdown",
      "source": [
        "## Imports"
      ],
      "metadata": {
        "id": "lGLP9WcJKMjB"
      }
    },
    {
      "cell_type": "code",
      "source": [
        "import pandas as pd\n",
        "import torch\n",
        "import torch.nn as nn\n",
        "import torch.optim as optim\n",
        "from sklearn.preprocessing import MinMaxScaler\n",
        "from sklearn.model_selection import train_test_split\n",
        "import matplotlib.pyplot as plt"
      ],
      "metadata": {
        "id": "qG-gPl5qKgvu"
      },
      "execution_count": null,
      "outputs": []
    },
    {
      "cell_type": "markdown",
      "source": [
        "## Import Data from excel"
      ],
      "metadata": {
        "id": "9mGCaxP2Ky-J"
      }
    },
    {
      "cell_type": "code",
      "source": [
        "file_path = 'balanced_data.xlsx'\n",
        "df = pd.read_excel(file_path)"
      ],
      "metadata": {
        "id": "xNGFKSgJK4LR"
      },
      "execution_count": null,
      "outputs": []
    },
    {
      "cell_type": "code",
      "source": [
        "df.head()"
      ],
      "metadata": {
        "colab": {
          "base_uri": "https://localhost:8080/",
          "height": 243
        },
        "id": "7a4rlFzTR93L",
        "outputId": "ad3ec4a3-fbab-44f2-99b1-b0ab0e142914"
      },
      "execution_count": null,
      "outputs": [
        {
          "output_type": "execute_result",
          "data": {
            "text/plain": [
              "   Unnamed: 0  Nitrogen  Phosphorus  Potassium  Temperature  Humidity  \\\n",
              "0           0         2           3          6            1         1   \n",
              "1           1         7           0          9            5         5   \n",
              "2           2         3           4          6            0         3   \n",
              "3           3         5           6          5            5         0   \n",
              "4           4         0           3          6            4         5   \n",
              "\n",
              "   rain_intensity  nitrogen_expectation  phosphorus_expectation  \\\n",
              "0               1                     1                       3   \n",
              "1               2                     3                       4   \n",
              "2               0                     2                       4   \n",
              "3               3                     3                       5   \n",
              "4               2                     3                       4   \n",
              "\n",
              "   potassium_expectation  water_expectation  \n",
              "0                      7                  1  \n",
              "1                      6                  4  \n",
              "2                      6                  1  \n",
              "3                      8                  3  \n",
              "4                      6                  4  "
            ],
            "text/html": [
              "\n",
              "  <div id=\"df-4a838089-3fec-4b66-891d-0b5f30fa1d39\" class=\"colab-df-container\">\n",
              "    <div>\n",
              "<style scoped>\n",
              "    .dataframe tbody tr th:only-of-type {\n",
              "        vertical-align: middle;\n",
              "    }\n",
              "\n",
              "    .dataframe tbody tr th {\n",
              "        vertical-align: top;\n",
              "    }\n",
              "\n",
              "    .dataframe thead th {\n",
              "        text-align: right;\n",
              "    }\n",
              "</style>\n",
              "<table border=\"1\" class=\"dataframe\">\n",
              "  <thead>\n",
              "    <tr style=\"text-align: right;\">\n",
              "      <th></th>\n",
              "      <th>Unnamed: 0</th>\n",
              "      <th>Nitrogen</th>\n",
              "      <th>Phosphorus</th>\n",
              "      <th>Potassium</th>\n",
              "      <th>Temperature</th>\n",
              "      <th>Humidity</th>\n",
              "      <th>rain_intensity</th>\n",
              "      <th>nitrogen_expectation</th>\n",
              "      <th>phosphorus_expectation</th>\n",
              "      <th>potassium_expectation</th>\n",
              "      <th>water_expectation</th>\n",
              "    </tr>\n",
              "  </thead>\n",
              "  <tbody>\n",
              "    <tr>\n",
              "      <th>0</th>\n",
              "      <td>0</td>\n",
              "      <td>2</td>\n",
              "      <td>3</td>\n",
              "      <td>6</td>\n",
              "      <td>1</td>\n",
              "      <td>1</td>\n",
              "      <td>1</td>\n",
              "      <td>1</td>\n",
              "      <td>3</td>\n",
              "      <td>7</td>\n",
              "      <td>1</td>\n",
              "    </tr>\n",
              "    <tr>\n",
              "      <th>1</th>\n",
              "      <td>1</td>\n",
              "      <td>7</td>\n",
              "      <td>0</td>\n",
              "      <td>9</td>\n",
              "      <td>5</td>\n",
              "      <td>5</td>\n",
              "      <td>2</td>\n",
              "      <td>3</td>\n",
              "      <td>4</td>\n",
              "      <td>6</td>\n",
              "      <td>4</td>\n",
              "    </tr>\n",
              "    <tr>\n",
              "      <th>2</th>\n",
              "      <td>2</td>\n",
              "      <td>3</td>\n",
              "      <td>4</td>\n",
              "      <td>6</td>\n",
              "      <td>0</td>\n",
              "      <td>3</td>\n",
              "      <td>0</td>\n",
              "      <td>2</td>\n",
              "      <td>4</td>\n",
              "      <td>6</td>\n",
              "      <td>1</td>\n",
              "    </tr>\n",
              "    <tr>\n",
              "      <th>3</th>\n",
              "      <td>3</td>\n",
              "      <td>5</td>\n",
              "      <td>6</td>\n",
              "      <td>5</td>\n",
              "      <td>5</td>\n",
              "      <td>0</td>\n",
              "      <td>3</td>\n",
              "      <td>3</td>\n",
              "      <td>5</td>\n",
              "      <td>8</td>\n",
              "      <td>3</td>\n",
              "    </tr>\n",
              "    <tr>\n",
              "      <th>4</th>\n",
              "      <td>4</td>\n",
              "      <td>0</td>\n",
              "      <td>3</td>\n",
              "      <td>6</td>\n",
              "      <td>4</td>\n",
              "      <td>5</td>\n",
              "      <td>2</td>\n",
              "      <td>3</td>\n",
              "      <td>4</td>\n",
              "      <td>6</td>\n",
              "      <td>4</td>\n",
              "    </tr>\n",
              "  </tbody>\n",
              "</table>\n",
              "</div>\n",
              "    <div class=\"colab-df-buttons\">\n",
              "\n",
              "  <div class=\"colab-df-container\">\n",
              "    <button class=\"colab-df-convert\" onclick=\"convertToInteractive('df-4a838089-3fec-4b66-891d-0b5f30fa1d39')\"\n",
              "            title=\"Convert this dataframe to an interactive table.\"\n",
              "            style=\"display:none;\">\n",
              "\n",
              "  <svg xmlns=\"http://www.w3.org/2000/svg\" height=\"24px\" viewBox=\"0 -960 960 960\">\n",
              "    <path d=\"M120-120v-720h720v720H120Zm60-500h600v-160H180v160Zm220 220h160v-160H400v160Zm0 220h160v-160H400v160ZM180-400h160v-160H180v160Zm440 0h160v-160H620v160ZM180-180h160v-160H180v160Zm440 0h160v-160H620v160Z\"/>\n",
              "  </svg>\n",
              "    </button>\n",
              "\n",
              "  <style>\n",
              "    .colab-df-container {\n",
              "      display:flex;\n",
              "      gap: 12px;\n",
              "    }\n",
              "\n",
              "    .colab-df-convert {\n",
              "      background-color: #E8F0FE;\n",
              "      border: none;\n",
              "      border-radius: 50%;\n",
              "      cursor: pointer;\n",
              "      display: none;\n",
              "      fill: #1967D2;\n",
              "      height: 32px;\n",
              "      padding: 0 0 0 0;\n",
              "      width: 32px;\n",
              "    }\n",
              "\n",
              "    .colab-df-convert:hover {\n",
              "      background-color: #E2EBFA;\n",
              "      box-shadow: 0px 1px 2px rgba(60, 64, 67, 0.3), 0px 1px 3px 1px rgba(60, 64, 67, 0.15);\n",
              "      fill: #174EA6;\n",
              "    }\n",
              "\n",
              "    .colab-df-buttons div {\n",
              "      margin-bottom: 4px;\n",
              "    }\n",
              "\n",
              "    [theme=dark] .colab-df-convert {\n",
              "      background-color: #3B4455;\n",
              "      fill: #D2E3FC;\n",
              "    }\n",
              "\n",
              "    [theme=dark] .colab-df-convert:hover {\n",
              "      background-color: #434B5C;\n",
              "      box-shadow: 0px 1px 3px 1px rgba(0, 0, 0, 0.15);\n",
              "      filter: drop-shadow(0px 1px 2px rgba(0, 0, 0, 0.3));\n",
              "      fill: #FFFFFF;\n",
              "    }\n",
              "  </style>\n",
              "\n",
              "    <script>\n",
              "      const buttonEl =\n",
              "        document.querySelector('#df-4a838089-3fec-4b66-891d-0b5f30fa1d39 button.colab-df-convert');\n",
              "      buttonEl.style.display =\n",
              "        google.colab.kernel.accessAllowed ? 'block' : 'none';\n",
              "\n",
              "      async function convertToInteractive(key) {\n",
              "        const element = document.querySelector('#df-4a838089-3fec-4b66-891d-0b5f30fa1d39');\n",
              "        const dataTable =\n",
              "          await google.colab.kernel.invokeFunction('convertToInteractive',\n",
              "                                                    [key], {});\n",
              "        if (!dataTable) return;\n",
              "\n",
              "        const docLinkHtml = 'Like what you see? Visit the ' +\n",
              "          '<a target=\"_blank\" href=https://colab.research.google.com/notebooks/data_table.ipynb>data table notebook</a>'\n",
              "          + ' to learn more about interactive tables.';\n",
              "        element.innerHTML = '';\n",
              "        dataTable['output_type'] = 'display_data';\n",
              "        await google.colab.output.renderOutput(dataTable, element);\n",
              "        const docLink = document.createElement('div');\n",
              "        docLink.innerHTML = docLinkHtml;\n",
              "        element.appendChild(docLink);\n",
              "      }\n",
              "    </script>\n",
              "  </div>\n",
              "\n",
              "\n",
              "<div id=\"df-0cd422a2-78d4-4ee9-80fe-82605fd9cf81\">\n",
              "  <button class=\"colab-df-quickchart\" onclick=\"quickchart('df-0cd422a2-78d4-4ee9-80fe-82605fd9cf81')\"\n",
              "            title=\"Suggest charts\"\n",
              "            style=\"display:none;\">\n",
              "\n",
              "<svg xmlns=\"http://www.w3.org/2000/svg\" height=\"24px\"viewBox=\"0 0 24 24\"\n",
              "     width=\"24px\">\n",
              "    <g>\n",
              "        <path d=\"M19 3H5c-1.1 0-2 .9-2 2v14c0 1.1.9 2 2 2h14c1.1 0 2-.9 2-2V5c0-1.1-.9-2-2-2zM9 17H7v-7h2v7zm4 0h-2V7h2v10zm4 0h-2v-4h2v4z\"/>\n",
              "    </g>\n",
              "</svg>\n",
              "  </button>\n",
              "\n",
              "<style>\n",
              "  .colab-df-quickchart {\n",
              "      --bg-color: #E8F0FE;\n",
              "      --fill-color: #1967D2;\n",
              "      --hover-bg-color: #E2EBFA;\n",
              "      --hover-fill-color: #174EA6;\n",
              "      --disabled-fill-color: #AAA;\n",
              "      --disabled-bg-color: #DDD;\n",
              "  }\n",
              "\n",
              "  [theme=dark] .colab-df-quickchart {\n",
              "      --bg-color: #3B4455;\n",
              "      --fill-color: #D2E3FC;\n",
              "      --hover-bg-color: #434B5C;\n",
              "      --hover-fill-color: #FFFFFF;\n",
              "      --disabled-bg-color: #3B4455;\n",
              "      --disabled-fill-color: #666;\n",
              "  }\n",
              "\n",
              "  .colab-df-quickchart {\n",
              "    background-color: var(--bg-color);\n",
              "    border: none;\n",
              "    border-radius: 50%;\n",
              "    cursor: pointer;\n",
              "    display: none;\n",
              "    fill: var(--fill-color);\n",
              "    height: 32px;\n",
              "    padding: 0;\n",
              "    width: 32px;\n",
              "  }\n",
              "\n",
              "  .colab-df-quickchart:hover {\n",
              "    background-color: var(--hover-bg-color);\n",
              "    box-shadow: 0 1px 2px rgba(60, 64, 67, 0.3), 0 1px 3px 1px rgba(60, 64, 67, 0.15);\n",
              "    fill: var(--button-hover-fill-color);\n",
              "  }\n",
              "\n",
              "  .colab-df-quickchart-complete:disabled,\n",
              "  .colab-df-quickchart-complete:disabled:hover {\n",
              "    background-color: var(--disabled-bg-color);\n",
              "    fill: var(--disabled-fill-color);\n",
              "    box-shadow: none;\n",
              "  }\n",
              "\n",
              "  .colab-df-spinner {\n",
              "    border: 2px solid var(--fill-color);\n",
              "    border-color: transparent;\n",
              "    border-bottom-color: var(--fill-color);\n",
              "    animation:\n",
              "      spin 1s steps(1) infinite;\n",
              "  }\n",
              "\n",
              "  @keyframes spin {\n",
              "    0% {\n",
              "      border-color: transparent;\n",
              "      border-bottom-color: var(--fill-color);\n",
              "      border-left-color: var(--fill-color);\n",
              "    }\n",
              "    20% {\n",
              "      border-color: transparent;\n",
              "      border-left-color: var(--fill-color);\n",
              "      border-top-color: var(--fill-color);\n",
              "    }\n",
              "    30% {\n",
              "      border-color: transparent;\n",
              "      border-left-color: var(--fill-color);\n",
              "      border-top-color: var(--fill-color);\n",
              "      border-right-color: var(--fill-color);\n",
              "    }\n",
              "    40% {\n",
              "      border-color: transparent;\n",
              "      border-right-color: var(--fill-color);\n",
              "      border-top-color: var(--fill-color);\n",
              "    }\n",
              "    60% {\n",
              "      border-color: transparent;\n",
              "      border-right-color: var(--fill-color);\n",
              "    }\n",
              "    80% {\n",
              "      border-color: transparent;\n",
              "      border-right-color: var(--fill-color);\n",
              "      border-bottom-color: var(--fill-color);\n",
              "    }\n",
              "    90% {\n",
              "      border-color: transparent;\n",
              "      border-bottom-color: var(--fill-color);\n",
              "    }\n",
              "  }\n",
              "</style>\n",
              "\n",
              "  <script>\n",
              "    async function quickchart(key) {\n",
              "      const quickchartButtonEl =\n",
              "        document.querySelector('#' + key + ' button');\n",
              "      quickchartButtonEl.disabled = true;  // To prevent multiple clicks.\n",
              "      quickchartButtonEl.classList.add('colab-df-spinner');\n",
              "      try {\n",
              "        const charts = await google.colab.kernel.invokeFunction(\n",
              "            'suggestCharts', [key], {});\n",
              "      } catch (error) {\n",
              "        console.error('Error during call to suggestCharts:', error);\n",
              "      }\n",
              "      quickchartButtonEl.classList.remove('colab-df-spinner');\n",
              "      quickchartButtonEl.classList.add('colab-df-quickchart-complete');\n",
              "    }\n",
              "    (() => {\n",
              "      let quickchartButtonEl =\n",
              "        document.querySelector('#df-0cd422a2-78d4-4ee9-80fe-82605fd9cf81 button');\n",
              "      quickchartButtonEl.style.display =\n",
              "        google.colab.kernel.accessAllowed ? 'block' : 'none';\n",
              "    })();\n",
              "  </script>\n",
              "</div>\n",
              "\n",
              "    </div>\n",
              "  </div>\n"
            ],
            "application/vnd.google.colaboratory.intrinsic+json": {
              "type": "dataframe",
              "variable_name": "df",
              "summary": "{\n  \"name\": \"df\",\n  \"rows\": 2530,\n  \"fields\": [\n    {\n      \"column\": \"Unnamed: 0\",\n      \"properties\": {\n        \"dtype\": \"number\",\n        \"std\": 730,\n        \"min\": 0,\n        \"max\": 2529,\n        \"num_unique_values\": 2530,\n        \"samples\": [\n          2307,\n          2055,\n          194\n        ],\n        \"semantic_type\": \"\",\n        \"description\": \"\"\n      }\n    },\n    {\n      \"column\": \"Nitrogen\",\n      \"properties\": {\n        \"dtype\": \"number\",\n        \"std\": 3,\n        \"min\": 0,\n        \"max\": 10,\n        \"num_unique_values\": 11,\n        \"samples\": [\n          1,\n          2,\n          8\n        ],\n        \"semantic_type\": \"\",\n        \"description\": \"\"\n      }\n    },\n    {\n      \"column\": \"Phosphorus\",\n      \"properties\": {\n        \"dtype\": \"number\",\n        \"std\": 3,\n        \"min\": 0,\n        \"max\": 10,\n        \"num_unique_values\": 11,\n        \"samples\": [\n          2,\n          3,\n          10\n        ],\n        \"semantic_type\": \"\",\n        \"description\": \"\"\n      }\n    },\n    {\n      \"column\": \"Potassium\",\n      \"properties\": {\n        \"dtype\": \"number\",\n        \"std\": 3,\n        \"min\": 0,\n        \"max\": 10,\n        \"num_unique_values\": 11,\n        \"samples\": [\n          8,\n          6,\n          10\n        ],\n        \"semantic_type\": \"\",\n        \"description\": \"\"\n      }\n    },\n    {\n      \"column\": \"Temperature\",\n      \"properties\": {\n        \"dtype\": \"number\",\n        \"std\": 2,\n        \"min\": 0,\n        \"max\": 6,\n        \"num_unique_values\": 7,\n        \"samples\": [\n          1,\n          5,\n          6\n        ],\n        \"semantic_type\": \"\",\n        \"description\": \"\"\n      }\n    },\n    {\n      \"column\": \"Humidity\",\n      \"properties\": {\n        \"dtype\": \"number\",\n        \"std\": 1,\n        \"min\": 0,\n        \"max\": 5,\n        \"num_unique_values\": 5,\n        \"samples\": [\n          5,\n          2,\n          3\n        ],\n        \"semantic_type\": \"\",\n        \"description\": \"\"\n      }\n    },\n    {\n      \"column\": \"rain_intensity\",\n      \"properties\": {\n        \"dtype\": \"number\",\n        \"std\": 1,\n        \"min\": 0,\n        \"max\": 3,\n        \"num_unique_values\": 4,\n        \"samples\": [\n          2,\n          3,\n          1\n        ],\n        \"semantic_type\": \"\",\n        \"description\": \"\"\n      }\n    },\n    {\n      \"column\": \"nitrogen_expectation\",\n      \"properties\": {\n        \"dtype\": \"number\",\n        \"std\": 0,\n        \"min\": 1,\n        \"max\": 3,\n        \"num_unique_values\": 3,\n        \"samples\": [\n          1,\n          3,\n          2\n        ],\n        \"semantic_type\": \"\",\n        \"description\": \"\"\n      }\n    },\n    {\n      \"column\": \"phosphorus_expectation\",\n      \"properties\": {\n        \"dtype\": \"number\",\n        \"std\": 0,\n        \"min\": 3,\n        \"max\": 6,\n        \"num_unique_values\": 4,\n        \"samples\": [\n          4,\n          6,\n          3\n        ],\n        \"semantic_type\": \"\",\n        \"description\": \"\"\n      }\n    },\n    {\n      \"column\": \"potassium_expectation\",\n      \"properties\": {\n        \"dtype\": \"number\",\n        \"std\": 1,\n        \"min\": 4,\n        \"max\": 9,\n        \"num_unique_values\": 6,\n        \"samples\": [\n          7,\n          6,\n          4\n        ],\n        \"semantic_type\": \"\",\n        \"description\": \"\"\n      }\n    },\n    {\n      \"column\": \"water_expectation\",\n      \"properties\": {\n        \"dtype\": \"number\",\n        \"std\": 1,\n        \"min\": 1,\n        \"max\": 4,\n        \"num_unique_values\": 4,\n        \"samples\": [\n          4,\n          2,\n          1\n        ],\n        \"semantic_type\": \"\",\n        \"description\": \"\"\n      }\n    }\n  ]\n}"
            }
          },
          "metadata": {},
          "execution_count": 3
        }
      ]
    },
    {
      "cell_type": "markdown",
      "source": [
        "## Splitting the Data"
      ],
      "metadata": {
        "id": "MqOjehyRLD3v"
      }
    },
    {
      "cell_type": "code",
      "source": [
        "features = df.columns[1:7]\n",
        "X = torch.tensor(df[features].values, dtype=torch.float32)\n",
        "y = torch.tensor(df[df.columns[7:]].values, dtype=torch.float32)\n",
        "\n"
      ],
      "metadata": {
        "id": "vT2rbf4CLGc3"
      },
      "execution_count": null,
      "outputs": []
    },
    {
      "cell_type": "code",
      "source": [
        "X"
      ],
      "metadata": {
        "colab": {
          "base_uri": "https://localhost:8080/"
        },
        "id": "whAb4AJ4RvU1",
        "outputId": "c98936f2-ba0e-4c90-8782-c8fbfe88d324"
      },
      "execution_count": null,
      "outputs": [
        {
          "output_type": "execute_result",
          "data": {
            "text/plain": [
              "tensor([[ 2.,  3.,  6.,  1.,  1.,  1.],\n",
              "        [ 7.,  0.,  9.,  5.,  5.,  2.],\n",
              "        [ 3.,  4.,  6.,  0.,  3.,  0.],\n",
              "        ...,\n",
              "        [ 7., 10.,  8.,  3.,  1.,  3.],\n",
              "        [ 2.,  5.,  4.,  4.,  1.,  3.],\n",
              "        [ 0.,  0.,  7.,  0.,  2.,  0.]])"
            ]
          },
          "metadata": {},
          "execution_count": 5
        }
      ]
    },
    {
      "cell_type": "code",
      "source": [
        "X_train, X_test, y_train, y_test = train_test_split(X, y, test_size=0.2, random_state=42)"
      ],
      "metadata": {
        "id": "767SYAufRu2C"
      },
      "execution_count": null,
      "outputs": []
    },
    {
      "cell_type": "markdown",
      "source": [
        "## Creating the Neural Network"
      ],
      "metadata": {
        "id": "2K-Z583VLtGv"
      }
    },
    {
      "cell_type": "code",
      "source": [
        "class NeuralNetwork(nn.Module):\n",
        "    def __init__(self):\n",
        "        super(NeuralNetwork, self).__init__()\n",
        "        self.layer1 = nn.Linear(len(features), 32)\n",
        "        self.layer2 = nn.Linear(32, 32)\n",
        "        self.output = nn.Linear(32, 4)\n",
        "\n",
        "    def forward(self, x):\n",
        "        x = torch.relu(self.layer1(x))\n",
        "        x = torch.relu(self.layer2(x))\n",
        "        return self.output(x)"
      ],
      "metadata": {
        "id": "ktfw0eaDLsua"
      },
      "execution_count": null,
      "outputs": []
    },
    {
      "cell_type": "markdown",
      "source": [
        "## Compile Network"
      ],
      "metadata": {
        "id": "qEXs9v8qMBLH"
      }
    },
    {
      "cell_type": "code",
      "source": [
        "model = NeuralNetwork()\n",
        "print(model)"
      ],
      "metadata": {
        "id": "3P6B2IgUMA3Q",
        "colab": {
          "base_uri": "https://localhost:8080/"
        },
        "outputId": "2d447fa9-6e9c-4773-f633-7ffdd549da2b"
      },
      "execution_count": null,
      "outputs": [
        {
          "output_type": "stream",
          "name": "stdout",
          "text": [
            "NeuralNetwork(\n",
            "  (layer1): Linear(in_features=6, out_features=32, bias=True)\n",
            "  (layer2): Linear(in_features=32, out_features=32, bias=True)\n",
            "  (output): Linear(in_features=32, out_features=4, bias=True)\n",
            ")\n"
          ]
        }
      ]
    },
    {
      "cell_type": "markdown",
      "source": [
        "# Loading the Data"
      ],
      "metadata": {
        "id": "vxF-ho-eWUmv"
      }
    },
    {
      "cell_type": "code",
      "source": [
        "# Create a TensorDataset\n",
        "train_dataset = torch.utils.data.TensorDataset(X_train, y_train)\n",
        "\n",
        "# Create a DataLoader with the specified batch size\n",
        "train_loader = torch.utils.data.DataLoader(train_dataset, batch_size=20, shuffle=True)"
      ],
      "metadata": {
        "id": "x-oEM2X-WV8S"
      },
      "execution_count": null,
      "outputs": []
    },
    {
      "cell_type": "markdown",
      "source": [
        "## Loss and optimizer\n"
      ],
      "metadata": {
        "id": "8D_HDqpRMFOd"
      }
    },
    {
      "cell_type": "code",
      "source": [
        "criterion = nn.MSELoss()\n",
        "optimizer = optim.Adam(model.parameters(), lr=0.01)"
      ],
      "metadata": {
        "id": "PNZxqpjvMIz7"
      },
      "execution_count": null,
      "outputs": []
    },
    {
      "cell_type": "markdown",
      "source": [
        "## Training loop\n"
      ],
      "metadata": {
        "id": "jav4JaPeMMya"
      }
    },
    {
      "cell_type": "code",
      "source": [
        "epochs = 100\n",
        "losses = []\n",
        "avg_losses = []\n",
        "for epoch in range(epochs):\n",
        "    model.train()\n",
        "    for inputs, targets in train_loader:  # Iterate over batches\n",
        "        optimizer.zero_grad()\n",
        "        outputs = model(inputs)\n",
        "        loss = criterion(outputs, targets)\n",
        "        loss.backward()\n",
        "        optimizer.step()\n",
        "        losses.append(loss.item())\n",
        "    print(f'Epoch {epoch+1}, Average Loss: {sum(losses) / len(losses)}')\n",
        "    avg_losses.append(sum(losses) / len(losses))"
      ],
      "metadata": {
        "id": "cBXTB_xSMO_h",
        "colab": {
          "base_uri": "https://localhost:8080/"
        },
        "outputId": "ab52a00b-9695-4874-be51-a990503f7882"
      },
      "execution_count": null,
      "outputs": [
        {
          "output_type": "stream",
          "name": "stdout",
          "text": [
            "Epoch 1, Average Loss: 1.8261979362543892\n",
            "Epoch 2, Average Loss: 1.2925112916558397\n",
            "Epoch 3, Average Loss: 1.0832746231478023\n",
            "Epoch 4, Average Loss: 0.9575376257884736\n",
            "Epoch 5, Average Loss: 0.8734548703128217\n",
            "Epoch 6, Average Loss: 0.8089328293317284\n",
            "Epoch 7, Average Loss: 0.7618814940546074\n",
            "Epoch 8, Average Loss: 0.7264448042374616\n",
            "Epoch 9, Average Loss: 0.6968312558265553\n",
            "Epoch 10, Average Loss: 0.6742121596254554\n",
            "Epoch 11, Average Loss: 0.6548359379464505\n",
            "Epoch 12, Average Loss: 0.6402091003857018\n",
            "Epoch 13, Average Loss: 0.625925508042626\n",
            "Epoch 14, Average Loss: 0.6137222025533017\n",
            "Epoch 15, Average Loss: 0.6023623125810249\n",
            "Epoch 16, Average Loss: 0.5951992235347336\n",
            "Epoch 17, Average Loss: 0.586484673337403\n",
            "Epoch 18, Average Loss: 0.5785917661158867\n",
            "Epoch 19, Average Loss: 0.5726930140234122\n",
            "Epoch 20, Average Loss: 0.5656314168636706\n",
            "Epoch 21, Average Loss: 0.5588463871669369\n",
            "Epoch 22, Average Loss: 0.553489516285014\n",
            "Epoch 23, Average Loss: 0.5490306560950511\n",
            "Epoch 24, Average Loss: 0.5444756009147252\n",
            "Epoch 25, Average Loss: 0.5404718339209463\n",
            "Epoch 26, Average Loss: 0.5369083536269078\n",
            "Epoch 27, Average Loss: 0.5329512224174879\n",
            "Epoch 28, Average Loss: 0.5294924158008159\n",
            "Epoch 29, Average Loss: 0.5262128547226923\n",
            "Epoch 30, Average Loss: 0.5233860394728729\n",
            "Epoch 31, Average Loss: 0.5207506811445383\n",
            "Epoch 32, Average Loss: 0.518060798619819\n",
            "Epoch 33, Average Loss: 0.5159927418259589\n",
            "Epoch 34, Average Loss: 0.5132496563036687\n",
            "Epoch 35, Average Loss: 0.5108554776517951\n",
            "Epoch 36, Average Loss: 0.5087720901545032\n",
            "Epoch 37, Average Loss: 0.5068507055259913\n",
            "Epoch 38, Average Loss: 0.5049366530826771\n",
            "Epoch 39, Average Loss: 0.5031462687719941\n",
            "Epoch 40, Average Loss: 0.5012868417646078\n",
            "Epoch 41, Average Loss: 0.499283818605555\n",
            "Epoch 42, Average Loss: 0.4975010381644569\n",
            "Epoch 43, Average Loss: 0.4959690498907545\n",
            "Epoch 44, Average Loss: 0.49442549451269246\n",
            "Epoch 45, Average Loss: 0.493007643063084\n",
            "Epoch 46, Average Loss: 0.49170172929077804\n",
            "Epoch 47, Average Loss: 0.4903069609837528\n",
            "Epoch 48, Average Loss: 0.4887134863788055\n",
            "Epoch 49, Average Loss: 0.4875889584010675\n",
            "Epoch 50, Average Loss: 0.4862877244458479\n",
            "Epoch 51, Average Loss: 0.4854600749729414\n",
            "Epoch 52, Average Loss: 0.48421019074390464\n",
            "Epoch 53, Average Loss: 0.4828990886812734\n",
            "Epoch 54, Average Loss: 0.4819209332575855\n",
            "Epoch 55, Average Loss: 0.4808151769951491\n",
            "Epoch 56, Average Loss: 0.47985680369237643\n",
            "Epoch 57, Average Loss: 0.4786486045797338\n",
            "Epoch 58, Average Loss: 0.4776534040340747\n",
            "Epoch 59, Average Loss: 0.4766193007231353\n",
            "Epoch 60, Average Loss: 0.47550193195054735\n",
            "Epoch 61, Average Loss: 0.4744989751586382\n",
            "Epoch 62, Average Loss: 0.47358139112572895\n",
            "Epoch 63, Average Loss: 0.47246433333272025\n",
            "Epoch 64, Average Loss: 0.4713731766975138\n",
            "Epoch 65, Average Loss: 0.4704480172844314\n",
            "Epoch 66, Average Loss: 0.4696009765670757\n",
            "Epoch 67, Average Loss: 0.4689474172120489\n",
            "Epoch 68, Average Loss: 0.4681657682416795\n",
            "Epoch 69, Average Loss: 0.46712142821273267\n",
            "Epoch 70, Average Loss: 0.46630605509092493\n",
            "Epoch 71, Average Loss: 0.46553875505306946\n",
            "Epoch 72, Average Loss: 0.464827953115479\n",
            "Epoch 73, Average Loss: 0.464039453386604\n",
            "Epoch 74, Average Loss: 0.4630920459009474\n",
            "Epoch 75, Average Loss: 0.46213376814049056\n",
            "Epoch 76, Average Loss: 0.46135732787973616\n",
            "Epoch 77, Average Loss: 0.46055760833562587\n",
            "Epoch 78, Average Loss: 0.45969402093520834\n",
            "Epoch 79, Average Loss: 0.4589829522830643\n",
            "Epoch 80, Average Loss: 0.4581992827045421\n",
            "Epoch 81, Average Loss: 0.45741279930944045\n",
            "Epoch 82, Average Loss: 0.45672386707065493\n",
            "Epoch 83, Average Loss: 0.45607922531219064\n",
            "Epoch 84, Average Loss: 0.45538773932202914\n",
            "Epoch 85, Average Loss: 0.45466962894113283\n",
            "Epoch 86, Average Loss: 0.45404514444272537\n",
            "Epoch 87, Average Loss: 0.4534370854248435\n",
            "Epoch 88, Average Loss: 0.45285238805866124\n",
            "Epoch 89, Average Loss: 0.4521378710649302\n",
            "Epoch 90, Average Loss: 0.45151984934940576\n",
            "Epoch 91, Average Loss: 0.45082926310147736\n",
            "Epoch 92, Average Loss: 0.45022775319651825\n",
            "Epoch 93, Average Loss: 0.44966276110494136\n",
            "Epoch 94, Average Loss: 0.4494188399748425\n",
            "Epoch 95, Average Loss: 0.44908951100488687\n",
            "Epoch 96, Average Loss: 0.44876921482481597\n",
            "Epoch 97, Average Loss: 0.44827219291735304\n",
            "Epoch 98, Average Loss: 0.4476773900543751\n",
            "Epoch 99, Average Loss: 0.4470643654043638\n",
            "Epoch 100, Average Loss: 0.44650081473530506\n"
          ]
        }
      ]
    },
    {
      "cell_type": "markdown",
      "source": [
        "\n",
        "## Plotting the loss over epochs"
      ],
      "metadata": {
        "id": "L5rOJ4aQMUc6"
      }
    },
    {
      "cell_type": "code",
      "source": [
        "plt.figure(figsize=(10, 5))\n",
        "plt.plot(avg_losses, label='Training Loss')\n",
        "plt.title('Loss During Training')\n",
        "plt.xlabel('Epoch')\n",
        "plt.ylabel('Loss')\n",
        "plt.legend()\n",
        "plt.show()"
      ],
      "metadata": {
        "id": "MuUMWxahMXPx",
        "colab": {
          "base_uri": "https://localhost:8080/",
          "height": 487
        },
        "outputId": "1478d412-4e27-4f33-e66d-c16319e74f6b"
      },
      "execution_count": null,
      "outputs": [
        {
          "output_type": "display_data",
          "data": {
            "text/plain": [
              "<Figure size 1000x500 with 1 Axes>"
            ],
            "image/png": "[encoded data removed]"
          },
          "metadata": {}
        }
      ]
    },
    {
      "cell_type": "code",
      "source": [
        "model.eval()\n",
        "\n",
        "# Forward pass to obtain predictions\n",
        "with torch.no_grad():\n",
        "    predictions = model(X_test)"
      ],
      "metadata": {
        "id": "M3JLOrkGTTmC"
      },
      "execution_count": null,
      "outputs": []
    },
    {
      "cell_type": "code",
      "source": [
        "predictions"
      ],
      "metadata": {
        "colab": {
          "base_uri": "https://localhost:8080/"
        },
        "id": "8MoXoknsT4Mx",
        "outputId": "f229364e-6224-4cee-bf0c-617978f48f06"
      },
      "execution_count": null,
      "outputs": [
        {
          "output_type": "execute_result",
          "data": {
            "text/plain": [
              "tensor([[1.1200, 4.0250, 7.9421, 3.2367],\n",
              "        [1.2327, 3.7492, 5.7081, 1.1165],\n",
              "        [3.1896, 4.4482, 7.9850, 3.7554],\n",
              "        ...,\n",
              "        [3.0202, 4.3292, 7.7901, 4.1068],\n",
              "        [1.0308, 3.8558, 5.9856, 1.0159],\n",
              "        [2.4062, 4.3787, 6.5496, 1.8906]])"
            ]
          },
          "metadata": {},
          "execution_count": 21
        }
      ]
    },
    {
      "cell_type": "code",
      "source": [
        "y_test"
      ],
      "metadata": {
        "colab": {
          "base_uri": "https://localhost:8080/"
        },
        "id": "8rqCMtmxT6hH",
        "outputId": "5c64ad10-d9ed-4adc-c738-53cdf9a21552"
      },
      "execution_count": null,
      "outputs": [
        {
          "output_type": "execute_result",
          "data": {
            "text/plain": [
              "tensor([[1., 5., 6., 3.],\n",
              "        [1., 4., 5., 1.],\n",
              "        [3., 5., 7., 4.],\n",
              "        ...,\n",
              "        [3., 5., 6., 4.],\n",
              "        [1., 3., 6., 1.],\n",
              "        [2., 4., 5., 2.]])"
            ]
          },
          "metadata": {},
          "execution_count": 22
        }
      ]
    },
    {
      "cell_type": "code",
      "source": [
        "from sklearn.metrics import mean_absolute_error, mean_squared_error, r2_score\n",
        "import numpy as np\n",
        "\n",
        "# Calculate Mean Absolute Error (MAE)\n",
        "mae = mean_absolute_error(y_test, predictions)\n",
        "\n",
        "# Calculate Mean Squared Error (MSE)\n",
        "mse = mean_squared_error(y_test, predictions)\n",
        "\n",
        "# Calculate Root Mean Squared Error (RMSE)\n",
        "rmse = np.sqrt(mse)\n",
        "\n",
        "# Calculate R-squared (R2) Score\n",
        "r2 = r2_score(y_test, predictions)\n"
      ],
      "metadata": {
        "id": "MDi8gu_qUQlM"
      },
      "execution_count": null,
      "outputs": []
    },
    {
      "cell_type": "code",
      "source": [
        "print(\"Mean Absolute Error (MAE):\", mae)\n",
        "print(\"Mean Squared Error (MSE):\", mse)\n",
        "print(\"Root Mean Squared Error (RMSE):\", rmse)\n",
        "print(\"R-squared (R2) Score:\", r2)"
      ],
      "metadata": {
        "colab": {
          "base_uri": "https://localhost:8080/"
        },
        "id": "9fZKnjtHVOCA",
        "outputId": "f19dc1b9-6093-4efc-b91f-24cdca034e2d"
      },
      "execution_count": null,
      "outputs": [
        {
          "output_type": "stream",
          "name": "stdout",
          "text": [
            "Mean Absolute Error (MAE): 0.4413381\n",
            "Mean Squared Error (MSE): 0.4186964\n",
            "Root Mean Squared Error (RMSE): 0.64706755\n",
            "R-squared (R2) Score: 0.6585907735313933\n"
          ]
        }
      ]
    },
    {
      "cell_type": "markdown",
      "source": [
        "# Saving the Model"
      ],
      "metadata": {
        "id": "HOf1ST8vYY-y"
      }
    },
    {
      "cell_type": "code",
      "source": [
        "# Save the model\n",
        "torch.save(model.state_dict(), 'model2.pth')"
      ],
      "metadata": {
        "id": "t3P392BBYaWU"
      },
      "execution_count": null,
      "outputs": []
    },
    {
      "cell_type": "markdown",
      "source": [
        "# ONNX Export"
      ],
      "metadata": {
        "id": "o5r-l16XZcG9"
      }
    },
    {
      "cell_type": "code",
      "source": [
        "!pip install -q onnx onnxruntime"
      ],
      "metadata": {
        "colab": {
          "base_uri": "https://localhost:8080/"
        },
        "id": "7smhuemVZu_7",
        "outputId": "bc2571df-5633-4e00-f47a-4f6c7b6bb48f"
      },
      "execution_count": null,
      "outputs": [
        {
          "output_type": "stream",
          "name": "stdout",
          "text": [
            "\u001b[2K     \u001b[90m━━━━━━━━━━━━━━━━━━━━━━━━━━━━━━━━━━━━━━━━\u001b[0m \u001b[32m6.8/6.8 MB\u001b[0m \u001b[31m11.5 MB/s\u001b[0m eta \u001b[36m0:00:00\u001b[0m\n",
            "\u001b[2K     \u001b[90m━━━━━━━━━━━━━━━━━━━━━━━━━━━━━━━━━━━━━━━━\u001b[0m \u001b[32m46.0/46.0 kB\u001b[0m \u001b[31m3.6 MB/s\u001b[0m eta \u001b[36m0:00:00\u001b[0m\n",
            "\u001b[2K     \u001b[90m━━━━━━━━━━━━━━━━━━━━━━━━━━━━━━━━━━━━━━━━\u001b[0m \u001b[32m86.8/86.8 kB\u001b[0m \u001b[31m7.4 MB/s\u001b[0m eta \u001b[36m0:00:00\u001b[0m\n",
            "\u001b[?25h"
          ]
        }
      ]
    },
    {
      "cell_type": "code",
      "source": [
        "import torch.onnx\n",
        "\n",
        "# Input to the model\n",
        "dummy_input = torch.randn(1, 6)\n",
        "\n",
        "# Export the model\n",
        "torch.onnx.export(model, dummy_input, 'model_b1.onnx', input_names = ['input'], output_names = ['output'])\n"
      ],
      "metadata": {
        "id": "OZm3oZoNZd9O"
      },
      "execution_count": null,
      "outputs": []
    },
    {
      "cell_type": "markdown",
      "source": [
        "# ONNX Inference"
      ],
      "metadata": {
        "id": "RDhRC94FhMJS"
      }
    },
    {
      "cell_type": "code",
      "source": [
        "import onnx\n",
        "onnx_model = onnx.load(\"model_b1.onnx\")\n",
        "onnx.checker.check_model(onnx_model)"
      ],
      "metadata": {
        "id": "sPMgWYb8cRB0"
      },
      "execution_count": null,
      "outputs": []
    },
    {
      "cell_type": "code",
      "source": [
        "import onnxruntime as ort\n",
        "\n",
        "# Load the ONNX model\n",
        "onnx_model_path = 'model_b1.onnx'\n",
        "ort_session = ort.InferenceSession(onnx_model_path)\n",
        "\n",
        "test_data = [\n",
        "    [\n",
        "        [1, 9, 8, 2, 1, 1],\n",
        "        [1, 5, 6, 3]\n",
        "    ]\n",
        "]\n",
        "\n",
        "# Extract input data\n",
        "x, y = np.array(test_data[0][0], dtype=np.float32), np.array(test_data[0][1], dtype=np.float32)\n",
        "x = np.expand_dims(x, axis=0)  # Add batch dimension\n",
        "\n",
        "# x, y = test_data[0][0], test_data[0][1]\n",
        "ort_sess = ort.InferenceSession('model_b1.onnx')\n",
        "outputs = ort_sess.run(None, {'input': x})\n",
        "\n",
        "\n",
        "# # Print Result\n",
        "# predicted, actual = classes[outputs[0][0].argmax(0)], classes[y]\n",
        "# print(f'Predicted: \"{predicted}\", Actual: \"{actual}\"')"
      ],
      "metadata": {
        "id": "6cvYQjUnaT35"
      },
      "execution_count": null,
      "outputs": []
    },
    {
      "cell_type": "code",
      "source": [
        "outputs"
      ],
      "metadata": {
        "colab": {
          "base_uri": "https://localhost:8080/"
        },
        "id": "eFXaNiTqeTPW",
        "outputId": "5a67f727-c33f-4b1d-c035-bcdc0dc6fb8a"
      },
      "execution_count": null,
      "outputs": [
        {
          "output_type": "execute_result",
          "data": {
            "text/plain": [
              "[array([[1.1725955, 3.875077 , 6.0841513, 1.1079917]], dtype=float32)]"
            ]
          },
          "metadata": {},
          "execution_count": 68
        }
      ]
    }
  ]
}